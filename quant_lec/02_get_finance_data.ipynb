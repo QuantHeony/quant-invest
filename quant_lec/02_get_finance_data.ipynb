{
 "cells": [
  {
   "cell_type": "markdown",
   "source": [
    "## Finanace Data Reader 가져오기\n",
    "[FinanceDataReader 사용자 안내서 URL](https://financedata.github.io/posts/finance-data-reader-users-guide.html)"
   ],
   "metadata": {
    "collapsed": false
   },
   "id": "52380aae4dc6f83f"
  },
  {
   "cell_type": "code",
   "execution_count": 2,
   "outputs": [
    {
     "name": "stdout",
     "output_type": "stream",
     "text": [
      "Collecting finance-datareader\n",
      "  Obtaining dependency information for finance-datareader from https://files.pythonhosted.org/packages/5f/5b/c9829f8e98f770c413fa9725f101d13d498d1bef9908103a4e5a44432314/finance_datareader-0.9.66-py3-none-any.whl.metadata\n",
      "  Downloading finance_datareader-0.9.66-py3-none-any.whl.metadata (466 bytes)\n",
      "Requirement already satisfied: pandas>=0.19.2 in c:\\users\\jhsh\\anaconda3\\lib\\site-packages (from finance-datareader) (2.0.3)\n",
      "Requirement already satisfied: requests>=2.3.0 in c:\\users\\jhsh\\anaconda3\\lib\\site-packages (from finance-datareader) (2.31.0)\n",
      "Requirement already satisfied: requests-file in c:\\users\\jhsh\\anaconda3\\lib\\site-packages (from finance-datareader) (1.5.1)\n",
      "Requirement already satisfied: lxml in c:\\users\\jhsh\\anaconda3\\lib\\site-packages (from finance-datareader) (4.9.3)\n",
      "Requirement already satisfied: tqdm in c:\\users\\jhsh\\anaconda3\\lib\\site-packages (from finance-datareader) (4.65.0)\n",
      "Requirement already satisfied: python-dateutil>=2.8.2 in c:\\users\\jhsh\\anaconda3\\lib\\site-packages (from pandas>=0.19.2->finance-datareader) (2.8.2)\n",
      "Requirement already satisfied: pytz>=2020.1 in c:\\users\\jhsh\\anaconda3\\lib\\site-packages (from pandas>=0.19.2->finance-datareader) (2023.3.post1)\n",
      "Requirement already satisfied: tzdata>=2022.1 in c:\\users\\jhsh\\anaconda3\\lib\\site-packages (from pandas>=0.19.2->finance-datareader) (2023.3)\n",
      "Requirement already satisfied: numpy>=1.21.0 in c:\\users\\jhsh\\anaconda3\\lib\\site-packages (from pandas>=0.19.2->finance-datareader) (1.24.3)\n",
      "Requirement already satisfied: charset-normalizer<4,>=2 in c:\\users\\jhsh\\anaconda3\\lib\\site-packages (from requests>=2.3.0->finance-datareader) (2.0.4)\n",
      "Requirement already satisfied: idna<4,>=2.5 in c:\\users\\jhsh\\anaconda3\\lib\\site-packages (from requests>=2.3.0->finance-datareader) (3.4)\n",
      "Requirement already satisfied: urllib3<3,>=1.21.1 in c:\\users\\jhsh\\anaconda3\\lib\\site-packages (from requests>=2.3.0->finance-datareader) (1.26.16)\n",
      "Requirement already satisfied: certifi>=2017.4.17 in c:\\users\\jhsh\\anaconda3\\lib\\site-packages (from requests>=2.3.0->finance-datareader) (2023.11.17)\n",
      "Requirement already satisfied: six in c:\\users\\jhsh\\anaconda3\\lib\\site-packages (from requests-file->finance-datareader) (1.16.0)\n",
      "Requirement already satisfied: colorama in c:\\users\\jhsh\\anaconda3\\lib\\site-packages (from tqdm->finance-datareader) (0.4.6)\n",
      "Downloading finance_datareader-0.9.66-py3-none-any.whl (23 kB)\n",
      "Installing collected packages: finance-datareader\n",
      "Successfully installed finance-datareader-0.9.66\n"
     ]
    }
   ],
   "source": [
    "!pip install -U finance-datareader"
   ],
   "metadata": {
    "collapsed": false,
    "ExecuteTime": {
     "end_time": "2023-11-25T17:46:34.273649200Z",
     "start_time": "2023-11-25T17:46:26.177129100Z"
    }
   },
   "id": "6a9f91eb31fc55ae"
  },
  {
   "cell_type": "code",
   "execution_count": 3,
   "outputs": [],
   "source": [
    "import FinanceDataReader as fdr"
   ],
   "metadata": {
    "collapsed": false,
    "ExecuteTime": {
     "end_time": "2023-11-25T17:46:43.569626600Z",
     "start_time": "2023-11-25T17:46:42.572672900Z"
    }
   },
   "id": "c93133b1b3c686e3"
  },
  {
   "cell_type": "code",
   "execution_count": 5,
   "outputs": [
    {
     "data": {
      "text/plain": "             Open   High    Low  Close    Volume    Change\nDate                                                      \n2023-01-02  55500  56100  55200  55500  10031448  0.003617\n2023-01-03  55400  56000  54500  55400  13547030 -0.001802\n2023-01-04  55700  58000  55600  57800  20188071  0.043321\n2023-01-05  58200  58800  57600  58200  15682826  0.006920\n2023-01-06  58300  59400  57900  59000  17334989  0.013746\n...           ...    ...    ...    ...       ...       ...\n2023-11-20  72100  73000  72100  72700  10610157  0.002759\n2023-11-21  73100  73400  72700  72800   9712881  0.001376\n2023-11-22  72200  73000  71900  72800  11105143  0.000000\n2023-11-23  73000  73200  72200  72400   6775614 -0.005495\n2023-11-24  72400  72600  71700  71700   6394446 -0.009669\n\n[222 rows x 6 columns]",
      "text/html": "<div>\n<style scoped>\n    .dataframe tbody tr th:only-of-type {\n        vertical-align: middle;\n    }\n\n    .dataframe tbody tr th {\n        vertical-align: top;\n    }\n\n    .dataframe thead th {\n        text-align: right;\n    }\n</style>\n<table border=\"1\" class=\"dataframe\">\n  <thead>\n    <tr style=\"text-align: right;\">\n      <th></th>\n      <th>Open</th>\n      <th>High</th>\n      <th>Low</th>\n      <th>Close</th>\n      <th>Volume</th>\n      <th>Change</th>\n    </tr>\n    <tr>\n      <th>Date</th>\n      <th></th>\n      <th></th>\n      <th></th>\n      <th></th>\n      <th></th>\n      <th></th>\n    </tr>\n  </thead>\n  <tbody>\n    <tr>\n      <th>2023-01-02</th>\n      <td>55500</td>\n      <td>56100</td>\n      <td>55200</td>\n      <td>55500</td>\n      <td>10031448</td>\n      <td>0.003617</td>\n    </tr>\n    <tr>\n      <th>2023-01-03</th>\n      <td>55400</td>\n      <td>56000</td>\n      <td>54500</td>\n      <td>55400</td>\n      <td>13547030</td>\n      <td>-0.001802</td>\n    </tr>\n    <tr>\n      <th>2023-01-04</th>\n      <td>55700</td>\n      <td>58000</td>\n      <td>55600</td>\n      <td>57800</td>\n      <td>20188071</td>\n      <td>0.043321</td>\n    </tr>\n    <tr>\n      <th>2023-01-05</th>\n      <td>58200</td>\n      <td>58800</td>\n      <td>57600</td>\n      <td>58200</td>\n      <td>15682826</td>\n      <td>0.006920</td>\n    </tr>\n    <tr>\n      <th>2023-01-06</th>\n      <td>58300</td>\n      <td>59400</td>\n      <td>57900</td>\n      <td>59000</td>\n      <td>17334989</td>\n      <td>0.013746</td>\n    </tr>\n    <tr>\n      <th>...</th>\n      <td>...</td>\n      <td>...</td>\n      <td>...</td>\n      <td>...</td>\n      <td>...</td>\n      <td>...</td>\n    </tr>\n    <tr>\n      <th>2023-11-20</th>\n      <td>72100</td>\n      <td>73000</td>\n      <td>72100</td>\n      <td>72700</td>\n      <td>10610157</td>\n      <td>0.002759</td>\n    </tr>\n    <tr>\n      <th>2023-11-21</th>\n      <td>73100</td>\n      <td>73400</td>\n      <td>72700</td>\n      <td>72800</td>\n      <td>9712881</td>\n      <td>0.001376</td>\n    </tr>\n    <tr>\n      <th>2023-11-22</th>\n      <td>72200</td>\n      <td>73000</td>\n      <td>71900</td>\n      <td>72800</td>\n      <td>11105143</td>\n      <td>0.000000</td>\n    </tr>\n    <tr>\n      <th>2023-11-23</th>\n      <td>73000</td>\n      <td>73200</td>\n      <td>72200</td>\n      <td>72400</td>\n      <td>6775614</td>\n      <td>-0.005495</td>\n    </tr>\n    <tr>\n      <th>2023-11-24</th>\n      <td>72400</td>\n      <td>72600</td>\n      <td>71700</td>\n      <td>71700</td>\n      <td>6394446</td>\n      <td>-0.009669</td>\n    </tr>\n  </tbody>\n</table>\n<p>222 rows × 6 columns</p>\n</div>"
     },
     "execution_count": 5,
     "metadata": {},
     "output_type": "execute_result"
    }
   ],
   "source": [
    "# test\n",
    "fdr.DataReader(\"005930\", \"2023\") # 삼성전자 종목번호 넣고 돌리기"
   ],
   "metadata": {
    "collapsed": false,
    "ExecuteTime": {
     "end_time": "2023-11-25T17:47:57.052715100Z",
     "start_time": "2023-11-25T17:47:56.647002900Z"
    }
   },
   "id": "96ab4e5e50818f8a"
  },
  {
   "cell_type": "code",
   "execution_count": 6,
   "outputs": [
    {
     "data": {
      "text/plain": "                  Open        High         Low       Close     Volume\nDate                                                                 \n2023-01-03  384.369995  386.429993  377.829987  376.639587   74850700\n2023-01-04  383.179993  385.880005  380.000000  379.547333   85934100\n2023-01-05  381.720001  381.839996  378.760010  375.215393   76970500\n2023-01-06  382.609985  389.250000  379.410004  383.819855  104189600\n2023-01-09  390.369995  393.700012  387.670013  383.602295   73978100\n...                ...         ...         ...         ...        ...\n2023-11-17  450.239990  451.420013  449.290009  450.790009   83133200\n2023-11-20  450.529999  455.130005  450.519989  454.260010   69936200\n2023-11-21  453.179993  454.130005  451.959991  453.269989   49244600\n2023-11-22  454.980011  456.380005  453.890015  455.019989   59394900\n2023-11-24  455.070007  455.500000  454.730011  455.299988   29737400\n\n[226 rows x 5 columns]",
      "text/html": "<div>\n<style scoped>\n    .dataframe tbody tr th:only-of-type {\n        vertical-align: middle;\n    }\n\n    .dataframe tbody tr th {\n        vertical-align: top;\n    }\n\n    .dataframe thead th {\n        text-align: right;\n    }\n</style>\n<table border=\"1\" class=\"dataframe\">\n  <thead>\n    <tr style=\"text-align: right;\">\n      <th></th>\n      <th>Open</th>\n      <th>High</th>\n      <th>Low</th>\n      <th>Close</th>\n      <th>Volume</th>\n    </tr>\n    <tr>\n      <th>Date</th>\n      <th></th>\n      <th></th>\n      <th></th>\n      <th></th>\n      <th></th>\n    </tr>\n  </thead>\n  <tbody>\n    <tr>\n      <th>2023-01-03</th>\n      <td>384.369995</td>\n      <td>386.429993</td>\n      <td>377.829987</td>\n      <td>376.639587</td>\n      <td>74850700</td>\n    </tr>\n    <tr>\n      <th>2023-01-04</th>\n      <td>383.179993</td>\n      <td>385.880005</td>\n      <td>380.000000</td>\n      <td>379.547333</td>\n      <td>85934100</td>\n    </tr>\n    <tr>\n      <th>2023-01-05</th>\n      <td>381.720001</td>\n      <td>381.839996</td>\n      <td>378.760010</td>\n      <td>375.215393</td>\n      <td>76970500</td>\n    </tr>\n    <tr>\n      <th>2023-01-06</th>\n      <td>382.609985</td>\n      <td>389.250000</td>\n      <td>379.410004</td>\n      <td>383.819855</td>\n      <td>104189600</td>\n    </tr>\n    <tr>\n      <th>2023-01-09</th>\n      <td>390.369995</td>\n      <td>393.700012</td>\n      <td>387.670013</td>\n      <td>383.602295</td>\n      <td>73978100</td>\n    </tr>\n    <tr>\n      <th>...</th>\n      <td>...</td>\n      <td>...</td>\n      <td>...</td>\n      <td>...</td>\n      <td>...</td>\n    </tr>\n    <tr>\n      <th>2023-11-17</th>\n      <td>450.239990</td>\n      <td>451.420013</td>\n      <td>449.290009</td>\n      <td>450.790009</td>\n      <td>83133200</td>\n    </tr>\n    <tr>\n      <th>2023-11-20</th>\n      <td>450.529999</td>\n      <td>455.130005</td>\n      <td>450.519989</td>\n      <td>454.260010</td>\n      <td>69936200</td>\n    </tr>\n    <tr>\n      <th>2023-11-21</th>\n      <td>453.179993</td>\n      <td>454.130005</td>\n      <td>451.959991</td>\n      <td>453.269989</td>\n      <td>49244600</td>\n    </tr>\n    <tr>\n      <th>2023-11-22</th>\n      <td>454.980011</td>\n      <td>456.380005</td>\n      <td>453.890015</td>\n      <td>455.019989</td>\n      <td>59394900</td>\n    </tr>\n    <tr>\n      <th>2023-11-24</th>\n      <td>455.070007</td>\n      <td>455.500000</td>\n      <td>454.730011</td>\n      <td>455.299988</td>\n      <td>29737400</td>\n    </tr>\n  </tbody>\n</table>\n<p>226 rows × 5 columns</p>\n</div>"
     },
     "execution_count": 6,
     "metadata": {},
     "output_type": "execute_result"
    }
   ],
   "source": [
    "# test\n",
    "fdr.DataReader(\"SPY\", \"2023\") # 미국 ETF, SPY 종목기호를 넣고 돌리기"
   ],
   "metadata": {
    "collapsed": false,
    "ExecuteTime": {
     "end_time": "2023-11-25T17:48:13.178549900Z",
     "start_time": "2023-11-25T17:48:12.704922200Z"
    }
   },
   "id": "7e75235d34ed8afb"
  }
 ],
 "metadata": {
  "kernelspec": {
   "display_name": "Python 3",
   "language": "python",
   "name": "python3"
  },
  "language_info": {
   "codemirror_mode": {
    "name": "ipython",
    "version": 2
   },
   "file_extension": ".py",
   "mimetype": "text/x-python",
   "name": "python",
   "nbconvert_exporter": "python",
   "pygments_lexer": "ipython2",
   "version": "2.7.6"
  }
 },
 "nbformat": 4,
 "nbformat_minor": 5
}
