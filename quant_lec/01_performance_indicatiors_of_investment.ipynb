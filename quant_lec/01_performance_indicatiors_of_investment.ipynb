{
 "cells": [
  {
   "cell_type": "code",
   "execution_count": 2,
   "outputs": [
    {
     "name": "stdout",
     "output_type": "stream",
     "text": [
      "Collecting finance-datareader==0.9.33 (from -r ./requirements.txt (line 1))\n",
      "  Downloading finance_datareader-0.9.33-py3-none-any.whl (48 kB)\n",
      "     ---------------------------------------- 0.0/48.9 kB ? eta -:--:--\n",
      "     -------- ------------------------------- 10.2/48.9 kB ? eta -:--:--\n",
      "     -------------------------------------- 48.9/48.9 kB 623.1 kB/s eta 0:00:00\n",
      "Collecting pandas==1.3.4 (from -r ./requirements.txt (line 2))\n",
      "  Downloading pandas-1.3.4.tar.gz (4.7 MB)\n",
      "     ---------------------------------------- 0.0/4.7 MB ? eta -:--:--\n",
      "     -- ------------------------------------- 0.3/4.7 MB 6.5 MB/s eta 0:00:01\n",
      "     ------- -------------------------------- 0.9/4.7 MB 9.2 MB/s eta 0:00:01\n",
      "     -------------- ------------------------- 1.7/4.7 MB 12.0 MB/s eta 0:00:01\n",
      "     ----------------------- ---------------- 2.8/4.7 MB 16.4 MB/s eta 0:00:01\n",
      "     ----------------------------------- ---- 4.2/4.7 MB 19.3 MB/s eta 0:00:01\n",
      "     ---------------------------------------- 4.7/4.7 MB 17.8 MB/s eta 0:00:00\n",
      "  Installing build dependencies: started\n",
      "  Installing build dependencies: finished with status 'done'\n",
      "  Getting requirements to build wheel: started\n",
      "  Getting requirements to build wheel: still running...\n",
      "  Getting requirements to build wheel: finished with status 'done'\n",
      "  Preparing metadata (pyproject.toml): started\n",
      "  Preparing metadata (pyproject.toml): finished with status 'done'\n",
      "Collecting numpy==1.20.3 (from -r ./requirements.txt (line 3))\n",
      "  Downloading numpy-1.20.3.zip (7.8 MB)\n",
      "     ---------------------------------------- 0.0/7.8 MB ? eta -:--:--\n",
      "     --------- ------------------------------ 1.9/7.8 MB 40.3 MB/s eta 0:00:01\n",
      "     ------------------ --------------------- 3.7/7.8 MB 39.1 MB/s eta 0:00:01\n",
      "     -------------------------- ------------- 5.2/7.8 MB 36.7 MB/s eta 0:00:01\n",
      "     --------------------------- ------------ 5.2/7.8 MB 37.1 MB/s eta 0:00:01\n",
      "     --------------------------- ------------ 5.2/7.8 MB 37.1 MB/s eta 0:00:01\n",
      "     --------------------------- ------------ 5.2/7.8 MB 37.1 MB/s eta 0:00:01\n",
      "     --------------------------- ------------ 5.2/7.8 MB 37.1 MB/s eta 0:00:01\n",
      "     --------------------------- ------------ 5.2/7.8 MB 37.1 MB/s eta 0:00:01\n",
      "     --------------------------- ------------ 5.2/7.8 MB 37.1 MB/s eta 0:00:01\n",
      "     ------------------------------- -------- 6.2/7.8 MB 13.2 MB/s eta 0:00:01\n",
      "     --------------------------------- ------ 6.5/7.8 MB 12.6 MB/s eta 0:00:01\n",
      "     ---------------------------------------  7.8/7.8 MB 14.2 MB/s eta 0:00:01\n",
      "     ---------------------------------------- 7.8/7.8 MB 13.4 MB/s eta 0:00:00\n",
      "  Installing build dependencies: started\n",
      "  Installing build dependencies: finished with status 'done'\n",
      "  Getting requirements to build wheel: started\n",
      "  Getting requirements to build wheel: finished with status 'done'\n",
      "  Preparing metadata (pyproject.toml): started\n",
      "  Preparing metadata (pyproject.toml): finished with status 'error'\n"
     ]
    },
    {
     "name": "stderr",
     "output_type": "stream",
     "text": [
      "  error: subprocess-exited-with-error\n",
      "  \n",
      "  Preparing metadata (pyproject.toml) did not run successfully.\n",
      "  exit code: 1\n",
      "  \n",
      "  [199 lines of output]\n",
      "  setup.py:66: RuntimeWarning: NumPy 1.20.3 may not yet support Python 3.11.\n",
      "    warnings.warn(\n",
      "  Running from numpy source directory.\n",
      "  setup.py:485: UserWarning: Unrecognized setuptools command, proceeding with generating Cython sources and expanding templates\n",
      "    run_build = parse_setuppy_commands()\n",
      "  Processing numpy/random\\_bounded_integers.pxd.in\n",
      "  Processing numpy/random\\bit_generator.pyx\n",
      "  Processing numpy/random\\mtrand.pyx\n",
      "  Processing numpy/random\\_bounded_integers.pyx.in\n",
      "  Processing numpy/random\\_common.pyx\n",
      "  Processing numpy/random\\_generator.pyx\n",
      "  Processing numpy/random\\_mt19937.pyx\n",
      "  Processing numpy/random\\_pcg64.pyx\n",
      "  Processing numpy/random\\_philox.pyx\n",
      "  Processing numpy/random\\_sfc64.pyx\n",
      "  Cythonizing sources\n",
      "  blas_opt_info:\n",
      "  blas_mkl_info:\n",
      "  No module named 'numpy.distutils._msvccompiler' in numpy.distutils; trying from distutils\n",
      "  customize MSVCCompiler\n",
      "    libraries mkl_rt not found in ['C:\\\\Users\\\\jhsh\\\\anaconda3\\\\lib', 'C:\\\\', 'C:\\\\Users\\\\jhsh\\\\anaconda3\\\\libs']\n",
      "    NOT AVAILABLE\n",
      "  \n",
      "  blis_info:\n",
      "    libraries blis not found in ['C:\\\\Users\\\\jhsh\\\\anaconda3\\\\lib', 'C:\\\\', 'C:\\\\Users\\\\jhsh\\\\anaconda3\\\\libs']\n",
      "    NOT AVAILABLE\n",
      "  \n",
      "  openblas_info:\n",
      "    libraries openblas not found in ['C:\\\\Users\\\\jhsh\\\\anaconda3\\\\lib', 'C:\\\\', 'C:\\\\Users\\\\jhsh\\\\anaconda3\\\\libs']\n",
      "  get_default_fcompiler: matching types: '['gnu', 'intelv', 'absoft', 'compaqv', 'intelev', 'gnu95', 'g95', 'intelvem', 'intelem', 'flang']'\n",
      "  customize GnuFCompiler\n",
      "  Could not locate executable g77\n",
      "  Could not locate executable f77\n",
      "  customize IntelVisualFCompiler\n",
      "  Could not locate executable ifort\n",
      "  Could not locate executable ifl\n",
      "  customize AbsoftFCompiler\n",
      "  Could not locate executable f90\n",
      "  customize CompaqVisualFCompiler\n",
      "  Could not locate executable DF\n",
      "  customize IntelItaniumVisualFCompiler\n",
      "  Could not locate executable efl\n",
      "  customize Gnu95FCompiler\n",
      "  Could not locate executable gfortran\n",
      "  Could not locate executable f95\n",
      "  customize G95FCompiler\n",
      "  Could not locate executable g95\n",
      "  customize IntelEM64VisualFCompiler\n",
      "  customize IntelEM64TFCompiler\n",
      "  Could not locate executable efort\n",
      "  Could not locate executable efc\n",
      "  customize PGroupFlangCompiler\n",
      "  Could not locate executable flang\n",
      "  don't know how to compile Fortran code on platform 'nt'\n",
      "    NOT AVAILABLE\n",
      "  \n",
      "  atlas_3_10_blas_threads_info:\n",
      "  Setting PTATLAS=ATLAS\n",
      "    libraries tatlas not found in ['C:\\\\Users\\\\jhsh\\\\anaconda3\\\\lib', 'C:\\\\', 'C:\\\\Users\\\\jhsh\\\\anaconda3\\\\libs']\n",
      "    NOT AVAILABLE\n",
      "  \n",
      "  atlas_3_10_blas_info:\n",
      "    libraries satlas not found in ['C:\\\\Users\\\\jhsh\\\\anaconda3\\\\lib', 'C:\\\\', 'C:\\\\Users\\\\jhsh\\\\anaconda3\\\\libs']\n",
      "    NOT AVAILABLE\n",
      "  \n",
      "  atlas_blas_threads_info:\n",
      "  Setting PTATLAS=ATLAS\n",
      "    libraries ptf77blas,ptcblas,atlas not found in ['C:\\\\Users\\\\jhsh\\\\anaconda3\\\\lib', 'C:\\\\', 'C:\\\\Users\\\\jhsh\\\\anaconda3\\\\libs']\n",
      "    NOT AVAILABLE\n",
      "  \n",
      "  atlas_blas_info:\n",
      "    libraries f77blas,cblas,atlas not found in ['C:\\\\Users\\\\jhsh\\\\anaconda3\\\\lib', 'C:\\\\', 'C:\\\\Users\\\\jhsh\\\\anaconda3\\\\libs']\n",
      "    NOT AVAILABLE\n",
      "  \n",
      "  C:\\Users\\jhsh\\AppData\\Local\\Temp\\pip-install-q63lrups\\numpy_e099ac9e556e49edbc209ce745dafbf8\\numpy\\distutils\\system_info.py:1989: UserWarning:\n",
      "      Optimized (vendor) Blas libraries are not found.\n",
      "      Falls back to netlib Blas library which has worse performance.\n",
      "      A better performance should be easily gained by switching\n",
      "      Blas library.\n",
      "    if self._calc_info(blas):\n",
      "  blas_info:\n",
      "    libraries blas not found in ['C:\\\\Users\\\\jhsh\\\\anaconda3\\\\lib', 'C:\\\\', 'C:\\\\Users\\\\jhsh\\\\anaconda3\\\\libs']\n",
      "    NOT AVAILABLE\n",
      "  \n",
      "  C:\\Users\\jhsh\\AppData\\Local\\Temp\\pip-install-q63lrups\\numpy_e099ac9e556e49edbc209ce745dafbf8\\numpy\\distutils\\system_info.py:1989: UserWarning:\n",
      "      Blas (http://www.netlib.org/blas/) libraries not found.\n",
      "      Directories to search for the libraries can be specified in the\n",
      "      numpy/distutils/site.cfg file (section [blas]) or by setting\n",
      "      the BLAS environment variable.\n",
      "    if self._calc_info(blas):\n",
      "  blas_src_info:\n",
      "    NOT AVAILABLE\n",
      "  \n",
      "  C:\\Users\\jhsh\\AppData\\Local\\Temp\\pip-install-q63lrups\\numpy_e099ac9e556e49edbc209ce745dafbf8\\numpy\\distutils\\system_info.py:1989: UserWarning:\n",
      "      Blas (http://www.netlib.org/blas/) sources not found.\n",
      "      Directories to search for the sources can be specified in the\n",
      "      numpy/distutils/site.cfg file (section [blas_src]) or by setting\n",
      "      the BLAS_SRC environment variable.\n",
      "    if self._calc_info(blas):\n",
      "    NOT AVAILABLE\n",
      "  \n",
      "  non-existing path in 'numpy\\\\distutils': 'site.cfg'\n",
      "  lapack_opt_info:\n",
      "  lapack_mkl_info:\n",
      "    libraries mkl_rt not found in ['C:\\\\Users\\\\jhsh\\\\anaconda3\\\\lib', 'C:\\\\', 'C:\\\\Users\\\\jhsh\\\\anaconda3\\\\libs']\n",
      "    NOT AVAILABLE\n",
      "  \n",
      "  openblas_lapack_info:\n",
      "    libraries openblas not found in ['C:\\\\Users\\\\jhsh\\\\anaconda3\\\\lib', 'C:\\\\', 'C:\\\\Users\\\\jhsh\\\\anaconda3\\\\libs']\n",
      "    NOT AVAILABLE\n",
      "  \n",
      "  openblas_clapack_info:\n",
      "    libraries openblas,lapack not found in ['C:\\\\Users\\\\jhsh\\\\anaconda3\\\\lib', 'C:\\\\', 'C:\\\\Users\\\\jhsh\\\\anaconda3\\\\libs']\n",
      "    NOT AVAILABLE\n",
      "  \n",
      "  flame_info:\n",
      "    libraries flame not found in ['C:\\\\Users\\\\jhsh\\\\anaconda3\\\\lib', 'C:\\\\', 'C:\\\\Users\\\\jhsh\\\\anaconda3\\\\libs']\n",
      "    NOT AVAILABLE\n",
      "  \n",
      "  atlas_3_10_threads_info:\n",
      "  Setting PTATLAS=ATLAS\n",
      "    libraries lapack_atlas not found in C:\\Users\\jhsh\\anaconda3\\lib\n",
      "    libraries tatlas,tatlas not found in C:\\Users\\jhsh\\anaconda3\\lib\n",
      "    libraries lapack_atlas not found in C:\\\n",
      "    libraries tatlas,tatlas not found in C:\\\n",
      "    libraries lapack_atlas not found in C:\\Users\\jhsh\\anaconda3\\libs\n",
      "    libraries tatlas,tatlas not found in C:\\Users\\jhsh\\anaconda3\\libs\n",
      "  <class 'numpy.distutils.system_info.atlas_3_10_threads_info'>\n",
      "    NOT AVAILABLE\n",
      "  \n",
      "  atlas_3_10_info:\n",
      "    libraries lapack_atlas not found in C:\\Users\\jhsh\\anaconda3\\lib\n",
      "    libraries satlas,satlas not found in C:\\Users\\jhsh\\anaconda3\\lib\n",
      "    libraries lapack_atlas not found in C:\\\n",
      "    libraries satlas,satlas not found in C:\\\n",
      "    libraries lapack_atlas not found in C:\\Users\\jhsh\\anaconda3\\libs\n",
      "    libraries satlas,satlas not found in C:\\Users\\jhsh\\anaconda3\\libs\n",
      "  <class 'numpy.distutils.system_info.atlas_3_10_info'>\n",
      "    NOT AVAILABLE\n",
      "  \n",
      "  atlas_threads_info:\n",
      "  Setting PTATLAS=ATLAS\n",
      "    libraries lapack_atlas not found in C:\\Users\\jhsh\\anaconda3\\lib\n",
      "    libraries ptf77blas,ptcblas,atlas not found in C:\\Users\\jhsh\\anaconda3\\lib\n",
      "    libraries lapack_atlas not found in C:\\\n",
      "    libraries ptf77blas,ptcblas,atlas not found in C:\\\n",
      "    libraries lapack_atlas not found in C:\\Users\\jhsh\\anaconda3\\libs\n",
      "    libraries ptf77blas,ptcblas,atlas not found in C:\\Users\\jhsh\\anaconda3\\libs\n",
      "  <class 'numpy.distutils.system_info.atlas_threads_info'>\n",
      "    NOT AVAILABLE\n",
      "  \n",
      "  atlas_info:\n",
      "    libraries lapack_atlas not found in C:\\Users\\jhsh\\anaconda3\\lib\n",
      "    libraries f77blas,cblas,atlas not found in C:\\Users\\jhsh\\anaconda3\\lib\n",
      "    libraries lapack_atlas not found in C:\\\n",
      "    libraries f77blas,cblas,atlas not found in C:\\\n",
      "    libraries lapack_atlas not found in C:\\Users\\jhsh\\anaconda3\\libs\n",
      "    libraries f77blas,cblas,atlas not found in C:\\Users\\jhsh\\anaconda3\\libs\n",
      "  <class 'numpy.distutils.system_info.atlas_info'>\n",
      "    NOT AVAILABLE\n",
      "  \n",
      "  lapack_info:\n",
      "    libraries lapack not found in ['C:\\\\Users\\\\jhsh\\\\anaconda3\\\\lib', 'C:\\\\', 'C:\\\\Users\\\\jhsh\\\\anaconda3\\\\libs']\n",
      "    NOT AVAILABLE\n",
      "  \n",
      "  C:\\Users\\jhsh\\AppData\\Local\\Temp\\pip-install-q63lrups\\numpy_e099ac9e556e49edbc209ce745dafbf8\\numpy\\distutils\\system_info.py:1849: UserWarning:\n",
      "      Lapack (http://www.netlib.org/lapack/) libraries not found.\n",
      "      Directories to search for the libraries can be specified in the\n",
      "      numpy/distutils/site.cfg file (section [lapack]) or by setting\n",
      "      the LAPACK environment variable.\n",
      "    return getattr(self, '_calc_info_{}'.format(name))()\n",
      "  lapack_src_info:\n",
      "    NOT AVAILABLE\n",
      "  \n",
      "  C:\\Users\\jhsh\\AppData\\Local\\Temp\\pip-install-q63lrups\\numpy_e099ac9e556e49edbc209ce745dafbf8\\numpy\\distutils\\system_info.py:1849: UserWarning:\n",
      "      Lapack (http://www.netlib.org/lapack/) sources not found.\n",
      "      Directories to search for the sources can be specified in the\n",
      "      numpy/distutils/site.cfg file (section [lapack_src]) or by setting\n",
      "      the LAPACK_SRC environment variable.\n",
      "    return getattr(self, '_calc_info_{}'.format(name))()\n",
      "    NOT AVAILABLE\n",
      "  \n",
      "  numpy_linalg_lapack_lite:\n",
      "    FOUND:\n",
      "      language = c\n",
      "      define_macros = [('HAVE_BLAS_ILP64', None), ('BLAS_SYMBOL_SUFFIX', '64_')]\n",
      "  \n",
      "  C:\\Users\\jhsh\\AppData\\Local\\Temp\\pip-build-env-3ku5dmzl\\overlay\\Lib\\site-packages\\setuptools\\_distutils\\dist.py:275: UserWarning: Unknown distribution option: 'define_macros'\n",
      "    warnings.warn(msg)\n",
      "  running dist_info\n",
      "  running build_src\n",
      "  build_src\n",
      "  building py_modules sources\n",
      "  creating build\n",
      "  creating build\\src.win-amd64-3.11\n",
      "  creating build\\src.win-amd64-3.11\\numpy\n",
      "  creating build\\src.win-amd64-3.11\\numpy\\distutils\n",
      "  building library \"npymath\" sources\n",
      "  error: Microsoft Visual C++ 14.0 is required. Get it with \"Build Tools for Visual Studio\": https://visualstudio.microsoft.com/downloads/\n",
      "  [end of output]\n",
      "  \n",
      "  note: This error originates from a subprocess, and is likely not a problem with pip.\n",
      "error: metadata-generation-failed\n",
      "\n",
      "Encountered error while generating package metadata.\n",
      "\n",
      "See above for output.\n",
      "\n",
      "note: This is an issue with the package mentioned above, not pip.\n",
      "hint: See above for details.\n"
     ]
    }
   ],
   "source": [
    "!pip install -r ./requirements.txts "
   ],
   "metadata": {
    "collapsed": false,
    "ExecuteTime": {
     "end_time": "2023-11-18T12:41:34.177338900Z",
     "start_time": "2023-11-18T12:38:07.608778100Z"
    }
   },
   "id": "9ab7fc4c62827712"
  },
  {
   "cell_type": "markdown",
   "source": [
    "### 투자 성과 지표\n",
    "* 단일 종목 일간 수익률\n",
    "* 단일 종목 누적 수익률\n",
    "* CAGR\n",
    "* MDD"
   ],
   "metadata": {
    "collapsed": false
   },
   "id": "e601963f6f71c9d8"
  },
  {
   "cell_type": "code",
   "execution_count": 1,
   "outputs": [],
   "source": [
    "import pandas as pd\n",
    "import numpy as np"
   ],
   "metadata": {
    "collapsed": false,
    "ExecuteTime": {
     "end_time": "2023-11-18T12:34:43.200373200Z",
     "start_time": "2023-11-18T12:34:42.264706200Z"
    }
   },
   "id": "8e92f7de5f27250c"
  },
  {
   "cell_type": "markdown",
   "source": [
    "## 단일동목 일간 수익률\n",
    "* 일간 수익률 = <span style=\"color:#008000\">__당기(오늘) 가격 / 전기(어제) 가격__</span> 으로 계산 \n",
    "* shift 메서드를 이용\n",
    "* `shift(n)`은 n만큼 아래로 이동시키는 기능"
   ],
   "metadata": {
    "collapsed": false
   },
   "id": "fea4dbae8b1f7df1"
  },
  {
   "cell_type": "code",
   "execution_count": 11,
   "outputs": [
    {
     "data": {
      "text/plain": "            close\n2022-05-17    100\n2022-05-18     95\n2022-05-19    101\n2022-05-20    103\n2022-05-23     90\n2022-05-24     95\n2022-05-25    110\n2022-05-26     98\n2022-05-27    101",
      "text/html": "<div>\n<style scoped>\n    .dataframe tbody tr th:only-of-type {\n        vertical-align: middle;\n    }\n\n    .dataframe tbody tr th {\n        vertical-align: top;\n    }\n\n    .dataframe thead th {\n        text-align: right;\n    }\n</style>\n<table border=\"1\" class=\"dataframe\">\n  <thead>\n    <tr style=\"text-align: right;\">\n      <th></th>\n      <th>close</th>\n    </tr>\n  </thead>\n  <tbody>\n    <tr>\n      <th>2022-05-17</th>\n      <td>100</td>\n    </tr>\n    <tr>\n      <th>2022-05-18</th>\n      <td>95</td>\n    </tr>\n    <tr>\n      <th>2022-05-19</th>\n      <td>101</td>\n    </tr>\n    <tr>\n      <th>2022-05-20</th>\n      <td>103</td>\n    </tr>\n    <tr>\n      <th>2022-05-23</th>\n      <td>90</td>\n    </tr>\n    <tr>\n      <th>2022-05-24</th>\n      <td>95</td>\n    </tr>\n    <tr>\n      <th>2022-05-25</th>\n      <td>110</td>\n    </tr>\n    <tr>\n      <th>2022-05-26</th>\n      <td>98</td>\n    </tr>\n    <tr>\n      <th>2022-05-27</th>\n      <td>101</td>\n    </tr>\n  </tbody>\n</table>\n</div>"
     },
     "execution_count": 11,
     "metadata": {},
     "output_type": "execute_result"
    }
   ],
   "source": [
    "data = {'close': [100, 95, 101, 103, 90, 95, 110, 98, 101]} # 9일 간 가격 데이터, n\",\n",
    "index = pd.to_datetime([\"2022-05-17\", \"2022-05-18\" , \"2022-05-19\", \"2022-05-20\", \"2022-05-23\", \"2022-05-24\", \"2022-05-25\", \"2022-05-26\", \"2022-05-27\"])\n",
    "df = pd.DataFrame(data=data, index=index) # 데이터 프레임 생성n,\n",
    "df"
   ],
   "metadata": {
    "collapsed": false,
    "ExecuteTime": {
     "end_time": "2023-11-18T13:21:35.156424600Z",
     "start_time": "2023-11-18T13:21:35.144039600Z"
    }
   },
   "id": "7c6e72e536c4"
  },
  {
   "cell_type": "code",
   "execution_count": 5,
   "outputs": [
    {
     "data": {
      "text/plain": "            close\n2022-05-17    NaN\n2022-05-18  100.0\n2022-05-19   95.0\n2022-05-20  101.0\n2022-05-23  103.0\n2022-05-24   90.0\n2022-05-25   95.0\n2022-05-26  110.0\n2022-05-27   98.0",
      "text/html": "<div>\n<style scoped>\n    .dataframe tbody tr th:only-of-type {\n        vertical-align: middle;\n    }\n\n    .dataframe tbody tr th {\n        vertical-align: top;\n    }\n\n    .dataframe thead th {\n        text-align: right;\n    }\n</style>\n<table border=\"1\" class=\"dataframe\">\n  <thead>\n    <tr style=\"text-align: right;\">\n      <th></th>\n      <th>close</th>\n    </tr>\n  </thead>\n  <tbody>\n    <tr>\n      <th>2022-05-17</th>\n      <td>NaN</td>\n    </tr>\n    <tr>\n      <th>2022-05-18</th>\n      <td>100.0</td>\n    </tr>\n    <tr>\n      <th>2022-05-19</th>\n      <td>95.0</td>\n    </tr>\n    <tr>\n      <th>2022-05-20</th>\n      <td>101.0</td>\n    </tr>\n    <tr>\n      <th>2022-05-23</th>\n      <td>103.0</td>\n    </tr>\n    <tr>\n      <th>2022-05-24</th>\n      <td>90.0</td>\n    </tr>\n    <tr>\n      <th>2022-05-25</th>\n      <td>95.0</td>\n    </tr>\n    <tr>\n      <th>2022-05-26</th>\n      <td>110.0</td>\n    </tr>\n    <tr>\n      <th>2022-05-27</th>\n      <td>98.0</td>\n    </tr>\n  </tbody>\n</table>\n</div>"
     },
     "execution_count": 5,
     "metadata": {},
     "output_type": "execute_result"
    }
   ],
   "source": [
    "df.shift(1)"
   ],
   "metadata": {
    "collapsed": false,
    "ExecuteTime": {
     "end_time": "2023-11-18T13:01:44.734734800Z",
     "start_time": "2023-11-18T13:01:44.722730500Z"
    }
   },
   "id": "2eca24b1a188837d"
  },
  {
   "cell_type": "code",
   "execution_count": 8,
   "outputs": [
    {
     "data": {
      "text/plain": "               close\n2022-05-17  1.000000\n2022-05-18  0.950000\n2022-05-19  1.063158\n2022-05-20  1.019802\n2022-05-23  0.873786\n2022-05-24  1.055556\n2022-05-25  1.157895\n2022-05-26  0.890909\n2022-05-27  1.030612",
      "text/html": "<div>\n<style scoped>\n    .dataframe tbody tr th:only-of-type {\n        vertical-align: middle;\n    }\n\n    .dataframe tbody tr th {\n        vertical-align: top;\n    }\n\n    .dataframe thead th {\n        text-align: right;\n    }\n</style>\n<table border=\"1\" class=\"dataframe\">\n  <thead>\n    <tr style=\"text-align: right;\">\n      <th></th>\n      <th>close</th>\n    </tr>\n  </thead>\n  <tbody>\n    <tr>\n      <th>2022-05-17</th>\n      <td>1.000000</td>\n    </tr>\n    <tr>\n      <th>2022-05-18</th>\n      <td>0.950000</td>\n    </tr>\n    <tr>\n      <th>2022-05-19</th>\n      <td>1.063158</td>\n    </tr>\n    <tr>\n      <th>2022-05-20</th>\n      <td>1.019802</td>\n    </tr>\n    <tr>\n      <th>2022-05-23</th>\n      <td>0.873786</td>\n    </tr>\n    <tr>\n      <th>2022-05-24</th>\n      <td>1.055556</td>\n    </tr>\n    <tr>\n      <th>2022-05-25</th>\n      <td>1.157895</td>\n    </tr>\n    <tr>\n      <th>2022-05-26</th>\n      <td>0.890909</td>\n    </tr>\n    <tr>\n      <th>2022-05-27</th>\n      <td>1.030612</td>\n    </tr>\n  </tbody>\n</table>\n</div>"
     },
     "execution_count": 8,
     "metadata": {},
     "output_type": "execute_result"
    }
   ],
   "source": [
    "dayReturn = df / df.shift(1)\n",
    "dayReturn = dayReturn.fillna(1)  # null 값은 1로 교체\n",
    "dayReturn"
   ],
   "metadata": {
    "collapsed": false,
    "ExecuteTime": {
     "end_time": "2023-11-18T13:04:25.044539400Z",
     "start_time": "2023-11-18T13:04:25.033301100Z"
    }
   },
   "id": "67e6a895b675bed3"
  },
  {
   "cell_type": "markdown",
   "source": [
    "## 단일종목 누적 수익률\n",
    "* 주가의 움직임은 복리\n",
    "* 일간 수익률을 누적(계속) 곱해주면 누적 수익률을 구할 수 있다\n",
    "* `cumprod()` 사용"
   ],
   "metadata": {
    "collapsed": false
   },
   "id": "ed38c39e8b41c84d"
  },
  {
   "cell_type": "code",
   "execution_count": 9,
   "outputs": [
    {
     "data": {
      "text/plain": "            close\n2022-05-17   1.00\n2022-05-18   0.95\n2022-05-19   1.01\n2022-05-20   1.03\n2022-05-23   0.90\n2022-05-24   0.95\n2022-05-25   1.10\n2022-05-26   0.98\n2022-05-27   1.01",
      "text/html": "<div>\n<style scoped>\n    .dataframe tbody tr th:only-of-type {\n        vertical-align: middle;\n    }\n\n    .dataframe tbody tr th {\n        vertical-align: top;\n    }\n\n    .dataframe thead th {\n        text-align: right;\n    }\n</style>\n<table border=\"1\" class=\"dataframe\">\n  <thead>\n    <tr style=\"text-align: right;\">\n      <th></th>\n      <th>close</th>\n    </tr>\n  </thead>\n  <tbody>\n    <tr>\n      <th>2022-05-17</th>\n      <td>1.00</td>\n    </tr>\n    <tr>\n      <th>2022-05-18</th>\n      <td>0.95</td>\n    </tr>\n    <tr>\n      <th>2022-05-19</th>\n      <td>1.01</td>\n    </tr>\n    <tr>\n      <th>2022-05-20</th>\n      <td>1.03</td>\n    </tr>\n    <tr>\n      <th>2022-05-23</th>\n      <td>0.90</td>\n    </tr>\n    <tr>\n      <th>2022-05-24</th>\n      <td>0.95</td>\n    </tr>\n    <tr>\n      <th>2022-05-25</th>\n      <td>1.10</td>\n    </tr>\n    <tr>\n      <th>2022-05-26</th>\n      <td>0.98</td>\n    </tr>\n    <tr>\n      <th>2022-05-27</th>\n      <td>1.01</td>\n    </tr>\n  </tbody>\n</table>\n</div>"
     },
     "execution_count": 9,
     "metadata": {},
     "output_type": "execute_result"
    }
   ],
   "source": [
    "cumulativeReturn = dayReturn.cumprod()\n",
    "cumulativeReturn"
   ],
   "metadata": {
    "collapsed": false,
    "ExecuteTime": {
     "end_time": "2023-11-18T13:09:59.801894200Z",
     "start_time": "2023-11-18T13:09:59.793677200Z"
    }
   },
   "id": "b2015f9862dfd389"
  },
  {
   "cell_type": "markdown",
   "source": [
    "* 여기서 중요한 점은, 누적 수익률은 <span style=\"color:#008000\">__자산의 흐름__</span>과 같다\n",
    "* 내가 1원을 투자했다면, 1원이 주가변동에 따라 최종 얼마가 되었는지 알려주는 지표 "
   ],
   "metadata": {
    "collapsed": false
   },
   "id": "409cb2b4bcfd1672"
  },
  {
   "cell_type": "markdown",
   "source": [
    "### CAGR (compound annual growth rate)\n",
    "\n",
    "    * 투자 수익률를 계산할 떄는 복리 개념이기 때문에, 흔히 알고 있는 산술평균이 아니라 기하평균으로 계산해야 합니다.\n",
    "        - 산술평균 = 합의 평균\n",
    "        - 기하평균 = 곱의 평균 \n",
    "     \n",
    "    * 1년차 수익률 5%\n",
    "    * 2년차 수익률 10% ,\n",
    "    * 2년 투자 기간동안의 연 평균 수익률 k라고 했을 때.. \n",
    "     \n",
    "     $$k =  \\sqrt{0.05 * 0.1} $$\n",
    " \n",
    "* **하지만 우리는 앞으로 일간 데이터를 사용할 것이기 때문에,**\n",
    "* **일간 데이터를 활용하여 연간 수익률을 계산하기 위해서는** `(일간 수익률 갯수) / (영업일)` 역수 제곱으로 연산합니다.\n",
    "-- 일반적으로 금융공학에서는 1년의 총 영업일을 252일로 간주합니다."
   ],
   "metadata": {
    "collapsed": false
   },
   "id": "3f8a8cab74ecfcaf"
  },
  {
   "cell_type": "code",
   "execution_count": 12,
   "outputs": [
    {
     "data": {
      "text/plain": "9"
     },
     "execution_count": 12,
     "metadata": {},
     "output_type": "execute_result"
    }
   ],
   "source": [
    "len(df)"
   ],
   "metadata": {
    "collapsed": false,
    "ExecuteTime": {
     "end_time": "2023-11-18T13:30:07.613103100Z",
     "start_time": "2023-11-18T13:30:07.607593600Z"
    }
   },
   "id": "bf2a9157fac3b61f"
  },
  {
   "cell_type": "code",
   "execution_count": 15,
   "outputs": [
    {
     "data": {
      "text/plain": "close    1.321291\nName: 2022-05-27 00:00:00, dtype: float64"
     },
     "execution_count": 15,
     "metadata": {},
     "output_type": "execute_result"
    }
   ],
   "source": [
    "# cumulativeReturn.iloc[-1] 9일간 최종적으로 얻은 수익률 1.01\n",
    "cagr = cumulativeReturn.iloc[-1] ** (252 / len(df))\n",
    "cagr"
   ],
   "metadata": {
    "collapsed": false,
    "ExecuteTime": {
     "end_time": "2023-11-18T13:33:11.730099400Z",
     "start_time": "2023-11-18T13:33:11.725195800Z"
    }
   },
   "id": "d838557a57e52082"
  },
  {
   "cell_type": "markdown",
   "source": [
    "### Draw Down (하락폭) && Max Draw Down (최대하락폭)\n",
    "\n",
    "* 최대 낙폭지수, <span style=\"color:#008000\"> 투자 기간 동안 고점부터 떨어진 낙폭 최댓값을 의미</span>  \n",
    "* 최종 수익률만 보고 판단하기 쉬운데, 사실 투자 기간동안 50%가 빠지면 심리적 타격도 있기 때문에 손절하고 투자를 중단할 수도 있습니다. 그렇기 때문에 최대 낙폭은 가능한 낮을수록 좋습니다.\n",
    "\n",
    "- 하락폭(DD) = $ \\frac{최고점 - 현재}{최고점} $  \n",
    "- 최대하락폭(MDD) = max ($ \\frac{최고점 - 현재}{최고점} $)"
   ],
   "metadata": {
    "collapsed": false
   },
   "id": "ae3a643be80975ca"
  },
  {
   "cell_type": "markdown",
   "source": [
    "`cummax()` 메서드를 사용하면 데이터를 위에서부터 아래로 조회하며 최대값을 갱신"
   ],
   "metadata": {
    "collapsed": false
   },
   "id": "5547a667a4634e50"
  },
  {
   "cell_type": "code",
   "execution_count": 16,
   "outputs": [
    {
     "data": {
      "text/plain": "            close\n2022-05-17   1.00\n2022-05-18   0.95\n2022-05-19   1.01\n2022-05-20   1.03\n2022-05-23   0.90\n2022-05-24   0.95\n2022-05-25   1.10\n2022-05-26   0.98\n2022-05-27   1.01",
      "text/html": "<div>\n<style scoped>\n    .dataframe tbody tr th:only-of-type {\n        vertical-align: middle;\n    }\n\n    .dataframe tbody tr th {\n        vertical-align: top;\n    }\n\n    .dataframe thead th {\n        text-align: right;\n    }\n</style>\n<table border=\"1\" class=\"dataframe\">\n  <thead>\n    <tr style=\"text-align: right;\">\n      <th></th>\n      <th>close</th>\n    </tr>\n  </thead>\n  <tbody>\n    <tr>\n      <th>2022-05-17</th>\n      <td>1.00</td>\n    </tr>\n    <tr>\n      <th>2022-05-18</th>\n      <td>0.95</td>\n    </tr>\n    <tr>\n      <th>2022-05-19</th>\n      <td>1.01</td>\n    </tr>\n    <tr>\n      <th>2022-05-20</th>\n      <td>1.03</td>\n    </tr>\n    <tr>\n      <th>2022-05-23</th>\n      <td>0.90</td>\n    </tr>\n    <tr>\n      <th>2022-05-24</th>\n      <td>0.95</td>\n    </tr>\n    <tr>\n      <th>2022-05-25</th>\n      <td>1.10</td>\n    </tr>\n    <tr>\n      <th>2022-05-26</th>\n      <td>0.98</td>\n    </tr>\n    <tr>\n      <th>2022-05-27</th>\n      <td>1.01</td>\n    </tr>\n  </tbody>\n</table>\n</div>"
     },
     "execution_count": 16,
     "metadata": {},
     "output_type": "execute_result"
    }
   ],
   "source": [
    "cumulativeReturn"
   ],
   "metadata": {
    "collapsed": false,
    "ExecuteTime": {
     "end_time": "2023-11-18T13:38:00.000870Z",
     "start_time": "2023-11-18T13:37:59.984692500Z"
    }
   },
   "id": "15845acda15470c8"
  },
  {
   "cell_type": "code",
   "execution_count": 18,
   "outputs": [
    {
     "data": {
      "text/plain": "            close\n2022-05-17   1.00\n2022-05-18   1.00\n2022-05-19   1.01\n2022-05-20   1.03\n2022-05-23   1.03\n2022-05-24   1.03\n2022-05-25   1.10\n2022-05-26   1.10\n2022-05-27   1.10",
      "text/html": "<div>\n<style scoped>\n    .dataframe tbody tr th:only-of-type {\n        vertical-align: middle;\n    }\n\n    .dataframe tbody tr th {\n        vertical-align: top;\n    }\n\n    .dataframe thead th {\n        text-align: right;\n    }\n</style>\n<table border=\"1\" class=\"dataframe\">\n  <thead>\n    <tr style=\"text-align: right;\">\n      <th></th>\n      <th>close</th>\n    </tr>\n  </thead>\n  <tbody>\n    <tr>\n      <th>2022-05-17</th>\n      <td>1.00</td>\n    </tr>\n    <tr>\n      <th>2022-05-18</th>\n      <td>1.00</td>\n    </tr>\n    <tr>\n      <th>2022-05-19</th>\n      <td>1.01</td>\n    </tr>\n    <tr>\n      <th>2022-05-20</th>\n      <td>1.03</td>\n    </tr>\n    <tr>\n      <th>2022-05-23</th>\n      <td>1.03</td>\n    </tr>\n    <tr>\n      <th>2022-05-24</th>\n      <td>1.03</td>\n    </tr>\n    <tr>\n      <th>2022-05-25</th>\n      <td>1.10</td>\n    </tr>\n    <tr>\n      <th>2022-05-26</th>\n      <td>1.10</td>\n    </tr>\n    <tr>\n      <th>2022-05-27</th>\n      <td>1.10</td>\n    </tr>\n  </tbody>\n</table>\n</div>"
     },
     "execution_count": 18,
     "metadata": {},
     "output_type": "execute_result"
    }
   ],
   "source": [
    "# 누적 최댓값\n",
    "cumulativeReturn.cummax() "
   ],
   "metadata": {
    "collapsed": false,
    "ExecuteTime": {
     "end_time": "2023-11-18T13:39:02.019524Z",
     "start_time": "2023-11-18T13:39:02.006866Z"
    }
   },
   "id": "e63d817cfa220a26"
  },
  {
   "cell_type": "markdown",
   "source": [
    "### MDD 계산"
   ],
   "metadata": {
    "collapsed": false
   },
   "id": "7c25445027939a00"
  },
  {
   "cell_type": "code",
   "execution_count": 20,
   "outputs": [
    {
     "data": {
      "text/plain": "                close\n2022-05-17   0.000000\n2022-05-18   5.000000\n2022-05-19   0.000000\n2022-05-20   0.000000\n2022-05-23  12.621359\n2022-05-24   7.766990\n2022-05-25   0.000000\n2022-05-26  10.909091\n2022-05-27   8.181818",
      "text/html": "<div>\n<style scoped>\n    .dataframe tbody tr th:only-of-type {\n        vertical-align: middle;\n    }\n\n    .dataframe tbody tr th {\n        vertical-align: top;\n    }\n\n    .dataframe thead th {\n        text-align: right;\n    }\n</style>\n<table border=\"1\" class=\"dataframe\">\n  <thead>\n    <tr style=\"text-align: right;\">\n      <th></th>\n      <th>close</th>\n    </tr>\n  </thead>\n  <tbody>\n    <tr>\n      <th>2022-05-17</th>\n      <td>0.000000</td>\n    </tr>\n    <tr>\n      <th>2022-05-18</th>\n      <td>5.000000</td>\n    </tr>\n    <tr>\n      <th>2022-05-19</th>\n      <td>0.000000</td>\n    </tr>\n    <tr>\n      <th>2022-05-20</th>\n      <td>0.000000</td>\n    </tr>\n    <tr>\n      <th>2022-05-23</th>\n      <td>12.621359</td>\n    </tr>\n    <tr>\n      <th>2022-05-24</th>\n      <td>7.766990</td>\n    </tr>\n    <tr>\n      <th>2022-05-25</th>\n      <td>0.000000</td>\n    </tr>\n    <tr>\n      <th>2022-05-26</th>\n      <td>10.909091</td>\n    </tr>\n    <tr>\n      <th>2022-05-27</th>\n      <td>8.181818</td>\n    </tr>\n  </tbody>\n</table>\n</div>"
     },
     "execution_count": 20,
     "metadata": {},
     "output_type": "execute_result"
    }
   ],
   "source": [
    "dd = (cumulativeReturn.cummax() - cumulativeReturn) / cumulativeReturn.cummax() * 100\n",
    "dd"
   ],
   "metadata": {
    "collapsed": false,
    "ExecuteTime": {
     "end_time": "2023-11-18T13:41:02.692885700Z",
     "start_time": "2023-11-18T13:41:02.637792400Z"
    }
   },
   "id": "474f7fff490ca9a9"
  },
  {
   "cell_type": "code",
   "execution_count": 21,
   "outputs": [
    {
     "data": {
      "text/plain": "close    12.621359\ndtype: float64"
     },
     "execution_count": 21,
     "metadata": {},
     "output_type": "execute_result"
    }
   ],
   "source": [
    "mdd = dd.max()\n",
    "mdd"
   ],
   "metadata": {
    "collapsed": false,
    "ExecuteTime": {
     "end_time": "2023-11-18T13:41:26.680562500Z",
     "start_time": "2023-11-18T13:41:26.666328Z"
    }
   },
   "id": "5435f1f814d00713"
  }
 ],
 "metadata": {
  "kernelspec": {
   "display_name": "Python 3",
   "language": "python",
   "name": "python3"
  },
  "language_info": {
   "codemirror_mode": {
    "name": "ipython",
    "version": 2
   },
   "file_extension": ".py",
   "mimetype": "text/x-python",
   "name": "python",
   "nbconvert_exporter": "python",
   "pygments_lexer": "ipython2",
   "version": "2.7.6"
  }
 },
 "nbformat": 4,
 "nbformat_minor": 5
}
