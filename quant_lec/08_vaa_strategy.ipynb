{
 "cells": [
  {
   "cell_type": "code",
   "execution_count": 2,
   "id": "initial_id",
   "metadata": {
    "collapsed": true,
    "ExecuteTime": {
     "end_time": "2024-03-26T15:32:26.352295Z",
     "start_time": "2024-03-26T15:32:26.337502Z"
    }
   },
   "outputs": [],
   "source": [
    "import FinanceDataReader as fdr\n",
    "import pandas as pd\n",
    "import matplotlib.pyplot as plt\n",
    "import numpy as np\n",
    "\n",
    "def getCloseData(ticker, start, end=None):\n",
    "    \"\"\"\n",
    "    종가 데이터\n",
    "    ticker: 종목 번호\n",
    "    start: 시작일\n",
    "    end: 마지막 날짜\n",
    "    return: 종목의 종가 데이터\n",
    "    \"\"\"\n",
    "    return fdr.DataReader(ticker, start, end)['Close']\n",
    "\n",
    "def getDayReturn(closeDataSet):\n",
    "    \"\"\"\n",
    "    개별종목 일별 수익률\n",
    "    closeDataSet: 종가 데이터\n",
    "    return: 종가 데이터의 일별 수익률\n",
    "    \"\"\"\n",
    "    return (closeDataSet / closeDataSet.shift(1)).fillna(1)\n",
    "\n",
    "def getCumulativeReturn(closeDataSet):\n",
    "    \"\"\"\n",
    "    개별종목 누적수익률 == 자산흐름\n",
    "    closeDataSet: 종가 데이터\n",
    "    return:종가데이터 누적수익률\n",
    "    \"\"\"\n",
    "    return closeDataSet / closeDataSet.iloc[0]\n",
    "\n",
    "def getPortfolioResult(closeDataSet, weight=None):\n",
    "    \"\"\"\n",
    "    포트폴리오 결과\n",
    "    closeDataSet: 종가 데이터\n",
    "    weight: 포트폴리오 개별자산 비중\n",
    "    return: 포트폴리오 일간수익률, 누적수익률\n",
    "    \"\"\"\n",
    "    # 개별종목 일별 수익률\n",
    "    dayReturn = getDayReturn(closeDataSet)\n",
    "    # 개별종목 누적 수익률\n",
    "    cumulativeReturn = getCumulativeReturn(closeDataSet)\n",
    "    # 자산별 비중. 기본값: 동일비중\n",
    "    if not weight:\n",
    "        weight = [1/len(closeDataSet.columns)] * len(closeDataSet.columns)\n",
    "\n",
    "    # 포트폴리오 누적 수익률\n",
    "    portfolioCumulativeReturn = (weight * cumulativeReturn).sum(axis=1)\n",
    "    # 포트폴리오 일별 수익률\n",
    "    portfolioDayReturn = (portfolioCumulativeReturn / portfolioCumulativeReturn.shift(1)).fillna(1)\n",
    "    return portfolioDayReturn, portfolioCumulativeReturn\n",
    "\n",
    "def getEvaluation(cumulativeReturn):\n",
    "    \"\"\"\n",
    "    cagr, dd, mdd\n",
    "    투자 성과 지표\n",
    "    \"\"\"\n",
    "    # cagr\n",
    "    cagr = cumulativeReturn.iloc[-1] ** (252/len(cumulativeReturn))\n",
    "    # mdd\n",
    "    dd = (cumulativeReturn.cummax() - cumulativeReturn) / cumulativeReturn.cummax() * 100\n",
    "    mdd= dd.max()\n",
    "\n",
    "    print(f\"최종 수익률: {cumulativeReturn.iloc[-1]}\\ncagr: {cagr}\\nmdd: {mdd}\")\n",
    "\n",
    "    return cagr, dd, mdd\n",
    "\n",
    "def getRebalancingDate(closeDataSet, period=\"month\"):\n",
    "    \"\"\"\n",
    "    리밸런싱 일자 추출\n",
    "    월별, 분기별, 연별\n",
    "    \"\"\"\n",
    "    data = closeDataSet.copy()\n",
    "    data = pd.DataFrame(data)\n",
    "    data.index = pd.to_datetime(data.index)\n",
    "    data['year'] = data.index.year\n",
    "    data['month'] = data.index.month\n",
    "\n",
    "    if period == \"month\":\n",
    "        rebalancingDate = data.drop_duplicates(['year', 'month'], keep=\"last\").index\n",
    "\n",
    "    if period == \"quarter\":\n",
    "        # 3 6 9 12월 말에 리밸런싱\n",
    "        # np where 같은걸로 3, 6, 9, 12월 데이터만 가져오고\n",
    "        # drop_duplicates keep last 하면 됌\n",
    "        quarter = [3,6,9,12]\n",
    "        data = data.loc[data['month'].isin(quarter)]\n",
    "        rebalancingDate = data.drop_duplicates(['year', 'month'], keep=\"last\").index\n",
    "\n",
    "    if period == \"year\":\n",
    "        rebalancingDate = data.drop_duplicates(['year'], keep=\"last\").index\n",
    "\n",
    "    return rebalancingDate\n",
    "\n",
    "def getRebalancingPortfolioResult(closeDataSet, period = \"month\", weightDf=None):\n",
    "    \"\"\"\n",
    "    리밸런싱 포트폴리오 결과\n",
    "    closeDataSet: 종가 데이터\n",
    "    weight: 포트폴리오 개별자산 비중\n",
    "    return: 포트폴리오 일간수익률, 누적수익률\n",
    "    \"\"\"\n",
    "\n",
    "    # 자산별 비중. 기본값: 동일비중\n",
    "    if weightDf is None:\n",
    "        rebalancingDate = getRebalancingDate(closeDataSet, period) # 리밸런싱 날짜\n",
    "        weightDf = pd.DataFrame([[1/len(closeDataSet.columns)] * len(closeDataSet.columns)] * len(rebalancingDate),\n",
    "                                index=rebalancingDate,\n",
    "                                columns=closeDataSet.columns)\n",
    "    # 자산별 비중이 있는 경우\n",
    "    else:\n",
    "        closeDataSet = closeDataSet.loc[weightDf.index[0]:]\n",
    "        rebalancingDate = getRebalancingDate(closeDataSet, period) # 리밸런싱 날짜\n",
    "\n",
    "    portfolio = pd.DataFrame() # 빈 데이터 프레임 생성\n",
    "\n",
    "    totalAsset = 1 # 총 자산, 초기값 1\n",
    "    start = rebalancingDate[0] # 리밸런싱 날짜, 초기값 첫 투자일\n",
    "\n",
    "    for end in rebalancingDate[1:]:\n",
    "        weight = weightDf.loc[start] # 당월 리밸런싱 비율\n",
    "        priceData = closeDataSet.loc[start:end] # 당월 가격 데이터\n",
    "        cumReturn = getCumulativeReturn(priceData) # 당월 누적 수익률\n",
    "        weightedCumReturn = weight * cumReturn # 당월 리밸런싱 비율이 반영된 누적 수익률\n",
    "        netCumReturn = totalAsset * weightedCumReturn # 전월 투자 결과 반영\n",
    "\n",
    "        start = end # start 갱신\n",
    "        totalAsset = netCumReturn.iloc[-1].sum() # 총 자산 갱신\n",
    "        portfolio = pd.concat([portfolio, netCumReturn]) # 매월 데이터 추가\n",
    "\n",
    "    portfolio = portfolio.loc[~portfolio.index.duplicated(keep='last')] # 중복 데이터 제거\n",
    "    portfolioCumulativeReturn = portfolio.sum(axis=1) # 포트폴리오 누적 수익률\n",
    "    portfolioDayReturn = (portfolioCumulativeReturn / portfolioCumulativeReturn.shift(1)).fillna(1) # 포트폴리오 일간 수익률\n",
    "\n",
    "    return portfolioDayReturn, portfolioCumulativeReturn\n",
    "\n",
    "def getWeightByAvgMomentumScore(closeDataSet, n = 12):\n",
    "    \"\"\"\n",
    "    평균 모멘텀 스코어를 기반으로 한 투자 비중 구하기\n",
    "    closeDataSet: 종가 데이터\n",
    "    n: 모멘텀 기간 1~n\n",
    "    return: 투자비중 weight df, 평균모멘텀 스코어 df\n",
    "    \"\"\"\n",
    "    avgMomentumScore = 0 # 평모스 초기값\n",
    "    priceOnRebalDate = closeDataSet.loc[getRebalancingDate(closeDataSet)] # 리밸런싱 일자의 가격 데이터\n",
    "\n",
    "    # 1 ~ n개월 모멘텀 스코어 합\n",
    "    for i in range(1, n+1):\n",
    "        avgMomentumScore = np.where(priceOnRebalDate / priceOnRebalDate.shift(i) > 1, 1, 0) + avgMomentumScore\n",
    "\n",
    "    # 평모스 계산\n",
    "    avgMomentumScore = pd.DataFrame(avgMomentumScore, index=priceOnRebalDate.index, columns=priceOnRebalDate.columns) # dataframe 형변환\n",
    "    avgMomentumScore = avgMomentumScore / n\n",
    "\n",
    "    # 모멘텀 스코어에 따른 weight 계산\n",
    "    weight = avgMomentumScore.divide(avgMomentumScore.sum(axis=1), axis=0).fillna(0)\n",
    "    # 투자 비중이 모두 0인 구간에서는 현금 보유\n",
    "    weight['cash'] = np.where(weight.sum(axis=1) == 0, 1, 0)\n",
    "\n",
    "    # 투자비중, 평모스 리턴\n",
    "    return weight, avgMomentumScore"
   ]
  },
  {
   "cell_type": "markdown",
   "source": [
    "## VAA\n",
    "\n",
    "투자전략\n",
    "\n",
    "https://www.youtube.com/watch?v=eQeu8v_-Y98\n",
    "\n",
    "---\n",
    "\n",
    "1. 공격자산, 수비자산 설정.\n",
    "\n",
    "공격자산 : VOO(미국주식), VEA(선진국 주식), EEM(이머징 주식), AGG(미국 총채권)\n",
    "\n",
    "수비자산 : LQD(미국 회사채), SHY(미국 단기국채), IEF(미국 중기국채)\n",
    "\n",
    "2. 모멘텀 스코어를 구한다.\n",
    "\n",
    "`모멘텀 = (현재 주가 / n개월 전 주가) - 1`\n",
    "\n",
    "(최근 1개월 수익률x12) + (최근 3개월 수익률x4) + (최근 6개월 수익률x2) + (최근 12개월 수익률x1)\n",
    "\n",
    "3. 공격자산 4개 모멘텀 스코어가 전부 0 이상일 경우 가장 모멘텀스코어가 높은 공격자산에 올인\n",
    "\n",
    "\n",
    "4. 공격자산 중 하나라도 모멘텀스코어가 0 이하일 경우 가장 모멘텀스코어가 높은 수비자산에 올인"
   ],
   "metadata": {
    "collapsed": false
   },
   "id": "9fafe64709a54fcf"
  },
  {
   "cell_type": "code",
   "outputs": [
    {
     "data": {
      "text/plain": "                   VOO        VEA        EEM         AGG         LQD  \\\nDate                                                                   \n2022-03-28  418.989990  48.020000  45.200001  106.360001  119.930000   \n2022-03-29  424.290009  48.959999  45.970001  106.860001  120.940002   \n2022-03-30  421.649994  48.779999  45.840000  107.150002  121.220001   \n2022-03-31  415.170013  48.029999  45.150002  107.099998  120.940002   \n2022-04-01  416.320007  48.450001  45.900002  106.750000  121.089996   \n...                ...        ...        ...         ...         ...   \n2024-03-20  479.750000  50.080002  41.099998   97.440002  108.139999   \n2024-03-21  481.350006  50.110001  41.150002   97.510002  108.300003   \n2024-03-22  479.179993  49.939999  40.860001   97.820000  108.669998   \n2024-03-25  477.940002  49.869999  40.889999   97.639999  108.300003   \n2024-03-26  478.809998  50.088200  40.927502   97.606300  108.190102   \n\n                  SHY         IEF  \nDate                               \n2022-03-28  83.250000  106.320000  \n2022-03-29  83.290001  106.849998  \n2022-03-30  83.349998  107.269997  \n2022-03-31  83.349998  107.470001  \n2022-04-01  83.139999  106.650002  \n...               ...         ...  \n2024-03-20  81.699997   94.029999  \n2024-03-21  81.699997   94.040001  \n2024-03-22  81.760002   94.500000  \n2024-03-25  81.720001   94.250000  \n2024-03-26  81.717598   94.229797  \n\n[502 rows x 7 columns]",
      "text/html": "<div>\n<style scoped>\n    .dataframe tbody tr th:only-of-type {\n        vertical-align: middle;\n    }\n\n    .dataframe tbody tr th {\n        vertical-align: top;\n    }\n\n    .dataframe thead th {\n        text-align: right;\n    }\n</style>\n<table border=\"1\" class=\"dataframe\">\n  <thead>\n    <tr style=\"text-align: right;\">\n      <th></th>\n      <th>VOO</th>\n      <th>VEA</th>\n      <th>EEM</th>\n      <th>AGG</th>\n      <th>LQD</th>\n      <th>SHY</th>\n      <th>IEF</th>\n    </tr>\n    <tr>\n      <th>Date</th>\n      <th></th>\n      <th></th>\n      <th></th>\n      <th></th>\n      <th></th>\n      <th></th>\n      <th></th>\n    </tr>\n  </thead>\n  <tbody>\n    <tr>\n      <th>2022-03-28</th>\n      <td>418.989990</td>\n      <td>48.020000</td>\n      <td>45.200001</td>\n      <td>106.360001</td>\n      <td>119.930000</td>\n      <td>83.250000</td>\n      <td>106.320000</td>\n    </tr>\n    <tr>\n      <th>2022-03-29</th>\n      <td>424.290009</td>\n      <td>48.959999</td>\n      <td>45.970001</td>\n      <td>106.860001</td>\n      <td>120.940002</td>\n      <td>83.290001</td>\n      <td>106.849998</td>\n    </tr>\n    <tr>\n      <th>2022-03-30</th>\n      <td>421.649994</td>\n      <td>48.779999</td>\n      <td>45.840000</td>\n      <td>107.150002</td>\n      <td>121.220001</td>\n      <td>83.349998</td>\n      <td>107.269997</td>\n    </tr>\n    <tr>\n      <th>2022-03-31</th>\n      <td>415.170013</td>\n      <td>48.029999</td>\n      <td>45.150002</td>\n      <td>107.099998</td>\n      <td>120.940002</td>\n      <td>83.349998</td>\n      <td>107.470001</td>\n    </tr>\n    <tr>\n      <th>2022-04-01</th>\n      <td>416.320007</td>\n      <td>48.450001</td>\n      <td>45.900002</td>\n      <td>106.750000</td>\n      <td>121.089996</td>\n      <td>83.139999</td>\n      <td>106.650002</td>\n    </tr>\n    <tr>\n      <th>...</th>\n      <td>...</td>\n      <td>...</td>\n      <td>...</td>\n      <td>...</td>\n      <td>...</td>\n      <td>...</td>\n      <td>...</td>\n    </tr>\n    <tr>\n      <th>2024-03-20</th>\n      <td>479.750000</td>\n      <td>50.080002</td>\n      <td>41.099998</td>\n      <td>97.440002</td>\n      <td>108.139999</td>\n      <td>81.699997</td>\n      <td>94.029999</td>\n    </tr>\n    <tr>\n      <th>2024-03-21</th>\n      <td>481.350006</td>\n      <td>50.110001</td>\n      <td>41.150002</td>\n      <td>97.510002</td>\n      <td>108.300003</td>\n      <td>81.699997</td>\n      <td>94.040001</td>\n    </tr>\n    <tr>\n      <th>2024-03-22</th>\n      <td>479.179993</td>\n      <td>49.939999</td>\n      <td>40.860001</td>\n      <td>97.820000</td>\n      <td>108.669998</td>\n      <td>81.760002</td>\n      <td>94.500000</td>\n    </tr>\n    <tr>\n      <th>2024-03-25</th>\n      <td>477.940002</td>\n      <td>49.869999</td>\n      <td>40.889999</td>\n      <td>97.639999</td>\n      <td>108.300003</td>\n      <td>81.720001</td>\n      <td>94.250000</td>\n    </tr>\n    <tr>\n      <th>2024-03-26</th>\n      <td>478.809998</td>\n      <td>50.088200</td>\n      <td>40.927502</td>\n      <td>97.606300</td>\n      <td>108.190102</td>\n      <td>81.717598</td>\n      <td>94.229797</td>\n    </tr>\n  </tbody>\n</table>\n<p>502 rows × 7 columns</p>\n</div>"
     },
     "execution_count": 56,
     "metadata": {},
     "output_type": "execute_result"
    }
   ],
   "source": [
    "from datetime import datetime, timedelta\n",
    "# 데이터 로드\n",
    "today = datetime.now()\n",
    "twentyYearAgo = today - timedelta(days=365 * 20)\n",
    "todayStr = today.strftime(\"%Y%m%d\")\n",
    "oneYearAgoStr = oneYearAgo.strftime(\"%Y%m%d\")\n",
    "\n",
    "# 공격형 자산\n",
    "VOO = getCloseData(\"VOO\", oneYearAgoStr, todayStr) # VOO(미국주식)\n",
    "VEA = getCloseData(\"VEA\", oneYearAgoStr, todayStr) # VEA(선진국 주식)\n",
    "EEM = getCloseData(\"EEM\", oneYearAgoStr, todayStr) # EEM(신흥국 주식)\n",
    "AGG = getCloseData(\"AGG\", oneYearAgoStr, todayStr) #AGG(미국 총채권)\n",
    "\n",
    "#수비자산\n",
    "LQD = getCloseData(\"LQD\", oneYearAgoStr, todayStr) #LQD(미국 회사채)\n",
    "SHY = getCloseData(\"SHY\", oneYearAgoStr, todayStr) #SHY(미국 단기국채)\n",
    "IEF = getCloseData(\"IEF\", oneYearAgoStr, todayStr) #IEF(미국 중기국채)\n",
    "\n",
    "vaaCol = ['VOO', \"VEA\", \"EEM\", \"AGG\", \"LQD\", \"SHY\", \"IEF\"]\n",
    "vaaAttack = ['VOO', \"VEA\", \"EEM\", \"AGG\"]\n",
    "vaaDefense = [\"LQD\", \"SHY\", \"IEF\"]\n",
    "\n",
    "vaaData = pd.concat([VOO, VEA, EEM, AGG, LQD, SHY, IEF], axis=1)\n",
    "vaaData.columns = vaaCol\n",
    "\n",
    "vaaData"
   ],
   "metadata": {
    "collapsed": false,
    "ExecuteTime": {
     "end_time": "2024-03-26T16:25:28.749496Z",
     "start_time": "2024-03-26T16:25:25.605862Z"
    }
   },
   "id": "f11757a6c0fde768",
   "execution_count": 56
  },
  {
   "cell_type": "code",
   "outputs": [
    {
     "data": {
      "text/plain": "                 VOO       VEA       EEM       AGG       LQD       SHY  \\\nDate                                                                     \n2023-03-31  0.872554  1.001709  0.687318  0.395472  0.622733  0.231262   \n2023-04-28  0.444582  0.808043 -0.103735  0.106512  0.146722  0.041953   \n2023-05-31  0.336382 -0.369270 -0.464126 -0.156733 -0.250153 -0.052581   \n2023-06-30  1.555667  0.838682  0.514750 -0.160212  0.038568 -0.163601   \n2023-07-31  1.162852  0.676801  1.091574 -0.236404 -0.221326 -0.085539   \n2023-08-31  0.529227 -0.170982 -0.650007 -0.229241 -0.266233 -0.010383   \n2023-09-29 -0.471305 -0.607319 -0.525062 -0.638100 -0.837035 -0.077231   \n2023-10-31 -0.514389 -0.941465 -0.946641 -0.621012 -0.874427 -0.023163   \n2023-11-30  1.459212  1.193521  1.047735  0.423650  0.828091  0.114096   \n2023-12-29  1.335253  1.104745  0.529187  0.644194  0.928338  0.144575   \n2024-01-31  1.112413  0.381375 -0.600487  0.293989  0.427255  0.135929   \n2024-02-29  1.617176  0.796173  0.631516 -0.154839 -0.177151 -0.055675   \n2024-03-26  1.409437  0.924810  0.545607  0.020532  0.083084 -0.006531   \n\n                 IEF  \nDate                  \n2023-03-31  0.548058  \n2023-04-28  0.177557  \n2023-05-31 -0.146559  \n2023-06-30 -0.318957  \n2023-07-31 -0.426482  \n2023-08-31 -0.331676  \n2023-09-29 -0.811559  \n2023-10-31 -0.773387  \n2023-11-30  0.315147  \n2023-12-29  0.594479  \n2024-01-31  0.302767  \n2024-02-29 -0.272297  \n2024-03-26 -0.080069  ",
      "text/html": "<div>\n<style scoped>\n    .dataframe tbody tr th:only-of-type {\n        vertical-align: middle;\n    }\n\n    .dataframe tbody tr th {\n        vertical-align: top;\n    }\n\n    .dataframe thead th {\n        text-align: right;\n    }\n</style>\n<table border=\"1\" class=\"dataframe\">\n  <thead>\n    <tr style=\"text-align: right;\">\n      <th></th>\n      <th>VOO</th>\n      <th>VEA</th>\n      <th>EEM</th>\n      <th>AGG</th>\n      <th>LQD</th>\n      <th>SHY</th>\n      <th>IEF</th>\n    </tr>\n    <tr>\n      <th>Date</th>\n      <th></th>\n      <th></th>\n      <th></th>\n      <th></th>\n      <th></th>\n      <th></th>\n      <th></th>\n    </tr>\n  </thead>\n  <tbody>\n    <tr>\n      <th>2023-03-31</th>\n      <td>0.872554</td>\n      <td>1.001709</td>\n      <td>0.687318</td>\n      <td>0.395472</td>\n      <td>0.622733</td>\n      <td>0.231262</td>\n      <td>0.548058</td>\n    </tr>\n    <tr>\n      <th>2023-04-28</th>\n      <td>0.444582</td>\n      <td>0.808043</td>\n      <td>-0.103735</td>\n      <td>0.106512</td>\n      <td>0.146722</td>\n      <td>0.041953</td>\n      <td>0.177557</td>\n    </tr>\n    <tr>\n      <th>2023-05-31</th>\n      <td>0.336382</td>\n      <td>-0.369270</td>\n      <td>-0.464126</td>\n      <td>-0.156733</td>\n      <td>-0.250153</td>\n      <td>-0.052581</td>\n      <td>-0.146559</td>\n    </tr>\n    <tr>\n      <th>2023-06-30</th>\n      <td>1.555667</td>\n      <td>0.838682</td>\n      <td>0.514750</td>\n      <td>-0.160212</td>\n      <td>0.038568</td>\n      <td>-0.163601</td>\n      <td>-0.318957</td>\n    </tr>\n    <tr>\n      <th>2023-07-31</th>\n      <td>1.162852</td>\n      <td>0.676801</td>\n      <td>1.091574</td>\n      <td>-0.236404</td>\n      <td>-0.221326</td>\n      <td>-0.085539</td>\n      <td>-0.426482</td>\n    </tr>\n    <tr>\n      <th>2023-08-31</th>\n      <td>0.529227</td>\n      <td>-0.170982</td>\n      <td>-0.650007</td>\n      <td>-0.229241</td>\n      <td>-0.266233</td>\n      <td>-0.010383</td>\n      <td>-0.331676</td>\n    </tr>\n    <tr>\n      <th>2023-09-29</th>\n      <td>-0.471305</td>\n      <td>-0.607319</td>\n      <td>-0.525062</td>\n      <td>-0.638100</td>\n      <td>-0.837035</td>\n      <td>-0.077231</td>\n      <td>-0.811559</td>\n    </tr>\n    <tr>\n      <th>2023-10-31</th>\n      <td>-0.514389</td>\n      <td>-0.941465</td>\n      <td>-0.946641</td>\n      <td>-0.621012</td>\n      <td>-0.874427</td>\n      <td>-0.023163</td>\n      <td>-0.773387</td>\n    </tr>\n    <tr>\n      <th>2023-11-30</th>\n      <td>1.459212</td>\n      <td>1.193521</td>\n      <td>1.047735</td>\n      <td>0.423650</td>\n      <td>0.828091</td>\n      <td>0.114096</td>\n      <td>0.315147</td>\n    </tr>\n    <tr>\n      <th>2023-12-29</th>\n      <td>1.335253</td>\n      <td>1.104745</td>\n      <td>0.529187</td>\n      <td>0.644194</td>\n      <td>0.928338</td>\n      <td>0.144575</td>\n      <td>0.594479</td>\n    </tr>\n    <tr>\n      <th>2024-01-31</th>\n      <td>1.112413</td>\n      <td>0.381375</td>\n      <td>-0.600487</td>\n      <td>0.293989</td>\n      <td>0.427255</td>\n      <td>0.135929</td>\n      <td>0.302767</td>\n    </tr>\n    <tr>\n      <th>2024-02-29</th>\n      <td>1.617176</td>\n      <td>0.796173</td>\n      <td>0.631516</td>\n      <td>-0.154839</td>\n      <td>-0.177151</td>\n      <td>-0.055675</td>\n      <td>-0.272297</td>\n    </tr>\n    <tr>\n      <th>2024-03-26</th>\n      <td>1.409437</td>\n      <td>0.924810</td>\n      <td>0.545607</td>\n      <td>0.020532</td>\n      <td>0.083084</td>\n      <td>-0.006531</td>\n      <td>-0.080069</td>\n    </tr>\n  </tbody>\n</table>\n</div>"
     },
     "execution_count": 42,
     "metadata": {},
     "output_type": "execute_result"
    }
   ],
   "source": [
    "# 모멘텀 스코어 구하기\n",
    "# (최근 1개월 수익률x12) + (최근 3개월 수익률x4) + (최근 6개월 수익률x2) + (최근 12개월 수익률x1)\n",
    "\n",
    "rebalDate = getRebalancingDate(vaaData) # 리밸런싱 매월 말 날짜\n",
    "vaaDataOnRebalDate = vaaData.loc[rebalDate] # 매월 말 가격 데이터\n",
    "\n",
    "momentum1 = vaaDataOnRebalDate / vaaDataOnRebalDate.shift(1) -1 # 1개월 모멘텀\n",
    "momentum3 = vaaDataOnRebalDate / vaaDataOnRebalDate.shift(3) - 1 # 3개월 모멘텀\n",
    "momentum6 = vaaDataOnRebalDate / vaaDataOnRebalDate.shift(6) -1 # 6개월 모멘텀\n",
    "momentum12 = vaaDataOnRebalDate / vaaDataOnRebalDate.shift(12) -1 # 12개월 모멘텀\n",
    "\n",
    "momentumScore = 12*momentum1 + 4*momentum3 + 2*momentum6 + momentum12\n",
    "momentumScore.dropna(inplace=True)\n",
    "momentumScore"
   ],
   "metadata": {
    "collapsed": false,
    "ExecuteTime": {
     "end_time": "2024-03-26T16:13:58.301248Z",
     "start_time": "2024-03-26T16:13:58.285165Z"
    }
   },
   "id": "cbe87e57de01e8d4",
   "execution_count": 42
  },
  {
   "cell_type": "code",
   "outputs": [
    {
     "data": {
      "text/plain": "              VOO    VEA    EEM    AGG\nDate                                  \n2023-03-31   True   True   True   True\n2023-04-28   True   True  False   True\n2023-05-31   True  False  False  False\n2023-06-30   True   True   True  False\n2023-07-31   True   True   True  False\n2023-08-31   True  False  False  False\n2023-09-29  False  False  False  False\n2023-10-31  False  False  False  False\n2023-11-30   True   True   True   True\n2023-12-29   True   True   True   True\n2024-01-31   True   True  False   True\n2024-02-29   True   True   True  False\n2024-03-26   True   True   True   True",
      "text/html": "<div>\n<style scoped>\n    .dataframe tbody tr th:only-of-type {\n        vertical-align: middle;\n    }\n\n    .dataframe tbody tr th {\n        vertical-align: top;\n    }\n\n    .dataframe thead th {\n        text-align: right;\n    }\n</style>\n<table border=\"1\" class=\"dataframe\">\n  <thead>\n    <tr style=\"text-align: right;\">\n      <th></th>\n      <th>VOO</th>\n      <th>VEA</th>\n      <th>EEM</th>\n      <th>AGG</th>\n    </tr>\n    <tr>\n      <th>Date</th>\n      <th></th>\n      <th></th>\n      <th></th>\n      <th></th>\n    </tr>\n  </thead>\n  <tbody>\n    <tr>\n      <th>2023-03-31</th>\n      <td>True</td>\n      <td>True</td>\n      <td>True</td>\n      <td>True</td>\n    </tr>\n    <tr>\n      <th>2023-04-28</th>\n      <td>True</td>\n      <td>True</td>\n      <td>False</td>\n      <td>True</td>\n    </tr>\n    <tr>\n      <th>2023-05-31</th>\n      <td>True</td>\n      <td>False</td>\n      <td>False</td>\n      <td>False</td>\n    </tr>\n    <tr>\n      <th>2023-06-30</th>\n      <td>True</td>\n      <td>True</td>\n      <td>True</td>\n      <td>False</td>\n    </tr>\n    <tr>\n      <th>2023-07-31</th>\n      <td>True</td>\n      <td>True</td>\n      <td>True</td>\n      <td>False</td>\n    </tr>\n    <tr>\n      <th>2023-08-31</th>\n      <td>True</td>\n      <td>False</td>\n      <td>False</td>\n      <td>False</td>\n    </tr>\n    <tr>\n      <th>2023-09-29</th>\n      <td>False</td>\n      <td>False</td>\n      <td>False</td>\n      <td>False</td>\n    </tr>\n    <tr>\n      <th>2023-10-31</th>\n      <td>False</td>\n      <td>False</td>\n      <td>False</td>\n      <td>False</td>\n    </tr>\n    <tr>\n      <th>2023-11-30</th>\n      <td>True</td>\n      <td>True</td>\n      <td>True</td>\n      <td>True</td>\n    </tr>\n    <tr>\n      <th>2023-12-29</th>\n      <td>True</td>\n      <td>True</td>\n      <td>True</td>\n      <td>True</td>\n    </tr>\n    <tr>\n      <th>2024-01-31</th>\n      <td>True</td>\n      <td>True</td>\n      <td>False</td>\n      <td>True</td>\n    </tr>\n    <tr>\n      <th>2024-02-29</th>\n      <td>True</td>\n      <td>True</td>\n      <td>True</td>\n      <td>False</td>\n    </tr>\n    <tr>\n      <th>2024-03-26</th>\n      <td>True</td>\n      <td>True</td>\n      <td>True</td>\n      <td>True</td>\n    </tr>\n  </tbody>\n</table>\n</div>"
     },
     "execution_count": 43,
     "metadata": {},
     "output_type": "execute_result"
    }
   ],
   "source": [
    "# 공격자산 4개 모멘텀 스코어가 전부 0 초과일 경우 가장 모멘텀스코어가 높은 공격자산에 몰빵\n",
    "# 공격자산 중 하나라도 모멘텀스코어가 0 이하일 경우 가장 모멘텀스코어가 높은 수비자산에 몰빵\n",
    "\n",
    "momentumScore[vaaAttack] > 0"
   ],
   "metadata": {
    "collapsed": false,
    "ExecuteTime": {
     "end_time": "2024-03-26T16:14:01.355389Z",
     "start_time": "2024-03-26T16:14:01.348153Z"
    }
   },
   "id": "78939de82520f6aa",
   "execution_count": 43
  },
  {
   "cell_type": "code",
   "outputs": [
    {
     "data": {
      "text/plain": "Date\n2023-03-31     True\n2023-04-28    False\n2023-05-31    False\n2023-06-30    False\n2023-07-31    False\n2023-08-31    False\n2023-09-29    False\n2023-10-31    False\n2023-11-30     True\n2023-12-29     True\n2024-01-31    False\n2024-02-29    False\n2024-03-26     True\ndtype: bool"
     },
     "execution_count": 44,
     "metadata": {},
     "output_type": "execute_result"
    }
   ],
   "source": [
    "isAttack = (momentumScore[vaaAttack] > 0).all(axis=1)\n",
    "isAttack"
   ],
   "metadata": {
    "collapsed": false,
    "ExecuteTime": {
     "end_time": "2024-03-26T16:14:05.040190Z",
     "start_time": "2024-03-26T16:14:05.034110Z"
    }
   },
   "id": "3f91f076f6601098",
   "execution_count": 44
  },
  {
   "cell_type": "markdown",
   "source": [
    "### pandas series type의 index, name, idxmax(), astype() 함수"
   ],
   "metadata": {
    "collapsed": false
   },
   "id": "594294379a2a3303"
  },
  {
   "cell_type": "code",
   "outputs": [
    {
     "data": {
      "text/plain": "a     True\nb     True\nc    False\nName: dummy series, dtype: bool"
     },
     "execution_count": 31,
     "metadata": {},
     "output_type": "execute_result"
    }
   ],
   "source": [
    "s = pd.Series([True, True, False], index=['a', 'b', 'c'], name=\"dummy series\")\n",
    "s"
   ],
   "metadata": {
    "collapsed": false,
    "ExecuteTime": {
     "end_time": "2024-03-26T16:09:25.427542Z",
     "start_time": "2024-03-26T16:09:25.422577Z"
    }
   },
   "id": "c7a51c96a52fa1a1",
   "execution_count": 31
  },
  {
   "cell_type": "code",
   "outputs": [
    {
     "data": {
      "text/plain": "Index(['a', 'b', 'c'], dtype='object')"
     },
     "execution_count": 32,
     "metadata": {},
     "output_type": "execute_result"
    }
   ],
   "source": [
    "s.index"
   ],
   "metadata": {
    "collapsed": false,
    "ExecuteTime": {
     "end_time": "2024-03-26T16:09:44.225059Z",
     "start_time": "2024-03-26T16:09:44.221145Z"
    }
   },
   "id": "3c60145fa39f5899",
   "execution_count": 32
  },
  {
   "cell_type": "code",
   "outputs": [
    {
     "data": {
      "text/plain": "'dummy series'"
     },
     "execution_count": 33,
     "metadata": {},
     "output_type": "execute_result"
    }
   ],
   "source": [
    "s.name"
   ],
   "metadata": {
    "collapsed": false,
    "ExecuteTime": {
     "end_time": "2024-03-26T16:09:48.974103Z",
     "start_time": "2024-03-26T16:09:48.969109Z"
    }
   },
   "id": "ab23e980a513d1ab",
   "execution_count": 33
  },
  {
   "cell_type": "code",
   "outputs": [
    {
     "data": {
      "text/plain": "'a'"
     },
     "execution_count": 37,
     "metadata": {},
     "output_type": "execute_result"
    }
   ],
   "source": [
    "s.idxmax() # 이 데이터에 맨처음관측된 최대값의 인덱스 반환  True > False"
   ],
   "metadata": {
    "collapsed": false,
    "ExecuteTime": {
     "end_time": "2024-03-26T16:11:09.580263Z",
     "start_time": "2024-03-26T16:11:09.576011Z"
    }
   },
   "id": "103805a9a337eb76",
   "execution_count": 37
  },
  {
   "cell_type": "code",
   "outputs": [
    {
     "data": {
      "text/plain": "a    1\nb    1\nc    0\nName: dummy series, dtype: int32"
     },
     "execution_count": 38,
     "metadata": {},
     "output_type": "execute_result"
    }
   ],
   "source": [
    "s.astype(int) # 타입을 바꾸는"
   ],
   "metadata": {
    "collapsed": false,
    "ExecuteTime": {
     "end_time": "2024-03-26T16:11:11.527240Z",
     "start_time": "2024-03-26T16:11:11.521933Z"
    }
   },
   "id": "37ef4f6ee7234a02",
   "execution_count": 38
  },
  {
   "cell_type": "markdown",
   "source": [],
   "metadata": {
    "collapsed": false
   },
   "id": "184fcc2f3fc901cf"
  },
  {
   "cell_type": "markdown",
   "source": [
    "### VAA 투자비중 계산"
   ],
   "metadata": {
    "collapsed": false
   },
   "id": "2f811b353c11144e"
  },
  {
   "cell_type": "code",
   "outputs": [
    {
     "data": {
      "text/plain": "                VOO      VEA       EEM       AGG       LQD       SHY       IEF\nDate                                                                          \n2024-03-26  1.41242  0.92481  0.547996  0.020336  0.079556 -0.006531 -0.081053",
      "text/html": "<div>\n<style scoped>\n    .dataframe tbody tr th:only-of-type {\n        vertical-align: middle;\n    }\n\n    .dataframe tbody tr th {\n        vertical-align: top;\n    }\n\n    .dataframe thead th {\n        text-align: right;\n    }\n</style>\n<table border=\"1\" class=\"dataframe\">\n  <thead>\n    <tr style=\"text-align: right;\">\n      <th></th>\n      <th>VOO</th>\n      <th>VEA</th>\n      <th>EEM</th>\n      <th>AGG</th>\n      <th>LQD</th>\n      <th>SHY</th>\n      <th>IEF</th>\n    </tr>\n    <tr>\n      <th>Date</th>\n      <th></th>\n      <th></th>\n      <th></th>\n      <th></th>\n      <th></th>\n      <th></th>\n      <th></th>\n    </tr>\n  </thead>\n  <tbody>\n    <tr>\n      <th>2024-03-26</th>\n      <td>1.41242</td>\n      <td>0.92481</td>\n      <td>0.547996</td>\n      <td>0.020336</td>\n      <td>0.079556</td>\n      <td>-0.006531</td>\n      <td>-0.081053</td>\n    </tr>\n  </tbody>\n</table>\n</div>"
     },
     "execution_count": 39,
     "metadata": {},
     "output_type": "execute_result"
    }
   ],
   "source": [
    "momentumScore"
   ],
   "metadata": {
    "collapsed": false,
    "ExecuteTime": {
     "end_time": "2024-03-26T16:11:49.500047Z",
     "start_time": "2024-03-26T16:11:49.491662Z"
    }
   },
   "id": "a0f78833c8208bc5",
   "execution_count": 39
  },
  {
   "cell_type": "code",
   "outputs": [
    {
     "data": {
      "text/plain": "            VOO  VEA  EEM  AGG  LQD  SHY  IEF\nDate                                         \n2023-03-31    0    1    0    0    0    0    0\n2023-04-28    0    0    0    0    0    0    1\n2023-05-31    0    0    0    0    0    1    0\n2023-06-30    0    0    0    0    1    0    0\n2023-07-31    0    0    0    0    0    1    0\n2023-08-31    0    0    0    0    0    1    0\n2023-09-29    0    0    0    0    0    1    0\n2023-10-31    0    0    0    0    0    1    0\n2023-11-30    1    0    0    0    0    0    0\n2023-12-29    1    0    0    0    0    0    0\n2024-01-31    0    0    0    0    1    0    0\n2024-02-29    0    0    0    0    0    1    0\n2024-03-26    1    0    0    0    0    0    0",
      "text/html": "<div>\n<style scoped>\n    .dataframe tbody tr th:only-of-type {\n        vertical-align: middle;\n    }\n\n    .dataframe tbody tr th {\n        vertical-align: top;\n    }\n\n    .dataframe thead th {\n        text-align: right;\n    }\n</style>\n<table border=\"1\" class=\"dataframe\">\n  <thead>\n    <tr style=\"text-align: right;\">\n      <th></th>\n      <th>VOO</th>\n      <th>VEA</th>\n      <th>EEM</th>\n      <th>AGG</th>\n      <th>LQD</th>\n      <th>SHY</th>\n      <th>IEF</th>\n    </tr>\n    <tr>\n      <th>Date</th>\n      <th></th>\n      <th></th>\n      <th></th>\n      <th></th>\n      <th></th>\n      <th></th>\n      <th></th>\n    </tr>\n  </thead>\n  <tbody>\n    <tr>\n      <th>2023-03-31</th>\n      <td>0</td>\n      <td>1</td>\n      <td>0</td>\n      <td>0</td>\n      <td>0</td>\n      <td>0</td>\n      <td>0</td>\n    </tr>\n    <tr>\n      <th>2023-04-28</th>\n      <td>0</td>\n      <td>0</td>\n      <td>0</td>\n      <td>0</td>\n      <td>0</td>\n      <td>0</td>\n      <td>1</td>\n    </tr>\n    <tr>\n      <th>2023-05-31</th>\n      <td>0</td>\n      <td>0</td>\n      <td>0</td>\n      <td>0</td>\n      <td>0</td>\n      <td>1</td>\n      <td>0</td>\n    </tr>\n    <tr>\n      <th>2023-06-30</th>\n      <td>0</td>\n      <td>0</td>\n      <td>0</td>\n      <td>0</td>\n      <td>1</td>\n      <td>0</td>\n      <td>0</td>\n    </tr>\n    <tr>\n      <th>2023-07-31</th>\n      <td>0</td>\n      <td>0</td>\n      <td>0</td>\n      <td>0</td>\n      <td>0</td>\n      <td>1</td>\n      <td>0</td>\n    </tr>\n    <tr>\n      <th>2023-08-31</th>\n      <td>0</td>\n      <td>0</td>\n      <td>0</td>\n      <td>0</td>\n      <td>0</td>\n      <td>1</td>\n      <td>0</td>\n    </tr>\n    <tr>\n      <th>2023-09-29</th>\n      <td>0</td>\n      <td>0</td>\n      <td>0</td>\n      <td>0</td>\n      <td>0</td>\n      <td>1</td>\n      <td>0</td>\n    </tr>\n    <tr>\n      <th>2023-10-31</th>\n      <td>0</td>\n      <td>0</td>\n      <td>0</td>\n      <td>0</td>\n      <td>0</td>\n      <td>1</td>\n      <td>0</td>\n    </tr>\n    <tr>\n      <th>2023-11-30</th>\n      <td>1</td>\n      <td>0</td>\n      <td>0</td>\n      <td>0</td>\n      <td>0</td>\n      <td>0</td>\n      <td>0</td>\n    </tr>\n    <tr>\n      <th>2023-12-29</th>\n      <td>1</td>\n      <td>0</td>\n      <td>0</td>\n      <td>0</td>\n      <td>0</td>\n      <td>0</td>\n      <td>0</td>\n    </tr>\n    <tr>\n      <th>2024-01-31</th>\n      <td>0</td>\n      <td>0</td>\n      <td>0</td>\n      <td>0</td>\n      <td>1</td>\n      <td>0</td>\n      <td>0</td>\n    </tr>\n    <tr>\n      <th>2024-02-29</th>\n      <td>0</td>\n      <td>0</td>\n      <td>0</td>\n      <td>0</td>\n      <td>0</td>\n      <td>1</td>\n      <td>0</td>\n    </tr>\n    <tr>\n      <th>2024-03-26</th>\n      <td>1</td>\n      <td>0</td>\n      <td>0</td>\n      <td>0</td>\n      <td>0</td>\n      <td>0</td>\n      <td>0</td>\n    </tr>\n  </tbody>\n</table>\n</div>"
     },
     "execution_count": 45,
     "metadata": {},
     "output_type": "execute_result"
    }
   ],
   "source": [
    "def getVAAWegiht(row):\n",
    "    vaaAttack = ['VOO', \"VEA\", \"EEM\", \"AGG\"]\n",
    "    vaaDefense = [\"LQD\", \"SHY\", \"IEF\"]\n",
    "\n",
    "    #     print(row)\n",
    "    #     print(row.name) # series row의 name, 날짜\n",
    "    #     print(row.index) # series row의 index, 종목 ticker\n",
    "\n",
    "    # 공격자산을 선택하는 경우,\n",
    "    if isAttack[row.name]:\n",
    "        # 공격자산 중 가장 모멘텀 스코어가 높은 종목에 몰빵\n",
    "        result = pd.Series(row.index == row[vaaAttack].idxmax(), index=row.index, name=row.name).astype(int)\n",
    "        return result\n",
    "\n",
    "    # 수비자산을 선택하는 경우,\n",
    "    # 수비자산 중 가장 모멘텀스코어가 높은 종목에 몰빵\n",
    "    result = pd.Series(row.index == row[vaaDefense].idxmax(), index=row.index, name=row.name).astype(int)\n",
    "    return result\n",
    "\n",
    "vaaWeight = momentumScore.apply(getVAAWegiht, axis=1)\n",
    "# vaaWeight = vaaWeight.loc[\"2010-12-31\":]\n",
    "vaaWeight"
   ],
   "metadata": {
    "collapsed": false,
    "ExecuteTime": {
     "end_time": "2024-03-26T16:14:34.949329Z",
     "start_time": "2024-03-26T16:14:34.932759Z"
    }
   },
   "id": "a865bdf9f581292f",
   "execution_count": 45
  },
  {
   "cell_type": "code",
   "outputs": [
    {
     "name": "stdout",
     "output_type": "stream",
     "text": [
      "최종 수익률: 1.039575662955292\n",
      "cagr: 1.0402266513484462\n",
      "mdd: 5.237555967966748\n"
     ]
    }
   ],
   "source": [
    "vaaDayReturn, vaaCumReturn = getRebalancingPortfolioResult(vaaData, weightDf=vaaWeight)\n",
    "# vaaDayReturn\n",
    "vaaCagr, vaaDD, vaaMDD = getEvaluation(vaaCumReturn)"
   ],
   "metadata": {
    "collapsed": false,
    "ExecuteTime": {
     "end_time": "2024-03-26T16:19:47.315190Z",
     "start_time": "2024-03-26T16:19:47.294955Z"
    }
   },
   "id": "b686ffc8dcdbef95",
   "execution_count": 51
  },
  {
   "cell_type": "markdown",
   "source": [
    "### VAA 비중 함수"
   ],
   "metadata": {
    "collapsed": false
   },
   "id": "aaaec6cac379758e"
  },
  {
   "cell_type": "code",
   "outputs": [],
   "source": [
    "def getVAAWeight(closeDataSet):\n",
    "    vaaCol = ['VOO', \"VEA\", \"EEM\", \"AGG\", \"LQD\", \"SHY\", \"IEF\"]\n",
    "    vaaAttack = ['VOO', \"VEA\", \"EEM\", \"AGG\"]\n",
    "    vaaDefense = [\"LQD\", \"SHY\", \"IEF\"]\n",
    "    vaaData = closeDataSet[vaaCol]\n",
    "\n",
    "    # 모멘텀 스코어를 구하기\n",
    "    # (최근 1개월 수익률x12) + (최근 3개월 수익률x4) + (최근 6개월 수익률x2) + (최근 12개월 수익률x1)\n",
    "    rebalDate = getRebalancingDate(vaaData)\n",
    "    vaaDataOnRebalDate = vaaData.loc[rebalDate]\n",
    "\n",
    "    momentum1 = vaaDataOnRebalDate / vaaDataOnRebalDate.shift(1) -1\n",
    "    momentum3 = vaaDataOnRebalDate / vaaDataOnRebalDate.shift(3) - 1\n",
    "    momentum6 = vaaDataOnRebalDate / vaaDataOnRebalDate.shift(6) -1\n",
    "    momentum12 = vaaDataOnRebalDate / vaaDataOnRebalDate.shift(12) -1\n",
    "\n",
    "    momentumScore = 12*momentum1 + 4*momentum3 + 2*momentum6 + momentum12\n",
    "    momentumScore.dropna(inplace=True)\n",
    "\n",
    "    # 공격자산 4개 모멘텀 스코어가 전부 0 초과일 경우 가장 모멘텀스코어가 높은 공격자산에 몰빵\n",
    "    # 공격자산 중 하나라도 모멘텀스코어가 0 이하일 경우 가장 모멘텀스코어가 높은 수비자산에 몰빵\n",
    "    isAttack = (momentumScore[vaaAttack] > 0).all(axis=1)\n",
    "    vaaWeight = momentumScore.apply(applyGetVAAWegiht, axis=1, args=(isAttack,))\n",
    "\n",
    "    return vaaWeight\n",
    "\n",
    "def applyGetVAAWegiht(row, isAttack):\n",
    "    vaaAttack = ['VOO', \"VEA\", \"EEM\", \"AGG\"]\n",
    "    vaaDefense = [\"VOO\", \"SHY\", \"IEF\"]\n",
    "\n",
    "    if isAttack[row.name]:\n",
    "        # 공격자산 중 가장 모멘텀 스코어가 높은 종목에 몰빵\n",
    "        return pd.Series(row.index == row[vaaAttack].idxmax(), index=row.index, name=row.name).astype(int)\n",
    "\n",
    "    # 수비자산 중 가장 모멘텀스코어가 높은 종목에 몰빵\n",
    "    return pd.Series(row.index == row[vaaDefense].idxmax(), index=row.index, name=row.name).astype(int)"
   ],
   "metadata": {
    "collapsed": false,
    "ExecuteTime": {
     "end_time": "2024-03-26T16:23:24.865626Z",
     "start_time": "2024-03-26T16:23:24.858599Z"
    }
   },
   "id": "622e4d6717476062",
   "execution_count": 53
  },
  {
   "cell_type": "code",
   "outputs": [
    {
     "data": {
      "text/plain": "            VOO  VEA  EEM  AGG  LQD  SHY  IEF\nDate                                         \n2023-03-31    0    1    0    0    0    0    0\n2023-04-28    1    0    0    0    0    0    0\n2023-05-31    1    0    0    0    0    0    0\n2023-06-30    1    0    0    0    0    0    0\n2023-07-31    1    0    0    0    0    0    0\n2023-08-31    1    0    0    0    0    0    0\n2023-09-29    0    0    0    0    0    1    0\n2023-10-31    0    0    0    0    0    1    0\n2023-11-30    1    0    0    0    0    0    0\n2023-12-29    1    0    0    0    0    0    0\n2024-01-31    1    0    0    0    0    0    0\n2024-02-29    1    0    0    0    0    0    0\n2024-03-26    1    0    0    0    0    0    0",
      "text/html": "<div>\n<style scoped>\n    .dataframe tbody tr th:only-of-type {\n        vertical-align: middle;\n    }\n\n    .dataframe tbody tr th {\n        vertical-align: top;\n    }\n\n    .dataframe thead th {\n        text-align: right;\n    }\n</style>\n<table border=\"1\" class=\"dataframe\">\n  <thead>\n    <tr style=\"text-align: right;\">\n      <th></th>\n      <th>VOO</th>\n      <th>VEA</th>\n      <th>EEM</th>\n      <th>AGG</th>\n      <th>LQD</th>\n      <th>SHY</th>\n      <th>IEF</th>\n    </tr>\n    <tr>\n      <th>Date</th>\n      <th></th>\n      <th></th>\n      <th></th>\n      <th></th>\n      <th></th>\n      <th></th>\n      <th></th>\n    </tr>\n  </thead>\n  <tbody>\n    <tr>\n      <th>2023-03-31</th>\n      <td>0</td>\n      <td>1</td>\n      <td>0</td>\n      <td>0</td>\n      <td>0</td>\n      <td>0</td>\n      <td>0</td>\n    </tr>\n    <tr>\n      <th>2023-04-28</th>\n      <td>1</td>\n      <td>0</td>\n      <td>0</td>\n      <td>0</td>\n      <td>0</td>\n      <td>0</td>\n      <td>0</td>\n    </tr>\n    <tr>\n      <th>2023-05-31</th>\n      <td>1</td>\n      <td>0</td>\n      <td>0</td>\n      <td>0</td>\n      <td>0</td>\n      <td>0</td>\n      <td>0</td>\n    </tr>\n    <tr>\n      <th>2023-06-30</th>\n      <td>1</td>\n      <td>0</td>\n      <td>0</td>\n      <td>0</td>\n      <td>0</td>\n      <td>0</td>\n      <td>0</td>\n    </tr>\n    <tr>\n      <th>2023-07-31</th>\n      <td>1</td>\n      <td>0</td>\n      <td>0</td>\n      <td>0</td>\n      <td>0</td>\n      <td>0</td>\n      <td>0</td>\n    </tr>\n    <tr>\n      <th>2023-08-31</th>\n      <td>1</td>\n      <td>0</td>\n      <td>0</td>\n      <td>0</td>\n      <td>0</td>\n      <td>0</td>\n      <td>0</td>\n    </tr>\n    <tr>\n      <th>2023-09-29</th>\n      <td>0</td>\n      <td>0</td>\n      <td>0</td>\n      <td>0</td>\n      <td>0</td>\n      <td>1</td>\n      <td>0</td>\n    </tr>\n    <tr>\n      <th>2023-10-31</th>\n      <td>0</td>\n      <td>0</td>\n      <td>0</td>\n      <td>0</td>\n      <td>0</td>\n      <td>1</td>\n      <td>0</td>\n    </tr>\n    <tr>\n      <th>2023-11-30</th>\n      <td>1</td>\n      <td>0</td>\n      <td>0</td>\n      <td>0</td>\n      <td>0</td>\n      <td>0</td>\n      <td>0</td>\n    </tr>\n    <tr>\n      <th>2023-12-29</th>\n      <td>1</td>\n      <td>0</td>\n      <td>0</td>\n      <td>0</td>\n      <td>0</td>\n      <td>0</td>\n      <td>0</td>\n    </tr>\n    <tr>\n      <th>2024-01-31</th>\n      <td>1</td>\n      <td>0</td>\n      <td>0</td>\n      <td>0</td>\n      <td>0</td>\n      <td>0</td>\n      <td>0</td>\n    </tr>\n    <tr>\n      <th>2024-02-29</th>\n      <td>1</td>\n      <td>0</td>\n      <td>0</td>\n      <td>0</td>\n      <td>0</td>\n      <td>0</td>\n      <td>0</td>\n    </tr>\n    <tr>\n      <th>2024-03-26</th>\n      <td>1</td>\n      <td>0</td>\n      <td>0</td>\n      <td>0</td>\n      <td>0</td>\n      <td>0</td>\n      <td>0</td>\n    </tr>\n  </tbody>\n</table>\n</div>"
     },
     "execution_count": 55,
     "metadata": {},
     "output_type": "execute_result"
    }
   ],
   "source": [
    "getVAAWeight(closeDataSet=vaaData)"
   ],
   "metadata": {
    "collapsed": false,
    "ExecuteTime": {
     "end_time": "2024-03-26T16:23:45.301752Z",
     "start_time": "2024-03-26T16:23:45.282234Z"
    }
   },
   "id": "b4712abb69535760",
   "execution_count": 55
  },
  {
   "cell_type": "code",
   "outputs": [
    {
     "name": "stdout",
     "output_type": "stream",
     "text": [
      "최종 수익률: 1.2145095523074592\n",
      "cagr: 1.2183224312971614\n",
      "mdd: 7.054638293523243\n"
     ]
    }
   ],
   "source": [
    "# 투자시작시점 \n",
    "vaaDayReturn, vaaCumReturn = getRebalancingPortfolioResult(closeDataSet=vaaData, weightDf=getVAAWeight(vaaData).loc[twentyYearAgo:])\n",
    "vaaCagr, vaaDD, vaaMDD = getEvaluation(vaaCumReturn)"
   ],
   "metadata": {
    "collapsed": false,
    "ExecuteTime": {
     "end_time": "2024-03-26T16:26:40.486859Z",
     "start_time": "2024-03-26T16:26:40.453660Z"
    }
   },
   "id": "578eb163d58ba932",
   "execution_count": 57
  },
  {
   "cell_type": "markdown",
   "source": [
    "### 방어자산에 현금을 추가한다면?"
   ],
   "metadata": {
    "collapsed": false
   },
   "id": "648f4e3675da4d0a"
  },
  {
   "cell_type": "code",
   "outputs": [],
   "source": [
    "# 이렇게, 방어자산의 모멘텀이 모두 음수인 경우엔...\n",
    "# 현금을 보유하는게 더 좋을 수도 있지 않을까?"
   ],
   "metadata": {
    "collapsed": false,
    "ExecuteTime": {
     "end_time": "2024-03-26T16:28:31.171313Z",
     "start_time": "2024-03-26T16:28:31.168211Z"
    }
   },
   "id": "d1f25734177aa689",
   "execution_count": 58
  },
  {
   "cell_type": "code",
   "outputs": [],
   "source": [
    "def getVAAWeight(closeDataSet):\n",
    "    vaaCol = ['VOO', \"VEA\", \"EEM\", \"AGG\", \"LQD\", \"SHY\", \"IEF\", \"cash\"]\n",
    "    vaaAttack = ['VOO', \"VEA\", \"EEM\", \"AGG\"]\n",
    "    vaaDefense = [\"LQD\", \"SHY\", \"IEF\", \"cash\"]\n",
    "    vaaData = closeDataSet[vaaCol]\n",
    "\n",
    "    # 모멘텀 스코어를 구하기\n",
    "    # (최근 1개월 수익률x12) + (최근 3개월 수익률x4) + (최근 6개월 수익률x2) + (최근 12개월 수익률x1)\n",
    "    rebalDate = getRebalancingDate(vaaData)\n",
    "    vaaDataOnRebalDate = vaaData.loc[rebalDate]\n",
    "\n",
    "    momentum1 = vaaDataOnRebalDate / vaaDataOnRebalDate.shift(1) -1\n",
    "    momentum3 = vaaDataOnRebalDate / vaaDataOnRebalDate.shift(3) - 1\n",
    "    momentum6 = vaaDataOnRebalDate / vaaDataOnRebalDate.shift(6) -1\n",
    "    momentum12 = vaaDataOnRebalDate / vaaDataOnRebalDate.shift(12) -1\n",
    "\n",
    "    momentumScore = 12*momentum1 + 4*momentum3 + 2*momentum6 + momentum12\n",
    "    momentumScore.dropna(inplace=True)\n",
    "\n",
    "    # 공격자산 4개 모멘텀 스코어가 전부 0 초과일 경우 가장 모멘텀스코어가 높은 공격자산에 몰빵\n",
    "    # 공격자산 중 하나라도 모멘텀스코어가 0 이하일 경우 가장 모멘텀스코어가 높은 수비자산에 몰빵\n",
    "    isAttack = (momentumScore[vaaAttack] > 0).all(axis=1)\n",
    "    vaaWeight = momentumScore.apply(applyGetVAAWegiht, axis=1, args=(isAttack,))\n",
    "    return vaaWeight\n",
    "\n",
    "def applyGetVAAWegiht(row, isAttack):\n",
    "    vaaAttack = ['VOO', \"VEA\", \"EEM\", \"AGG\"]\n",
    "    vaaDefense = [\"LQD\", \"SHY\", \"IEF\", \"cash\"]\n",
    "\n",
    "    if isAttack[row.name]:\n",
    "        # 공격자산 중 가장 모멘텀 스코어가 높은 종목에 몰빵\n",
    "        return pd.Series(row.index == row[vaaAttack].idxmax(), index=row.index, name=row.name).astype(int)\n",
    "\n",
    "    # 수비자산 중 가장 모멘텀스코어가 높은 종목에 몰빵\n",
    "    return pd.Series(row.index == row[vaaDefense].idxmax(), index=row.index, name=row.name).astype(int)"
   ],
   "metadata": {
    "collapsed": false,
    "ExecuteTime": {
     "end_time": "2024-03-26T16:30:10.808295Z",
     "start_time": "2024-03-26T16:30:10.802311Z"
    }
   },
   "id": "46f62c14365eab23",
   "execution_count": 63
  },
  {
   "cell_type": "markdown",
   "source": [],
   "metadata": {
    "collapsed": false
   },
   "id": "74996747589d6e57"
  },
  {
   "cell_type": "code",
   "outputs": [],
   "source": [
    "# vaaData에도 현금을 추가한다.\n",
    "vaaDataWithCash = vaaData.copy()\n",
    "vaaDataWithCash.loc[:,\"cash\"] = 1"
   ],
   "metadata": {
    "collapsed": false,
    "ExecuteTime": {
     "end_time": "2024-03-26T16:30:12.548032Z",
     "start_time": "2024-03-26T16:30:12.544670Z"
    }
   },
   "id": "d156444b3fcce8f9",
   "execution_count": 64
  },
  {
   "cell_type": "code",
   "outputs": [
    {
     "data": {
      "text/plain": "            VOO  VEA  EEM  AGG  LQD  SHY  IEF  cash\nDate                                               \n2023-03-31    0    1    0    0    0    0    0     0\n2023-04-28    0    0    0    0    0    0    1     0\n2023-05-31    0    0    0    0    0    0    0     1\n2023-06-30    0    0    0    0    1    0    0     0\n2023-07-31    0    0    0    0    0    0    0     1\n2023-08-31    0    0    0    0    0    0    0     1\n2023-09-29    0    0    0    0    0    0    0     1\n2023-10-31    0    0    0    0    0    0    0     1\n2023-11-30    1    0    0    0    0    0    0     0\n2023-12-29    1    0    0    0    0    0    0     0\n2024-01-31    0    0    0    0    1    0    0     0\n2024-02-29    0    0    0    0    0    0    0     1\n2024-03-26    1    0    0    0    0    0    0     0",
      "text/html": "<div>\n<style scoped>\n    .dataframe tbody tr th:only-of-type {\n        vertical-align: middle;\n    }\n\n    .dataframe tbody tr th {\n        vertical-align: top;\n    }\n\n    .dataframe thead th {\n        text-align: right;\n    }\n</style>\n<table border=\"1\" class=\"dataframe\">\n  <thead>\n    <tr style=\"text-align: right;\">\n      <th></th>\n      <th>VOO</th>\n      <th>VEA</th>\n      <th>EEM</th>\n      <th>AGG</th>\n      <th>LQD</th>\n      <th>SHY</th>\n      <th>IEF</th>\n      <th>cash</th>\n    </tr>\n    <tr>\n      <th>Date</th>\n      <th></th>\n      <th></th>\n      <th></th>\n      <th></th>\n      <th></th>\n      <th></th>\n      <th></th>\n      <th></th>\n    </tr>\n  </thead>\n  <tbody>\n    <tr>\n      <th>2023-03-31</th>\n      <td>0</td>\n      <td>1</td>\n      <td>0</td>\n      <td>0</td>\n      <td>0</td>\n      <td>0</td>\n      <td>0</td>\n      <td>0</td>\n    </tr>\n    <tr>\n      <th>2023-04-28</th>\n      <td>0</td>\n      <td>0</td>\n      <td>0</td>\n      <td>0</td>\n      <td>0</td>\n      <td>0</td>\n      <td>1</td>\n      <td>0</td>\n    </tr>\n    <tr>\n      <th>2023-05-31</th>\n      <td>0</td>\n      <td>0</td>\n      <td>0</td>\n      <td>0</td>\n      <td>0</td>\n      <td>0</td>\n      <td>0</td>\n      <td>1</td>\n    </tr>\n    <tr>\n      <th>2023-06-30</th>\n      <td>0</td>\n      <td>0</td>\n      <td>0</td>\n      <td>0</td>\n      <td>1</td>\n      <td>0</td>\n      <td>0</td>\n      <td>0</td>\n    </tr>\n    <tr>\n      <th>2023-07-31</th>\n      <td>0</td>\n      <td>0</td>\n      <td>0</td>\n      <td>0</td>\n      <td>0</td>\n      <td>0</td>\n      <td>0</td>\n      <td>1</td>\n    </tr>\n    <tr>\n      <th>2023-08-31</th>\n      <td>0</td>\n      <td>0</td>\n      <td>0</td>\n      <td>0</td>\n      <td>0</td>\n      <td>0</td>\n      <td>0</td>\n      <td>1</td>\n    </tr>\n    <tr>\n      <th>2023-09-29</th>\n      <td>0</td>\n      <td>0</td>\n      <td>0</td>\n      <td>0</td>\n      <td>0</td>\n      <td>0</td>\n      <td>0</td>\n      <td>1</td>\n    </tr>\n    <tr>\n      <th>2023-10-31</th>\n      <td>0</td>\n      <td>0</td>\n      <td>0</td>\n      <td>0</td>\n      <td>0</td>\n      <td>0</td>\n      <td>0</td>\n      <td>1</td>\n    </tr>\n    <tr>\n      <th>2023-11-30</th>\n      <td>1</td>\n      <td>0</td>\n      <td>0</td>\n      <td>0</td>\n      <td>0</td>\n      <td>0</td>\n      <td>0</td>\n      <td>0</td>\n    </tr>\n    <tr>\n      <th>2023-12-29</th>\n      <td>1</td>\n      <td>0</td>\n      <td>0</td>\n      <td>0</td>\n      <td>0</td>\n      <td>0</td>\n      <td>0</td>\n      <td>0</td>\n    </tr>\n    <tr>\n      <th>2024-01-31</th>\n      <td>0</td>\n      <td>0</td>\n      <td>0</td>\n      <td>0</td>\n      <td>1</td>\n      <td>0</td>\n      <td>0</td>\n      <td>0</td>\n    </tr>\n    <tr>\n      <th>2024-02-29</th>\n      <td>0</td>\n      <td>0</td>\n      <td>0</td>\n      <td>0</td>\n      <td>0</td>\n      <td>0</td>\n      <td>0</td>\n      <td>1</td>\n    </tr>\n    <tr>\n      <th>2024-03-26</th>\n      <td>1</td>\n      <td>0</td>\n      <td>0</td>\n      <td>0</td>\n      <td>0</td>\n      <td>0</td>\n      <td>0</td>\n      <td>0</td>\n    </tr>\n  </tbody>\n</table>\n</div>"
     },
     "execution_count": 65,
     "metadata": {},
     "output_type": "execute_result"
    }
   ],
   "source": [
    "# weight를 구하고 다시 성과를 측정한다.\n",
    "weightWithCash = getVAAWeight(vaaDataWithCash)\n",
    "weightWithCash = weightWithCash.loc[\"2010-12-31\":]\n",
    "weightWithCash"
   ],
   "metadata": {
    "collapsed": false,
    "ExecuteTime": {
     "end_time": "2024-03-26T16:30:14.283083Z",
     "start_time": "2024-03-26T16:30:14.258597Z"
    }
   },
   "id": "1606c863ac3c0e17",
   "execution_count": 65
  },
  {
   "cell_type": "code",
   "outputs": [
    {
     "name": "stdout",
     "output_type": "stream",
     "text": [
      "최종 수익률: 1.040789014289103\n",
      "cagr: 1.0414603565355642\n",
      "mdd: 4.5451467886443275\n"
     ]
    }
   ],
   "source": [
    "vaaDayReturn, vaaCumReturn = getRebalancingPortfolioResult(vaaDataWithCash, weightDf=weightWithCash)\n",
    "vaaCagr, vaaDD, vaaMDD = getEvaluation(vaaCumReturn)"
   ],
   "metadata": {
    "collapsed": false,
    "ExecuteTime": {
     "end_time": "2024-03-26T16:30:25.824181Z",
     "start_time": "2024-03-26T16:30:25.795498Z"
    }
   },
   "id": "bccd84aca5f3aad4",
   "execution_count": 66
  }
 ],
 "metadata": {
  "kernelspec": {
   "display_name": "Python 3",
   "language": "python",
   "name": "python3"
  },
  "language_info": {
   "codemirror_mode": {
    "name": "ipython",
    "version": 2
   },
   "file_extension": ".py",
   "mimetype": "text/x-python",
   "name": "python",
   "nbconvert_exporter": "python",
   "pygments_lexer": "ipython2",
   "version": "2.7.6"
  }
 },
 "nbformat": 4,
 "nbformat_minor": 5
}
