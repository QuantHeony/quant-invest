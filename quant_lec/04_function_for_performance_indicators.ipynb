{
 "cells": [
  {
   "cell_type": "code",
   "execution_count": 1,
   "id": "initial_id",
   "metadata": {
    "collapsed": true,
    "ExecuteTime": {
     "end_time": "2024-03-24T10:43:27.195506Z",
     "start_time": "2024-03-24T10:43:25.119170Z"
    }
   },
   "outputs": [],
   "source": [
    "import FinanceDataReader as fdr\n",
    "import pandas as pd\n",
    "import matplotlib.pyplot as plt\n",
    "import numpy as np"
   ]
  },
  {
   "cell_type": "code",
   "outputs": [],
   "source": [
    "# 종가데이터 조회\n",
    "\n",
    "def getCloseData(ticker, startDate, endDate=None):\n",
    "    \"\"\"\n",
    "    종가 데이터\n",
    "    ticker: 종목 번호\n",
    "    start: 시작일\n",
    "    end: 마지막 날짜\n",
    "    return: 종목의 종가 데이터\n",
    "    \"\"\"\n",
    "    return fdr.DataReader(ticker, startDate, endDate)['Close']"
   ],
   "metadata": {
    "collapsed": false,
    "ExecuteTime": {
     "end_time": "2024-03-24T10:47:24.996383Z",
     "start_time": "2024-03-24T10:47:24.991298Z"
    }
   },
   "id": "94cdd4aebba281f8",
   "execution_count": 3
  },
  {
   "cell_type": "code",
   "outputs": [],
   "source": [
    " kodex200 = getCloseData(\"069500\", \"2024\")"
   ],
   "metadata": {
    "collapsed": false,
    "ExecuteTime": {
     "end_time": "2024-03-24T10:48:59.362899Z",
     "start_time": "2024-03-24T10:48:59.013975Z"
    }
   },
   "id": "ed03199a8b21a12",
   "execution_count": 7
  },
  {
   "cell_type": "code",
   "outputs": [],
   "source": [
    "# 개별종목 일별 수익률\n",
    "\n",
    "def getDayReturn(closeDataSet):\n",
    "    \"\"\"\n",
    "    개별종목 일별 수익률\n",
    "    closeDataSet: 종가 데이터\n",
    "    return: 종가 데이터의 일별 수익률\n",
    "    \"\"\"\n",
    "    return (closeDataSet / closeDataSet.shift(1)).fillna(1)"
   ],
   "metadata": {
    "collapsed": false,
    "ExecuteTime": {
     "end_time": "2024-03-24T10:48:33.649834Z",
     "start_time": "2024-03-24T10:48:33.647049Z"
    }
   },
   "id": "651df56cd4556552",
   "execution_count": 6
  },
  {
   "cell_type": "code",
   "outputs": [
    {
     "data": {
      "text/plain": "Date\n2024-01-02    1.000000\n2024-01-03    0.972250\n2024-01-04    0.991242\n2024-01-05    0.997141\n2024-01-08    0.996731\n2024-01-09    0.996260\n2024-01-10    0.989055\n2024-01-11    1.001606\n2024-01-12    0.990409\n2024-01-15    1.004238\n2024-01-16    0.986283\n2024-01-17    0.975543\n2024-01-18    1.004691\n2024-01-19    1.014978\n2024-01-22    1.001046\n2024-01-23    1.005222\n2024-01-24    0.996141\n2024-01-25    1.001192\n2024-01-26    1.001786\n2024-01-29    1.011855\n2024-01-30    0.998238\n2024-01-31    0.995146\n2024-02-01    1.017145\n2024-02-02    1.032258\n2024-02-05    0.987894\n2024-02-06    0.996153\n2024-02-07    1.014161\n2024-02-08    1.001128\n2024-02-13    1.012257\n2024-02-14    0.986360\n2024-02-15    0.998589\n2024-02-16    1.010032\n2024-02-19    1.015669\n2024-02-20    0.988292\n2024-02-21    0.997770\n2024-02-22    1.005168\n2024-02-23    1.003057\n2024-02-26    0.991965\n2024-02-27    0.991480\n2024-02-28    1.012255\n2024-02-29    0.997356\n2024-03-04    1.014371\n2024-03-05    0.992022\n2024-03-06    0.996395\n2024-03-07    1.000696\n2024-03-08    1.014602\n2024-03-11    0.991639\n2024-03-12    1.008569\n2024-03-13    1.004659\n2024-03-14    1.009003\n2024-03-15    0.981209\n2024-03-18    1.006338\n2024-03-19    0.988089\n2024-03-20    1.017597\n2024-03-21    1.027097\n2024-03-22    0.997083\nName: Close, dtype: float64"
     },
     "execution_count": 8,
     "metadata": {},
     "output_type": "execute_result"
    }
   ],
   "source": [
    "getDayReturn(kodex200)"
   ],
   "metadata": {
    "collapsed": false,
    "ExecuteTime": {
     "end_time": "2024-03-24T10:49:10.139571Z",
     "start_time": "2024-03-24T10:49:10.133569Z"
    }
   },
   "id": "a8f31f0f1ea8fbb6",
   "execution_count": 8
  },
  {
   "cell_type": "code",
   "outputs": [],
   "source": [
    "def getCumulativeReturn(closeDataSet):\n",
    "    \"\"\"\n",
    "    개별종목 누적수익률 == 자산흐름\n",
    "    closeDataSet: 종가 데이터\n",
    "    return:종가데이터 누적수익률\n",
    "    \"\"\"\n",
    "    return closeDataSet / closeDataSet.iloc[0]"
   ],
   "metadata": {
    "collapsed": false,
    "ExecuteTime": {
     "end_time": "2024-03-24T10:49:53.442072Z",
     "start_time": "2024-03-24T10:49:53.438082Z"
    }
   },
   "id": "76e3f5b1929923ed",
   "execution_count": 10
  },
  {
   "cell_type": "code",
   "outputs": [
    {
     "data": {
      "text/plain": "Date\n2024-01-02    1.000000\n2024-01-03    0.972250\n2024-01-04    0.963735\n2024-01-05    0.960979\n2024-01-08    0.957837\n2024-01-09    0.954255\n2024-01-10    0.943811\n2024-01-11    0.945326\n2024-01-12    0.936260\n2024-01-15    0.940228\n2024-01-16    0.927331\n2024-01-17    0.904652\n2024-01-18    0.908896\n2024-01-19    0.922509\n2024-01-22    0.923473\n2024-01-23    0.928296\n2024-01-24    0.924713\n2024-01-25    0.925816\n2024-01-26    0.927469\n2024-01-29    0.938465\n2024-01-30    0.936811\n2024-01-31    0.932264\n2024-02-01    0.948247\n2024-02-02    0.978836\n2024-02-05    0.966986\n2024-02-06    0.963266\n2024-02-07    0.976907\n2024-02-08    0.978009\n2024-02-13    0.989997\n2024-02-14    0.976494\n2024-02-15    0.975116\n2024-02-16    0.984899\n2024-02-19    1.000331\n2024-02-20    0.988619\n2024-02-21    0.986414\n2024-02-22    0.991512\n2024-02-23    0.994544\n2024-02-26    0.986552\n2024-02-27    0.978147\n2024-02-28    0.990134\n2024-02-29    0.987517\n2024-03-04    1.001709\n2024-03-05    0.993717\n2024-03-06    0.990134\n2024-03-07    0.990823\n2024-03-08    1.005291\n2024-03-11    0.996886\n2024-03-12    1.005429\n2024-03-13    1.010114\n2024-03-14    1.019207\n2024-03-15    1.000055\n2024-03-18    1.006393\n2024-03-19    0.994406\n2024-03-20    1.011905\n2024-03-21    1.039324\n2024-03-22    1.036293\nName: Close, dtype: float64"
     },
     "execution_count": 11,
     "metadata": {},
     "output_type": "execute_result"
    }
   ],
   "source": [
    "getCumulativeReturn(kodex200)"
   ],
   "metadata": {
    "collapsed": false,
    "ExecuteTime": {
     "end_time": "2024-03-24T10:49:55.327873Z",
     "start_time": "2024-03-24T10:49:55.322581Z"
    }
   },
   "id": "4241cc9fc99b8244",
   "execution_count": 11
  },
  {
   "cell_type": "code",
   "outputs": [],
   "source": [
    "#포트폴리오 결과\n",
    "def getPortfolioResult(closeDataSet, weight=None):\n",
    "    \"\"\"\n",
    "    포트폴리오 결과\n",
    "    closeDataSet: 종가 데이터\n",
    "    weight: 포트폴리오 개별자산 비중\n",
    "    return: 포트폴리오 일간수익률, 누적수익률\n",
    "    \"\"\"\n",
    "    # 개별종목 일별 수익률\n",
    "    dayReturn = getDayReturn(closeDataSet)\n",
    "    # 개별종목 누적 수익률\n",
    "    cumulativeReturn = getCumulativeReturn(closeDataSet)\n",
    "    # 자산별 비중. 기본값: 동일비중\n",
    "    if not weight:\n",
    "        weight = [1/len(closeDataSet.columns)] * len(closeDataSet.columns)\n",
    "\n",
    "    # 포트폴리오 누적 수익률\n",
    "    portfolioCumulativeReturn = (weight * cumulativeReturn).sum(axis=1)\n",
    "    # 포트폴리오 일별 수익률\n",
    "    portfolioDayReturn = (portfolioCumulativeReturn / portfolioCumulativeReturn.shift(1)).fillna(1)\n",
    "    return portfolioDayReturn, portfolioCumulativeReturn"
   ],
   "metadata": {
    "collapsed": false,
    "ExecuteTime": {
     "end_time": "2024-03-24T11:05:17.230197Z",
     "start_time": "2024-03-24T11:05:17.226305Z"
    }
   },
   "id": "36911b249fe8d7c3",
   "execution_count": 17
  },
  {
   "cell_type": "code",
   "outputs": [],
   "source": [
    "kodex10Bond = getCloseData(\"152380\", \"2024\")"
   ],
   "metadata": {
    "collapsed": false,
    "ExecuteTime": {
     "end_time": "2024-03-24T11:04:44.131222Z",
     "start_time": "2024-03-24T11:04:43.809527Z"
    }
   },
   "id": "18cb80b22eb5e451",
   "execution_count": 14
  },
  {
   "cell_type": "code",
   "outputs": [
    {
     "data": {
      "text/plain": "Date\n2024-01-02    1.000000\n2024-01-03    0.985102\n2024-01-04    0.983041\n2024-01-05    0.978331\n2024-01-08    0.977214\n2024-01-09    0.977052\n2024-01-10    0.971299\n2024-01-11    0.973534\n2024-01-12    0.968736\n2024-01-15    0.972121\n2024-01-16    0.964309\n2024-01-17    0.950508\n2024-01-18    0.952706\n2024-01-19    0.957581\n2024-01-22    0.960070\n2024-01-23    0.962292\n2024-01-24    0.959289\n2024-01-25    0.958894\n2024-01-26    0.961273\n2024-01-29    0.965142\n2024-01-30    0.967686\n2024-01-31    0.965753\n2024-02-01    0.974124\n2024-02-02    0.992183\n2024-02-05    0.982433\n2024-02-06    0.979891\n2024-02-07    0.986825\n2024-02-08    0.986884\n2024-02-13    0.990681\n2024-02-14    0.981392\n2024-02-15    0.982483\n2024-02-16    0.986958\n2024-02-19    0.995204\n2024-02-20    0.988742\n2024-02-21    0.988170\n2024-02-22    0.992992\n2024-02-23    0.992917\n2024-02-26    0.991155\n2024-02-27    0.985930\n2024-02-28    0.991621\n2024-02-29    0.989138\n2024-03-04    0.997900\n2024-03-05    0.995116\n2024-03-06    0.994461\n2024-03-07    0.994162\n2024-03-08    1.003895\n2024-03-11    0.999731\n2024-03-12    1.004040\n2024-03-13    1.006193\n2024-03-14    1.009945\n2024-03-15    0.998096\n2024-03-18    1.000129\n2024-03-19    0.992659\n2024-03-20    1.001900\n2024-03-21    1.017807\n2024-03-22    1.018639\ndtype: float64"
     },
     "execution_count": 22,
     "metadata": {},
     "output_type": "execute_result"
    }
   ],
   "source": [
    "dataSet = pd.concat([kodex200, kodex10Bond], axis=1)\n",
    "dataSet.columns = [\"kodex200\", \"kodex10Bond\"]\n",
    "_, portCumReturn = getPortfolioResult(dataSet)\n",
    "portCumReturn"
   ],
   "metadata": {
    "collapsed": false,
    "ExecuteTime": {
     "end_time": "2024-03-24T11:12:22.339891Z",
     "start_time": "2024-03-24T11:12:22.331353Z"
    }
   },
   "id": "e9ad62c1123f77eb",
   "execution_count": 22
  },
  {
   "cell_type": "code",
   "outputs": [],
   "source": [
    "# 투자 성과 지표\n",
    "def getEvaluation(cumulativeReturn):\n",
    "    \"\"\"\n",
    "    cagr, dd, mdd\n",
    "    투자 성과 지표\n",
    "    \"\"\"\n",
    "    # cagr\n",
    "    cagr = cumulativeReturn.iloc[-1] ** (252/len(cumulativeReturn))\n",
    "    # mdd\n",
    "    dd = (cumulativeReturn.cummax() - cumulativeReturn) / cumulativeReturn.cummax() * 100\n",
    "    mdd= dd.max()\n",
    "\n",
    "    print(f\"최종 수익률: {cumulativeReturn.iloc[-1]}\\ncagr: {cagr}\\nmdd: {mdd}\")\n",
    "\n",
    "    return cagr, dd, mdd"
   ],
   "metadata": {
    "collapsed": false,
    "ExecuteTime": {
     "end_time": "2024-03-24T11:05:59.396527Z",
     "start_time": "2024-03-24T11:05:59.392246Z"
    }
   },
   "id": "9055fadce71a4365",
   "execution_count": 19
  },
  {
   "cell_type": "code",
   "outputs": [
    {
     "name": "stdout",
     "output_type": "stream",
     "text": [
      "최종 수익률: 1.0186388070622479\n",
      "cagr: 1.0866532383453913\n",
      "mdd: 4.94919309464299\n"
     ]
    },
    {
     "data": {
      "text/plain": "(1.0866532383453913,\n Date\n 2024-01-02    0.000000\n 2024-01-03    1.489761\n 2024-01-04    1.695874\n 2024-01-05    2.166918\n 2024-01-08    2.278551\n 2024-01-09    2.294832\n 2024-01-10    2.870061\n 2024-01-11    2.646585\n 2024-01-12    3.126412\n 2024-01-15    2.787879\n 2024-01-16    3.569053\n 2024-01-17    4.949193\n 2024-01-18    4.729428\n 2024-01-19    4.241900\n 2024-01-22    3.992963\n 2024-01-23    3.770771\n 2024-01-24    4.071078\n 2024-01-25    4.110639\n 2024-01-26    3.872699\n 2024-01-29    3.485773\n 2024-01-30    3.231400\n 2024-01-31    3.424665\n 2024-02-01    2.587632\n 2024-02-02    0.781749\n 2024-02-05    1.756720\n 2024-02-06    2.010898\n 2024-02-07    1.317493\n 2024-02-08    1.311610\n 2024-02-13    0.931885\n 2024-02-14    1.860770\n 2024-02-15    1.751673\n 2024-02-16    1.304188\n 2024-02-19    0.479565\n 2024-02-20    1.125750\n 2024-02-21    1.182961\n 2024-02-22    0.700835\n 2024-02-23    0.708325\n 2024-02-26    0.884472\n 2024-02-27    1.406970\n 2024-02-28    0.837895\n 2024-02-29    1.086189\n 2024-03-04    0.209960\n 2024-03-05    0.488356\n 2024-03-06    0.553868\n 2024-03-07    0.583801\n 2024-03-08    0.000000\n 2024-03-11    0.414846\n 2024-03-12    0.000000\n 2024-03-13    0.000000\n 2024-03-14    0.000000\n 2024-03-15    1.173171\n 2024-03-18    0.971874\n 2024-03-19    1.711584\n 2024-03-20    0.796508\n 2024-03-21    0.000000\n 2024-03-22    0.000000\n dtype: float64,\n 4.94919309464299)"
     },
     "execution_count": 23,
     "metadata": {},
     "output_type": "execute_result"
    }
   ],
   "source": [
    "getEvaluation(portCumReturn)"
   ],
   "metadata": {
    "collapsed": false,
    "ExecuteTime": {
     "end_time": "2024-03-24T11:12:37.892896Z",
     "start_time": "2024-03-24T11:12:37.884877Z"
    }
   },
   "id": "86c72806d885388d",
   "execution_count": 23
  }
 ],
 "metadata": {
  "kernelspec": {
   "display_name": "Python 3",
   "language": "python",
   "name": "python3"
  },
  "language_info": {
   "codemirror_mode": {
    "name": "ipython",
    "version": 2
   },
   "file_extension": ".py",
   "mimetype": "text/x-python",
   "name": "python",
   "nbconvert_exporter": "python",
   "pygments_lexer": "ipython2",
   "version": "2.7.6"
  }
 },
 "nbformat": 4,
 "nbformat_minor": 5
}
