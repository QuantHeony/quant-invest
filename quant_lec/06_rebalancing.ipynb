{
 "cells": [
  {
   "cell_type": "code",
   "outputs": [],
   "source": [
    "import FinanceDataReader as fdr\n",
    "import pandas as pd\n",
    "import matplotlib.pyplot as plt\n",
    "import numpy as np\n",
    "\n",
    "def getCloseData(ticker, start, end=None):\n",
    "    \"\"\"\n",
    "    종가 데이터\n",
    "    ticker: 종목 번호\n",
    "    start: 시작일\n",
    "    end: 마지막 날짜\n",
    "    return: 종목의 종가 데이터\n",
    "    \"\"\"\n",
    "    return fdr.DataReader(ticker, start, end)['Close']\n",
    "\n",
    "def getDayReturn(closeDataSet):\n",
    "    \"\"\"\n",
    "    개별종목 일별 수익률\n",
    "    closeDataSet: 종가 데이터\n",
    "    return: 종가 데이터의 일별 수익률\n",
    "    \"\"\"\n",
    "    return (closeDataSet / closeDataSet.shift(1)).fillna(1)\n",
    "\n",
    "def getCumulativeReturn(closeDataSet):\n",
    "    \"\"\"\n",
    "    개별종목 누적수익률 == 자산흐름\n",
    "    closeDataSet: 종가 데이터\n",
    "    return:종가데이터 누적수익률\n",
    "    \"\"\"\n",
    "    return closeDataSet / closeDataSet.iloc[0]\n",
    "\n",
    "def getPortfolioResult(closeDataSet, weight=None):\n",
    "    \"\"\"\n",
    "    포트폴리오 결과\n",
    "    closeDataSet: 종가 데이터\n",
    "    weight: 포트폴리오 개별자산 비중\n",
    "    return: 포트폴리오 일간수익률, 누적수익률\n",
    "    \"\"\"\n",
    "    # 개별종목 일별 수익률\n",
    "    dayReturn = getDayReturn(closeDataSet)\n",
    "    # 개별종목 누적 수익률\n",
    "    cumulativeReturn = getCumulativeReturn(closeDataSet)\n",
    "    # 자산별 비중. 기본값: 동일비중\n",
    "    if not weight:\n",
    "        weight = [1/len(closeDataSet.columns)] * len(closeDataSet.columns)\n",
    "\n",
    "    # 포트폴리오 누적 수익률\n",
    "    portfolioCumulativeReturn = (weight * cumulativeReturn).sum(axis=1)\n",
    "    # 포트폴리오 일별 수익률\n",
    "    portfolioDayReturn = (portfolioCumulativeReturn / portfolioCumulativeReturn.shift(1)).fillna(1)\n",
    "    return portfolioDayReturn, portfolioCumulativeReturn\n",
    "\n",
    "def getEvaluation(cumulativeReturn):\n",
    "    \"\"\"\n",
    "    cagr, dd, mdd\n",
    "    투자 성과 지표\n",
    "    \"\"\"\n",
    "    # cagr\n",
    "    cagr = cumulativeReturn.iloc[-1] ** (252/len(cumulativeReturn))\n",
    "    # mdd\n",
    "    dd = (cumulativeReturn.cummax() - cumulativeReturn) / cumulativeReturn.cummax() * 100\n",
    "    mdd= dd.max()\n",
    "\n",
    "    print(f\"최종 수익률: {cumulativeReturn.iloc[-1]}\\ncagr: {cagr}\\nmdd: {mdd}\")\n",
    "\n",
    "    return cagr, dd, mdd\n",
    "\n",
    "def getRebalancingDate(closeDataSet, period=\"month\"):\n",
    "    \"\"\"\n",
    "    리밸런싱 일자 추출\n",
    "    월별, 분기별, 연별\n",
    "    \"\"\"\n",
    "    data = closeDataSet.copy()\n",
    "    data = pd.DataFrame(data)\n",
    "    data.index = pd.to_datetime(data.index)\n",
    "    data['year'] = data.index.year\n",
    "    data['month'] = data.index.month\n",
    "\n",
    "    if period == \"month\":\n",
    "        rebalancingDate = data.drop_duplicates(['year', 'month'], keep=\"last\").index\n",
    "\n",
    "    if period == \"quarter\":\n",
    "        # 3 6 9 12월 말에 리밸런싱\n",
    "        # np where 같은걸로 3, 6, 9, 12월 데이터만 가져오고\n",
    "        # drop_duplicates keep last 하면 됌\n",
    "        quarter = [3,6,9,12]\n",
    "        data = data.loc[data['month'].isin(quarter)]\n",
    "        rebalancingDate = data.drop_duplicates(['year', 'month'], keep=\"last\").index\n",
    "\n",
    "    if period == \"year\":\n",
    "        rebalancingDate = data.drop_duplicates(['year'], keep=\"last\").index\n",
    "\n",
    "    return rebalancingDate\n",
    "\n",
    "def getRebalancingPortfolioResult(closeDataSet, period = \"month\", weightDf=None):\n",
    "    \"\"\"\n",
    "    리밸런싱 포트폴리오 결과\n",
    "    closeDataSet: 종가 데이터\n",
    "    weight: 포트폴리오 개별자산 비중\n",
    "    return: 포트폴리오 일간수익률, 누적수익률\n",
    "    \"\"\"\n",
    "\n",
    "    # 자산별 비중. 기본값: 동일비중\n",
    "    if weightDf is None:\n",
    "        rebalancingDate = getRebalancingDate(closeDataSet, period) # 리밸런싱 날짜\n",
    "        weightDf = pd.DataFrame([[1/len(closeDataSet.columns)] * len(closeDataSet.columns)] * len(rebalancingDate),\n",
    "                                index=rebalancingDate,\n",
    "                                columns=closeDataSet.columns)\n",
    "    # 자산별 비중이 있는 경우\n",
    "    else:\n",
    "        closeDataSet = closeDataSet.loc[weightDf.index[0]:]\n",
    "        rebalancingDate = weightDf.index # 리밸런싱 날짜\n",
    "\n",
    "    portfolio = pd.DataFrame() # 빈 데이터 프레임 생성\n",
    "\n",
    "    totalAsset = 1 # 총 자산, 초기값 1\n",
    "    start = rebalancingDate[0] # 리밸런싱 날짜, 초기값 첫 투자일\n",
    "\n",
    "    for end in rebalancingDate[1:]:\n",
    "        weight = weightDf.loc[start] # 당월 리밸런싱 비율\n",
    "        priceData = closeDataSet.loc[start:end] # 당월 가격 데이터\n",
    "        cumReturn = getCumulativeReturn(priceData) # 당월 누적 수익률\n",
    "        weightedCumReturn = weight * cumReturn # 당월 리밸런싱 비율이 반영된 누적 수익률\n",
    "        netCumReturn = totalAsset * weightedCumReturn # 전월 투자 결과 반영\n",
    "\n",
    "        start = end # start 갱신\n",
    "        totalAsset = netCumReturn.iloc[-1].sum() # 총 자산 갱신\n",
    "        portfolio = pd.concat([portfolio, netCumReturn]) # 매월 데이터 추가\n",
    "\n",
    "    portfolio = portfolio.loc[~portfolio.index.duplicated(keep='last')] # 중복 데이터 제거\n",
    "    portfolioCumulativeReturn = portfolio.sum(axis=1) # 포트폴리오 누적 수익률\n",
    "    portfolioDayReturn = (portfolioCumulativeReturn / portfolioCumulativeReturn.shift(1)).fillna(1) # 포트폴리오 일간 수익률\n",
    "\n",
    "    return portfolioDayReturn, portfolioCumulativeReturn\n",
    "\n",
    "def getWeightByAvgMomentumScore(closeDataSet, n = 12):\n",
    "    \"\"\"\n",
    "    평균 모멘텀 스코어를 기반으로 한 투자 비중 구하기\n",
    "    closeDataSet: 종가 데이터\n",
    "    n: 모멘텀 기간 1~n\n",
    "    return: 투자비중 weight df, 평균모멘텀 스코어 df\n",
    "    \"\"\"\n",
    "    avgMomentumScore = 0 # 평모스 초기값\n",
    "    priceOnRebalDate = closeDataSet.loc[getRebalancingDate(closeDataSet)] # 리밸런싱 일자의 가격 데이터\n",
    "\n",
    "    # 1 ~ n개월 모멘텀 스코어 합\n",
    "    for i in range(1, n+1):\n",
    "        avgMomentumScore = np.where(priceOnRebalDate / priceOnRebalDate.shift(i) > 1, 1, 0) + avgMomentumScore\n",
    "\n",
    "    # 평모스 계산\n",
    "    avgMomentumScore = pd.DataFrame(avgMomentumScore, index=priceOnRebalDate.index, columns=priceOnRebalDate.columns) # dataframe 형변환\n",
    "    avgMomentumScore = avgMomentumScore / n\n",
    "\n",
    "    # 모멘텀 스코어에 따른 weight 계산\n",
    "    weight = avgMomentumScore.divide(avgMomentumScore.sum(axis=1), axis=0).fillna(0)\n",
    "    # 투자 비중이 모두 0인 구간에서는 현금 보유\n",
    "    weight['cash'] = np.where(weight.sum(axis=1) == 0, 1, 0)\n",
    "\n",
    "    # 투자비중, 평모스 리턴\n",
    "    return weight, avgMomentumScore\n"
   ],
   "metadata": {
    "collapsed": false,
    "ExecuteTime": {
     "end_time": "2024-03-24T17:08:27.213037Z",
     "start_time": "2024-03-24T17:08:27.198640Z"
    }
   },
   "id": "121a5f0bd381d9a4",
   "execution_count": 31
  },
  {
   "cell_type": "markdown",
   "source": [
    "# 리밸런싱\n",
    "### 리밸런싱 개념\n",
    "\n",
    "지금까지 배운 방법은 Buy & Hold 전략.  \n",
    "결국 장기적인 관점에서 자산 가치는 우상향하게 되어있기 때문에 가격의 흔들림에 굴하지 않고 기다리는 전략임)\n",
    "아주 오랜시간 기다려야하고. 중간중간 큰 낙폭이 오면 그대로 맞아야 하는 단점이 있음\n",
    "  \n",
    "이번에 배워볼 기법은 리밸런싱 으로, 리밸런싱이란 주기적으로 자산간 비중을 조절하는 것입니다.  \n",
    "리밸런싱을 하는 이유는, 중간중간 적당한 차익을 실현하기 위함임  \n",
    "__일반적으로 시장은 횡보와 추세를 계속 반복하기 때문에 리밸런싱 효과를 어느정도 누리는게 일반적으로 검증됨__\n",
    "조금 더 고급진 표현으로는 고평가 된 자산을 일부 매도해서 저평가 된 자산을 매수하기 위해서 입니다.  \n",
    "이렇게 리밸런싱 통해 일종에 고점 매도와 저점 매수효과를 어느정도 누릴 수 있게 되는 것입니다."
   ],
   "metadata": {
    "collapsed": false
   },
   "id": "ce4fefe9c29fcb86"
  },
  {
   "cell_type": "markdown",
   "source": [
    "#### 리밸런싱 기법을 코드로 구현하기"
   ],
   "metadata": {
    "collapsed": false
   },
   "id": "302197d76030e98a"
  },
  {
   "cell_type": "code",
   "outputs": [
    {
     "data": {
      "text/plain": "            kodex200  kodex10Bond\n2022-01-31       100          100\n2022-02-10       140           90\n2022-02-21       120          105\n2022-02-28       110          115\n2022-03-10       100          125\n2022-03-19       120          130\n2022-03-31       110          120\n2022-04-20       115          125\n2022-04-30       120          130",
      "text/html": "<div>\n<style scoped>\n    .dataframe tbody tr th:only-of-type {\n        vertical-align: middle;\n    }\n\n    .dataframe tbody tr th {\n        vertical-align: top;\n    }\n\n    .dataframe thead th {\n        text-align: right;\n    }\n</style>\n<table border=\"1\" class=\"dataframe\">\n  <thead>\n    <tr style=\"text-align: right;\">\n      <th></th>\n      <th>kodex200</th>\n      <th>kodex10Bond</th>\n    </tr>\n  </thead>\n  <tbody>\n    <tr>\n      <th>2022-01-31</th>\n      <td>100</td>\n      <td>100</td>\n    </tr>\n    <tr>\n      <th>2022-02-10</th>\n      <td>140</td>\n      <td>90</td>\n    </tr>\n    <tr>\n      <th>2022-02-21</th>\n      <td>120</td>\n      <td>105</td>\n    </tr>\n    <tr>\n      <th>2022-02-28</th>\n      <td>110</td>\n      <td>115</td>\n    </tr>\n    <tr>\n      <th>2022-03-10</th>\n      <td>100</td>\n      <td>125</td>\n    </tr>\n    <tr>\n      <th>2022-03-19</th>\n      <td>120</td>\n      <td>130</td>\n    </tr>\n    <tr>\n      <th>2022-03-31</th>\n      <td>110</td>\n      <td>120</td>\n    </tr>\n    <tr>\n      <th>2022-04-20</th>\n      <td>115</td>\n      <td>125</td>\n    </tr>\n    <tr>\n      <th>2022-04-30</th>\n      <td>120</td>\n      <td>130</td>\n    </tr>\n  </tbody>\n</table>\n</div>"
     },
     "execution_count": 4,
     "metadata": {},
     "output_type": "execute_result"
    }
   ],
   "source": [
    "# 더미데이터\n",
    "closeDataSet = pd.DataFrame(\n",
    "    {\n",
    "        \"kodex200\": [100, 140, 120, 110, 100, 120, 110, 115, 120],\n",
    "        \"kodex10Bond\": [100, 90, 105, 115, 125, 130, 120, 125, 130],\n",
    "    },\n",
    "    index=pd.to_datetime([\"2022-01-31\", \"2022-02-10\", \"2022-02-21\", \"2022-02-28\", \"2022-03-10\", \"2022-03-19\", \"2022-03-31\", \"2022-04-20\", \"2022-04-30\",])\n",
    ")\n",
    "closeDataSet"
   ],
   "metadata": {
    "collapsed": false,
    "ExecuteTime": {
     "end_time": "2024-03-24T16:58:23.033363Z",
     "start_time": "2024-03-24T16:58:23.018273Z"
    }
   },
   "id": "9980084710876688",
   "execution_count": 4
  },
  {
   "cell_type": "markdown",
   "source": [
    "### 리밸런싱 날짜 계산"
   ],
   "metadata": {
    "collapsed": false
   },
   "id": "72e88e4c2a7d5937"
  },
  {
   "cell_type": "code",
   "outputs": [
    {
     "data": {
      "text/plain": "            kodex200  kodex10Bond  year  month\n2022-01-31       100          100  2022      1\n2022-02-10       140           90  2022      2\n2022-02-21       120          105  2022      2\n2022-02-28       110          115  2022      2\n2022-03-10       100          125  2022      3\n2022-03-19       120          130  2022      3\n2022-03-31       110          120  2022      3\n2022-04-20       115          125  2022      4\n2022-04-30       120          130  2022      4",
      "text/html": "<div>\n<style scoped>\n    .dataframe tbody tr th:only-of-type {\n        vertical-align: middle;\n    }\n\n    .dataframe tbody tr th {\n        vertical-align: top;\n    }\n\n    .dataframe thead th {\n        text-align: right;\n    }\n</style>\n<table border=\"1\" class=\"dataframe\">\n  <thead>\n    <tr style=\"text-align: right;\">\n      <th></th>\n      <th>kodex200</th>\n      <th>kodex10Bond</th>\n      <th>year</th>\n      <th>month</th>\n    </tr>\n  </thead>\n  <tbody>\n    <tr>\n      <th>2022-01-31</th>\n      <td>100</td>\n      <td>100</td>\n      <td>2022</td>\n      <td>1</td>\n    </tr>\n    <tr>\n      <th>2022-02-10</th>\n      <td>140</td>\n      <td>90</td>\n      <td>2022</td>\n      <td>2</td>\n    </tr>\n    <tr>\n      <th>2022-02-21</th>\n      <td>120</td>\n      <td>105</td>\n      <td>2022</td>\n      <td>2</td>\n    </tr>\n    <tr>\n      <th>2022-02-28</th>\n      <td>110</td>\n      <td>115</td>\n      <td>2022</td>\n      <td>2</td>\n    </tr>\n    <tr>\n      <th>2022-03-10</th>\n      <td>100</td>\n      <td>125</td>\n      <td>2022</td>\n      <td>3</td>\n    </tr>\n    <tr>\n      <th>2022-03-19</th>\n      <td>120</td>\n      <td>130</td>\n      <td>2022</td>\n      <td>3</td>\n    </tr>\n    <tr>\n      <th>2022-03-31</th>\n      <td>110</td>\n      <td>120</td>\n      <td>2022</td>\n      <td>3</td>\n    </tr>\n    <tr>\n      <th>2022-04-20</th>\n      <td>115</td>\n      <td>125</td>\n      <td>2022</td>\n      <td>4</td>\n    </tr>\n    <tr>\n      <th>2022-04-30</th>\n      <td>120</td>\n      <td>130</td>\n      <td>2022</td>\n      <td>4</td>\n    </tr>\n  </tbody>\n</table>\n</div>"
     },
     "execution_count": 5,
     "metadata": {},
     "output_type": "execute_result"
    }
   ],
   "source": [
    "# 매달 마지막 영업일\n",
    "\n",
    "copyCloseDataSet = closeDataSet.copy()\n",
    "\n",
    "copyCloseDataSet['year'] = copyCloseDataSet.index.year\n",
    "copyCloseDataSet['month'] = copyCloseDataSet.index.month\n",
    "\n",
    "copyCloseDataSet"
   ],
   "metadata": {
    "collapsed": false,
    "ExecuteTime": {
     "end_time": "2024-03-24T17:00:08.852096Z",
     "start_time": "2024-03-24T17:00:08.844829Z"
    }
   },
   "id": "18c969edee5de7bc",
   "execution_count": 5
  },
  {
   "cell_type": "code",
   "outputs": [
    {
     "data": {
      "text/plain": "[0.5, 0.5]"
     },
     "execution_count": 7,
     "metadata": {},
     "output_type": "execute_result"
    }
   ],
   "source": [
    "# 원하는 비중으로 넣어도 되지만, 우선 동일비중으로 가정\n",
    "defaultWeight = [1/len(closeDataSet.columns)] * len(closeDataSet.columns) # [1/n, 1/n ~~~]\n",
    "defaultWeight"
   ],
   "metadata": {
    "collapsed": false,
    "ExecuteTime": {
     "end_time": "2024-03-24T17:00:47.614180Z",
     "start_time": "2024-03-24T17:00:47.609186Z"
    }
   },
   "id": "483c6f41e4f21601",
   "execution_count": 7
  },
  {
   "cell_type": "code",
   "outputs": [
    {
     "data": {
      "text/plain": "DatetimeIndex(['2022-01-31', '2022-02-28', '2022-03-31', '2022-04-30'], dtype='datetime64[ns]', freq=None)"
     },
     "execution_count": 46,
     "metadata": {},
     "output_type": "execute_result"
    }
   ],
   "source": [
    "rebalancingDate = copyCloseDataSet.drop_duplicates(['year','month'], keep=\"last\").index\n",
    "rebalancingDate"
   ],
   "metadata": {
    "collapsed": false,
    "ExecuteTime": {
     "end_time": "2024-03-24T17:24:55.196476Z",
     "start_time": "2024-03-24T17:24:55.191656Z"
    }
   },
   "id": "2f4fe7b5b343e26e",
   "execution_count": 46
  },
  {
   "cell_type": "markdown",
   "source": [
    "### 리밸런싱 비중 계산"
   ],
   "metadata": {
    "collapsed": false
   },
   "id": "d3f9a5302b6cef3f"
  },
  {
   "cell_type": "code",
   "outputs": [
    {
     "data": {
      "text/plain": "[0.5, 0.5]"
     },
     "execution_count": 8,
     "metadata": {},
     "output_type": "execute_result"
    }
   ],
   "source": [
    "# 원하는 비중으로 넣어도 되지만, 우선 동일비중으로 가정\n",
    "defaultWeight = [1/len(closeDataSet.columns)] * len(closeDataSet.columns) # [1/n, 1/n ~~~]\n",
    "defaultWeight"
   ],
   "metadata": {
    "collapsed": false,
    "ExecuteTime": {
     "end_time": "2024-03-24T17:01:40.899723Z",
     "start_time": "2024-03-24T17:01:40.895188Z"
    }
   },
   "id": "aa49328efcb414ec",
   "execution_count": 8
  },
  {
   "cell_type": "code",
   "outputs": [
    {
     "data": {
      "text/plain": "            stockETF  bondETF\n2022-01-31       0.5      0.5\n2022-02-28       0.5      0.5\n2022-03-31       0.5      0.5\n2022-04-30       0.5      0.5",
      "text/html": "<div>\n<style scoped>\n    .dataframe tbody tr th:only-of-type {\n        vertical-align: middle;\n    }\n\n    .dataframe tbody tr th {\n        vertical-align: top;\n    }\n\n    .dataframe thead th {\n        text-align: right;\n    }\n</style>\n<table border=\"1\" class=\"dataframe\">\n  <thead>\n    <tr style=\"text-align: right;\">\n      <th></th>\n      <th>stockETF</th>\n      <th>bondETF</th>\n    </tr>\n  </thead>\n  <tbody>\n    <tr>\n      <th>2022-01-31</th>\n      <td>0.5</td>\n      <td>0.5</td>\n    </tr>\n    <tr>\n      <th>2022-02-28</th>\n      <td>0.5</td>\n      <td>0.5</td>\n    </tr>\n    <tr>\n      <th>2022-03-31</th>\n      <td>0.5</td>\n      <td>0.5</td>\n    </tr>\n    <tr>\n      <th>2022-04-30</th>\n      <td>0.5</td>\n      <td>0.5</td>\n    </tr>\n  </tbody>\n</table>\n</div>"
     },
     "execution_count": 47,
     "metadata": {},
     "output_type": "execute_result"
    }
   ],
   "source": [
    "monthlyWeight = pd.DataFrame([defaultWeight] * len(rebalancingDate), index=rebalancingDate, columns=closeDataSet.columns)  # df 변환\n",
    "monthlyWeight"
   ],
   "metadata": {
    "collapsed": false,
    "ExecuteTime": {
     "end_time": "2024-03-24T17:25:01.362125Z",
     "start_time": "2024-03-24T17:25:01.354470Z"
    }
   },
   "id": "bc42ad9e3d233676",
   "execution_count": 47
  },
  {
   "cell_type": "markdown",
   "source": [
    "### **(월별 리밸런싱 비중 * 누적 수익률) 구하기**"
   ],
   "metadata": {
    "collapsed": false
   },
   "id": "496949d778b2f9c5"
  },
  {
   "cell_type": "code",
   "outputs": [
    {
     "name": "stdout",
     "output_type": "stream",
     "text": [
      "DatetimeIndex(['2022-01-31', '2022-02-28', '2022-03-31', '2022-04-30'], dtype='datetime64[ns]', freq=None)\n",
      "            stockETF   bondETF\n",
      "Date                          \n",
      "2022-01-31  0.500000  0.500000\n",
      "2022-02-01  0.503378  0.498845\n",
      "2022-02-02  0.508268  0.499867\n",
      "2022-02-03  0.496321  0.497735\n",
      "2022-02-04  0.498655  0.493915\n",
      "2022-02-07  0.497055  0.494048\n",
      "2022-02-08  0.501145  0.492449\n",
      "2022-02-09  0.508479  0.493115\n",
      "2022-02-10  0.499344  0.488585\n",
      "2022-02-11  0.489498  0.493648\n",
      "2022-02-14  0.487898  0.490228\n",
      "2022-02-15  0.495766  0.488763\n",
      "2022-02-16  0.496321  0.489784\n",
      "2022-02-17  0.485719  0.492405\n",
      "2022-02-18  0.482574  0.494004\n",
      "2022-02-22  0.477395  0.493959\n",
      "2022-02-23  0.468927  0.491383\n",
      "2022-02-24  0.475984  0.492538\n",
      "2022-02-25  0.486486  0.492405\n",
      "2022-02-28  0.485241  0.498001\n",
      "            stockETF   bondETF\n",
      "Date                          \n",
      "2022-02-28  0.500000  0.500000\n",
      "2022-03-01  0.492385  0.504415\n",
      "2022-03-02  0.501443  0.496834\n",
      "2022-03-03  0.498946  0.498974\n",
      "2022-03-04  0.494893  0.503924\n",
      "2022-03-07  0.480304  0.501784\n",
      "2022-03-08  0.476662  0.498528\n",
      "2022-03-09  0.489442  0.495451\n",
      "2022-03-10  0.487232  0.493177\n",
      "2022-03-11  0.481037  0.493043\n",
      "2022-03-14  0.477521  0.486800\n",
      "2022-03-15  0.488022  0.486577\n",
      "2022-03-16  0.498843  0.485908\n",
      "2022-03-17  0.505084  0.484971\n",
      "2022-03-18  0.509035  0.486398\n",
      "2022-03-21  0.508886  0.480066\n",
      "2022-03-22  0.514841  0.477435\n",
      "2022-03-23  0.508211  0.480646\n",
      "2022-03-24  0.515872  0.477970\n",
      "2022-03-25  0.518391  0.473065\n",
      "2022-03-28  0.522078  0.474135\n",
      "2022-03-29  0.528537  0.476498\n",
      "2022-03-30  0.525273  0.478371\n",
      "2022-03-31  0.517188  0.479263\n",
      "            stockETF   bondETF\n",
      "Date                          \n",
      "2022-03-31  0.500000  0.500000\n",
      "2022-04-01  0.501417  0.496185\n",
      "2022-04-04  0.505712  0.495859\n",
      "2022-04-05  0.499325  0.489951\n",
      "2022-04-06  0.494332  0.488229\n",
      "2022-04-07  0.496823  0.487020\n",
      "2022-04-08  0.495494  0.484554\n",
      "2022-04-11  0.487025  0.482228\n",
      "2022-04-12  0.485221  0.484554\n",
      "2022-04-13  0.490778  0.485624\n",
      "2022-04-14  0.484667  0.481251\n",
      "2022-04-18  0.484866  0.479855\n",
      "2022-04-19  0.492693  0.476691\n",
      "2022-04-20  0.492328  0.480413\n",
      "2022-04-21  0.484966  0.477761\n",
      "2022-04-22  0.471659  0.477994\n",
      "2022-04-25  0.474393  0.481064\n",
      "2022-04-26  0.460654  0.484275\n",
      "2022-04-27  0.461950  0.481576\n",
      "2022-04-28  0.473618  0.480878\n",
      "2022-04-29  0.456115  0.478320\n"
     ]
    }
   ],
   "source": [
    "start = rebalancingDate[0] # 리밸런싱 날짜, 초기값 첫 투자일\n",
    "print(rebalancingDate)\n",
    "\n",
    "for end in rebalancingDate[1:]:\n",
    "    weight = monthlyWeight.loc[start] # 당월 리밸런싱 비율\n",
    "    priceData = closeDataSet.loc[start:end] # 당월 가격 데이터\n",
    "    cumReturn = getCumulativeReturn(priceData) # 당월 누적 수익률\n",
    "    weightedCumReturn = weight * cumReturn # 당월 리밸런싱 비율이 반영된 누적 수익률\n",
    "\n",
    "    start = end # start 갱신\n",
    "    print(weightedCumReturn)"
   ],
   "metadata": {
    "collapsed": false,
    "ExecuteTime": {
     "end_time": "2024-03-24T17:25:04.657040Z",
     "start_time": "2024-03-24T17:25:04.646738Z"
    }
   },
   "id": "baeb1c880d9caf13",
   "execution_count": 48
  },
  {
   "cell_type": "markdown",
   "source": [
    "**월별 투자 결과가 그 다음달에도 연속적으로 반영되어야 합니다.**"
   ],
   "metadata": {
    "collapsed": false
   },
   "id": "d1add13fd999b6f0"
  },
  {
   "cell_type": "code",
   "outputs": [
    {
     "name": "stdout",
     "output_type": "stream",
     "text": [
      "갱신 전 총 자산:  1\n",
      "            kodex200  kodex10Bond\n",
      "2022-01-31      0.50        0.500\n",
      "2022-02-10      0.70        0.450\n",
      "2022-02-21      0.60        0.525\n",
      "2022-02-28      0.55        0.575\n",
      "갱신 후 총 자산:  1.125\n",
      "갱신 전 총 자산:  1.125\n",
      "            kodex200  kodex10Bond\n",
      "2022-02-28  0.562500     0.562500\n",
      "2022-03-10  0.511364     0.611413\n",
      "2022-03-19  0.613636     0.635870\n",
      "2022-03-31  0.562500     0.586957\n",
      "갱신 후 총 자산:  1.1494565217391304\n",
      "갱신 전 총 자산:  1.1494565217391304\n",
      "            kodex200  kodex10Bond\n",
      "2022-03-31  0.574728     0.574728\n",
      "2022-04-20  0.600852     0.598675\n",
      "2022-04-30  0.626976     0.622622\n",
      "갱신 후 총 자산:  1.2495985671936758\n"
     ]
    }
   ],
   "source": [
    "# 투자 결과 연속 반영\n",
    "\n",
    "totalAsset = 1 # 총 자산, 초기값 1\n",
    "start = rebalancingDate[0] # 리밸런싱 날짜, 초기값 첫 투자일\n",
    "\n",
    "for end in rebalancingDate[1:]:\n",
    "    weight = monthlyWeight.loc[start] # 당월 리밸런싱 비율\n",
    "    priceData = closeDataSet.loc[start:end] # 당월 가격 데이터\n",
    "    cumReturn = getCumulativeReturn(priceData) # 당월 누적 수익률\n",
    "    weightedCumReturn = weight * cumReturn # 당월 리밸런싱 비율이 반영된 누적 수익률\n",
    "\n",
    "\n",
    "    netCumReturn = totalAsset * weightedCumReturn # 전월 투자 결과 반영\n",
    "\n",
    "\n",
    "    start = end # start 갱신\n",
    "\n",
    "    print(\"갱신 전 총 자산: \",totalAsset)\n",
    "    totalAsset = netCumReturn.iloc[-1].sum() # 총 자산 갱신\n",
    "    print(netCumReturn)\n",
    "    print(\"갱신 후 총 자산: \",totalAsset)"
   ],
   "metadata": {
    "collapsed": false,
    "ExecuteTime": {
     "end_time": "2024-03-24T17:04:26.478304Z",
     "start_time": "2024-03-24T17:04:26.466684Z"
    }
   },
   "id": "66ddc0f321d28b54",
   "execution_count": 13
  },
  {
   "cell_type": "markdown",
   "source": [
    "**위 결과를 하나의 데이터 프레임으로 합쳐서 전체 포트폴리오의 누적 수익률을 계산 할 수 있습니다.**"
   ],
   "metadata": {
    "collapsed": false
   },
   "id": "b424ccc17d6d3ac6"
  },
  {
   "cell_type": "code",
   "outputs": [
    {
     "data": {
      "text/plain": "            kodex200  kodex10Bond\n2022-01-31  0.500000     0.500000\n2022-02-10  0.700000     0.450000\n2022-02-21  0.600000     0.525000\n2022-02-28  0.550000     0.575000\n2022-02-28  0.562500     0.562500\n2022-03-10  0.511364     0.611413\n2022-03-19  0.613636     0.635870\n2022-03-31  0.562500     0.586957\n2022-03-31  0.574728     0.574728\n2022-04-20  0.600852     0.598675\n2022-04-30  0.626976     0.622622",
      "text/html": "<div>\n<style scoped>\n    .dataframe tbody tr th:only-of-type {\n        vertical-align: middle;\n    }\n\n    .dataframe tbody tr th {\n        vertical-align: top;\n    }\n\n    .dataframe thead th {\n        text-align: right;\n    }\n</style>\n<table border=\"1\" class=\"dataframe\">\n  <thead>\n    <tr style=\"text-align: right;\">\n      <th></th>\n      <th>kodex200</th>\n      <th>kodex10Bond</th>\n    </tr>\n  </thead>\n  <tbody>\n    <tr>\n      <th>2022-01-31</th>\n      <td>0.500000</td>\n      <td>0.500000</td>\n    </tr>\n    <tr>\n      <th>2022-02-10</th>\n      <td>0.700000</td>\n      <td>0.450000</td>\n    </tr>\n    <tr>\n      <th>2022-02-21</th>\n      <td>0.600000</td>\n      <td>0.525000</td>\n    </tr>\n    <tr>\n      <th>2022-02-28</th>\n      <td>0.550000</td>\n      <td>0.575000</td>\n    </tr>\n    <tr>\n      <th>2022-02-28</th>\n      <td>0.562500</td>\n      <td>0.562500</td>\n    </tr>\n    <tr>\n      <th>2022-03-10</th>\n      <td>0.511364</td>\n      <td>0.611413</td>\n    </tr>\n    <tr>\n      <th>2022-03-19</th>\n      <td>0.613636</td>\n      <td>0.635870</td>\n    </tr>\n    <tr>\n      <th>2022-03-31</th>\n      <td>0.562500</td>\n      <td>0.586957</td>\n    </tr>\n    <tr>\n      <th>2022-03-31</th>\n      <td>0.574728</td>\n      <td>0.574728</td>\n    </tr>\n    <tr>\n      <th>2022-04-20</th>\n      <td>0.600852</td>\n      <td>0.598675</td>\n    </tr>\n    <tr>\n      <th>2022-04-30</th>\n      <td>0.626976</td>\n      <td>0.622622</td>\n    </tr>\n  </tbody>\n</table>\n</div>"
     },
     "execution_count": 14,
     "metadata": {},
     "output_type": "execute_result"
    }
   ],
   "source": [
    "# 하나의 데이터 프레임으로 합치기\n",
    "\n",
    "portfolio = pd.DataFrame() # 빈 데이터 프레임 생성\n",
    "\n",
    "totalAsset = 1 # 총 자산, 초기값 1\n",
    "start = rebalancingDate[0] # 리밸런싱 날짜, 초기값 첫 투자일\n",
    "\n",
    "for end in rebalancingDate[1:]:\n",
    "    weight = monthlyWeight.loc[start] # 당월 리밸런싱 비율\n",
    "    priceData = closeDataSet.loc[start:end] # 당월 가격 데이터\n",
    "    cumReturn = getCumulativeReturn(priceData) # 당월 누적 수익률\n",
    "    weightedCumReturn = weight * cumReturn # 당월 리밸런싱 비율이 반영된 누적 수익률\n",
    "    netCumReturn = totalAsset * weightedCumReturn # 전월 투자 결과 반영\n",
    "\n",
    "\n",
    "    start = end # start 갱신\n",
    "    totalAsset = netCumReturn.iloc[-1].sum() # 총 자산 갱신\n",
    "    portfolio = pd.concat([portfolio, netCumReturn]) # 매월 데이터 추가\n",
    "\n",
    "portfolio    "
   ],
   "metadata": {
    "collapsed": false,
    "ExecuteTime": {
     "end_time": "2024-03-24T17:04:54.033031Z",
     "start_time": "2024-03-24T17:04:54.020010Z"
    }
   },
   "id": "59ee7f59765676ac",
   "execution_count": 14
  },
  {
   "cell_type": "markdown",
   "source": [
    "**매달 중복되는 데이터를 제거하고, 최종 포트폴리오 누적 수익률을 계산합니다.**"
   ],
   "metadata": {
    "collapsed": false
   },
   "id": "26a725e224990024"
  },
  {
   "cell_type": "code",
   "outputs": [
    {
     "data": {
      "text/plain": "array([False, False, False,  True, False, False, False,  True, False,\n       False, False])"
     },
     "execution_count": 16,
     "metadata": {},
     "output_type": "execute_result"
    }
   ],
   "source": [
    "portfolio.index.duplicated(keep='last')"
   ],
   "metadata": {
    "collapsed": false,
    "ExecuteTime": {
     "end_time": "2024-03-24T17:05:20.458781Z",
     "start_time": "2024-03-24T17:05:20.453811Z"
    }
   },
   "id": "d9f411f9d3df3761",
   "execution_count": 16
  },
  {
   "cell_type": "code",
   "outputs": [
    {
     "data": {
      "text/plain": "            kodex200  kodex10Bond\n2022-01-31  0.500000     0.500000\n2022-02-10  0.700000     0.450000\n2022-02-21  0.600000     0.525000\n2022-02-28  0.562500     0.562500\n2022-03-10  0.511364     0.611413\n2022-03-19  0.613636     0.635870\n2022-03-31  0.574728     0.574728\n2022-04-20  0.600852     0.598675\n2022-04-30  0.626976     0.622622",
      "text/html": "<div>\n<style scoped>\n    .dataframe tbody tr th:only-of-type {\n        vertical-align: middle;\n    }\n\n    .dataframe tbody tr th {\n        vertical-align: top;\n    }\n\n    .dataframe thead th {\n        text-align: right;\n    }\n</style>\n<table border=\"1\" class=\"dataframe\">\n  <thead>\n    <tr style=\"text-align: right;\">\n      <th></th>\n      <th>kodex200</th>\n      <th>kodex10Bond</th>\n    </tr>\n  </thead>\n  <tbody>\n    <tr>\n      <th>2022-01-31</th>\n      <td>0.500000</td>\n      <td>0.500000</td>\n    </tr>\n    <tr>\n      <th>2022-02-10</th>\n      <td>0.700000</td>\n      <td>0.450000</td>\n    </tr>\n    <tr>\n      <th>2022-02-21</th>\n      <td>0.600000</td>\n      <td>0.525000</td>\n    </tr>\n    <tr>\n      <th>2022-02-28</th>\n      <td>0.562500</td>\n      <td>0.562500</td>\n    </tr>\n    <tr>\n      <th>2022-03-10</th>\n      <td>0.511364</td>\n      <td>0.611413</td>\n    </tr>\n    <tr>\n      <th>2022-03-19</th>\n      <td>0.613636</td>\n      <td>0.635870</td>\n    </tr>\n    <tr>\n      <th>2022-03-31</th>\n      <td>0.574728</td>\n      <td>0.574728</td>\n    </tr>\n    <tr>\n      <th>2022-04-20</th>\n      <td>0.600852</td>\n      <td>0.598675</td>\n    </tr>\n    <tr>\n      <th>2022-04-30</th>\n      <td>0.626976</td>\n      <td>0.622622</td>\n    </tr>\n  </tbody>\n</table>\n</div>"
     },
     "execution_count": 17,
     "metadata": {},
     "output_type": "execute_result"
    }
   ],
   "source": [
    "portfolio.loc[~portfolio.index.duplicated(keep='last')]"
   ],
   "metadata": {
    "collapsed": false,
    "ExecuteTime": {
     "end_time": "2024-03-24T17:05:27.569259Z",
     "start_time": "2024-03-24T17:05:27.562254Z"
    }
   },
   "id": "907334caf77f2405",
   "execution_count": 17
  },
  {
   "cell_type": "code",
   "outputs": [],
   "source": [
    "portfolio = portfolio.loc[~portfolio.index.duplicated(keep='last')]"
   ],
   "metadata": {
    "collapsed": false,
    "ExecuteTime": {
     "end_time": "2024-03-24T17:05:34.794619Z",
     "start_time": "2024-03-24T17:05:34.791485Z"
    }
   },
   "id": "b8dd26acd7646512",
   "execution_count": 18
  },
  {
   "cell_type": "code",
   "outputs": [
    {
     "data": {
      "text/plain": "2022-01-31    1.000000\n2022-02-10    1.150000\n2022-02-21    1.125000\n2022-02-28    1.125000\n2022-03-10    1.122777\n2022-03-19    1.249506\n2022-03-31    1.149457\n2022-04-20    1.199528\n2022-04-30    1.249599\ndtype: float64"
     },
     "execution_count": 19,
     "metadata": {},
     "output_type": "execute_result"
    }
   ],
   "source": [
    "portCumReturn = portfolio.sum(axis=1)\n",
    "portCumReturn"
   ],
   "metadata": {
    "collapsed": false,
    "ExecuteTime": {
     "end_time": "2024-03-24T17:05:39.523059Z",
     "start_time": "2024-03-24T17:05:39.517585Z"
    }
   },
   "id": "3b7d100b8412f32",
   "execution_count": 19
  },
  {
   "cell_type": "markdown",
   "source": [
    "#### 리밸런싱 일자 조회, 리밸런싱 포트폴리오 결과 계산 함수화"
   ],
   "metadata": {
    "collapsed": false
   },
   "id": "3f977b847229725f"
  },
  {
   "cell_type": "code",
   "outputs": [],
   "source": [
    "def getRebalancingDate(closeDataSet, period=\"month\"):\n",
    "    \"\"\"\n",
    "    리밸런싱 일자 추출\n",
    "    월별, 분기별, 연별\n",
    "    \"\"\"\n",
    "    data = closeDataSet.copy()\n",
    "    data = pd.DataFrame(data) # 시리즈형 데이터가 들어오더라도 리밸런싱 날짜를 계산하기 위해서는 dataframe으로 변환 해야 함\n",
    "    data.index = pd.to_datetime(data.index)\n",
    "    data['year'] = data.index.year\n",
    "    data['month'] = data.index.month\n",
    "\n",
    "    # 월말 리밸런싱\n",
    "    if period == \"month\":\n",
    "        rebalancingDate = data.drop_duplicates(['year', 'month'], keep=\"last\").index\n",
    "\n",
    "    # 분기말 리밸런싱\n",
    "    if period == \"quarter\":\n",
    "        # 3 6 9 12월 말에 리밸런싱\n",
    "        # np where 같은걸로 3, 6, 9, 12월 데이터만 가져오고\n",
    "        # drop_duplicates keep last\n",
    "        quarter = [3,6,9,12]\n",
    "        data = data.loc[data['month'].isin(quarter)]\n",
    "        rebalancingDate = data.drop_duplicates(['year', 'month'], keep=\"last\").index\n",
    "\n",
    "    # 연말 리밸런싱\n",
    "    if period == \"year\":\n",
    "        rebalancingDate = data.drop_duplicates(['year'], keep=\"last\").index\n",
    "\n",
    "    return rebalancingDate"
   ],
   "metadata": {
    "collapsed": false,
    "ExecuteTime": {
     "end_time": "2024-03-24T17:33:53.743790Z",
     "start_time": "2024-03-24T17:33:53.738051Z"
    }
   },
   "id": "c2f20c22ecff15de",
   "execution_count": 49
  },
  {
   "cell_type": "code",
   "outputs": [],
   "source": [
    "def getRebalancingPortfolioResult(closeDataSet, period = \"month\", weightDf=None):\n",
    "    \"\"\"\n",
    "    리밸런싱 포트폴리오 결과\n",
    "    closeDataSet: 종가 데이터\n",
    "    weight: 포트폴리오 개별자산 비중\n",
    "    return: 포트폴리오 일간수익률, 누적수익률\n",
    "    \"\"\"\n",
    "\n",
    "    # 자산별 비중. 기본값: 동일비중\n",
    "    if weightDf is None:\n",
    "        rebalancingDate = getRebalancingDate(closeDataSet, period) # 리밸런싱 날짜\n",
    "        weightDf = pd.DataFrame([[1/len(closeDataSet.columns)] * len(closeDataSet.columns)] * len(rebalancingDate),\n",
    "                                index=rebalancingDate,\n",
    "                                columns=closeDataSet.columns)\n",
    "    # 자산별 비중이 있는 경우\n",
    "    else:\n",
    "        closeDataSet = closeDataSet.loc[weightDf.index[0]:]\n",
    "        rebalancingDate = getRebalancingDate(closeDataSet, period) # 리밸런싱 날짜\n",
    "\n",
    "    portfolio = pd.DataFrame() # 빈 데이터 프레임 생성\n",
    "\n",
    "    totalAsset = 1 # 총 자산, 초기값 1\n",
    "    start = rebalancingDate[0] # 리밸런싱 날짜, 초기값 첫 투자일\n",
    "\n",
    "    for end in rebalancingDate[1:]:\n",
    "        weight = weightDf.loc[start] # 당월 리밸런싱 비율\n",
    "        priceData = closeDataSet.loc[start:end] # 당월 가격 데이터\n",
    "        cumReturn = getCumulativeReturn(priceData) # 당월 누적 수익률\n",
    "        weightedCumReturn = weight * cumReturn # 당월 리밸런싱 비율이 반영된 누적 수익률\n",
    "        netCumReturn = totalAsset * weightedCumReturn # 전월 투자 결과 반영\n",
    "\n",
    "        start = end # start 갱신\n",
    "        totalAsset = netCumReturn.iloc[-1].sum() # 총 자산 갱신\n",
    "        portfolio = pd.concat([portfolio, netCumReturn]) # 매월 데이터 추가\n",
    "\n",
    "    portfolio = portfolio.loc[~portfolio.index.duplicated(keep='last')] # 중복 데이터 제거\n",
    "    portfolioCumulativeReturn = portfolio.sum(axis=1) # 포트폴리오 누적 수익률\n",
    "    portfolioDayReturn = (portfolioCumulativeReturn / portfolioCumulativeReturn.shift(1)).fillna(1) # 포트폴리오 일간 수익률\n",
    "\n",
    "    return portfolioDayReturn, portfolioCumulativeReturn"
   ],
   "metadata": {
    "collapsed": false,
    "ExecuteTime": {
     "end_time": "2024-03-24T17:34:02.548499Z",
     "start_time": "2024-03-24T17:34:02.541893Z"
    }
   },
   "id": "734e293432af93a",
   "execution_count": 50
  },
  {
   "cell_type": "raw",
   "source": [],
   "metadata": {
    "collapsed": false
   },
   "id": "2ad63c5c489d7b11"
  },
  {
   "cell_type": "markdown",
   "source": [
    "#### 실전 데이터 적용"
   ],
   "metadata": {
    "collapsed": false
   },
   "id": "4544dc7f0299c203"
  },
  {
   "cell_type": "code",
   "outputs": [],
   "source": [
    "# 종가데이터 조회\n",
    "\n",
    "def getCloseData(ticker, startDate, endDate=None):\n",
    "    \"\"\"\n",
    "    종가 데이터\n",
    "    ticker: 종목 번호\n",
    "    start: 시작일\n",
    "    end: 마지막 날짜\n",
    "    return: 종목의 종가 데이터\n",
    "    \"\"\"\n",
    "    return fdr.DataReader(ticker, startDate, endDate)['Close']"
   ],
   "metadata": {
    "collapsed": false,
    "ExecuteTime": {
     "end_time": "2024-03-24T17:06:58.770760Z",
     "start_time": "2024-03-24T17:06:58.767630Z"
    }
   },
   "id": "1ab246ccb32bfd4c",
   "execution_count": 23
  },
  {
   "cell_type": "code",
   "outputs": [
    {
     "data": {
      "text/plain": "              stockETF     bondETF\nDate                              \n2002-07-30   90.940002   81.769997\n2002-07-31   91.160004   82.519997\n2002-08-01   88.779999   82.860001\n2002-08-02   86.790001   83.500000\n2002-08-05   83.769997   83.919998\n...                ...         ...\n2022-06-10  389.799988  100.730003\n2022-06-13  375.000000   98.940002\n2022-06-14  373.869995   98.150002\n2022-06-15  379.200012   99.519997\n2022-06-16  366.649994  100.169998\n\n[5007 rows x 2 columns]",
      "text/html": "<div>\n<style scoped>\n    .dataframe tbody tr th:only-of-type {\n        vertical-align: middle;\n    }\n\n    .dataframe tbody tr th {\n        vertical-align: top;\n    }\n\n    .dataframe thead th {\n        text-align: right;\n    }\n</style>\n<table border=\"1\" class=\"dataframe\">\n  <thead>\n    <tr style=\"text-align: right;\">\n      <th></th>\n      <th>stockETF</th>\n      <th>bondETF</th>\n    </tr>\n    <tr>\n      <th>Date</th>\n      <th></th>\n      <th></th>\n    </tr>\n  </thead>\n  <tbody>\n    <tr>\n      <th>2002-07-30</th>\n      <td>90.940002</td>\n      <td>81.769997</td>\n    </tr>\n    <tr>\n      <th>2002-07-31</th>\n      <td>91.160004</td>\n      <td>82.519997</td>\n    </tr>\n    <tr>\n      <th>2002-08-01</th>\n      <td>88.779999</td>\n      <td>82.860001</td>\n    </tr>\n    <tr>\n      <th>2002-08-02</th>\n      <td>86.790001</td>\n      <td>83.500000</td>\n    </tr>\n    <tr>\n      <th>2002-08-05</th>\n      <td>83.769997</td>\n      <td>83.919998</td>\n    </tr>\n    <tr>\n      <th>...</th>\n      <td>...</td>\n      <td>...</td>\n    </tr>\n    <tr>\n      <th>2022-06-10</th>\n      <td>389.799988</td>\n      <td>100.730003</td>\n    </tr>\n    <tr>\n      <th>2022-06-13</th>\n      <td>375.000000</td>\n      <td>98.940002</td>\n    </tr>\n    <tr>\n      <th>2022-06-14</th>\n      <td>373.869995</td>\n      <td>98.150002</td>\n    </tr>\n    <tr>\n      <th>2022-06-15</th>\n      <td>379.200012</td>\n      <td>99.519997</td>\n    </tr>\n    <tr>\n      <th>2022-06-16</th>\n      <td>366.649994</td>\n      <td>100.169998</td>\n    </tr>\n  </tbody>\n</table>\n<p>5007 rows × 2 columns</p>\n</div>"
     },
     "execution_count": 24,
     "metadata": {},
     "output_type": "execute_result"
    }
   ],
   "source": [
    "# 데이터 로드\n",
    "stockETF = getCloseData(\"SPY\", \"2002\", \"2022-6-17\") # 주식 ETF\n",
    "bondETF = getCloseData(\"IEF\", \"2002\", \"2022-6-17\") # 채권 ETF\n",
    "\n",
    "# kodex200 = 069500\n",
    "# kodex10Bond = 152380\n",
    "# S&P500 = SPY\n",
    "# 미국 7-10 국채 = IEF\n",
    "\n",
    "closeDataSet = pd.concat([stockETF, bondETF], axis=1)\n",
    "closeDataSet.columns = ['stockETF', 'bondETF']\n",
    "closeDataSet.dropna(inplace=True)\n",
    "closeDataSet"
   ],
   "metadata": {
    "collapsed": false,
    "ExecuteTime": {
     "end_time": "2024-03-24T17:07:02.459943Z",
     "start_time": "2024-03-24T17:07:00.570381Z"
    }
   },
   "id": "63d0a5feaa100bb9",
   "execution_count": 24
  },
  {
   "cell_type": "code",
   "outputs": [
    {
     "data": {
      "text/plain": "DatetimeIndex(['2002-12-31', '2003-12-31', '2004-12-31', '2005-12-30',\n               '2006-12-29', '2007-12-31', '2008-12-31', '2009-12-31',\n               '2010-12-31', '2011-12-30', '2012-12-31', '2013-12-31',\n               '2014-12-31', '2015-12-31', '2016-12-30', '2017-12-29',\n               '2018-12-31', '2019-12-31', '2020-12-31', '2021-12-31',\n               '2022-06-16'],\n              dtype='datetime64[ns]', name='Date', freq=None)"
     },
     "execution_count": 25,
     "metadata": {},
     "output_type": "execute_result"
    }
   ],
   "source": [
    "rebalancingDate = getRebalancingDate(closeDataSet, 'year')\n",
    "rebalancingDate"
   ],
   "metadata": {
    "collapsed": false,
    "ExecuteTime": {
     "end_time": "2024-03-24T17:07:11.855159Z",
     "start_time": "2024-03-24T17:07:11.845112Z"
    }
   },
   "id": "85dd4b1b7fe94191",
   "execution_count": 25
  },
  {
   "cell_type": "code",
   "outputs": [
    {
     "data": {
      "text/plain": "            stockETF  bondETF\nDate                         \n2002-12-31       0.7      0.3\n2003-12-31       0.7      0.3\n2004-12-31       0.7      0.3\n2005-12-30       0.7      0.3\n2006-12-29       0.7      0.3\n2007-12-31       0.7      0.3\n2008-12-31       0.7      0.3\n2009-12-31       0.7      0.3\n2010-12-31       0.7      0.3\n2011-12-30       0.7      0.3\n2012-12-31       0.7      0.3\n2013-12-31       0.7      0.3\n2014-12-31       0.7      0.3\n2015-12-31       0.7      0.3\n2016-12-30       0.7      0.3\n2017-12-29       0.7      0.3\n2018-12-31       0.7      0.3\n2019-12-31       0.7      0.3\n2020-12-31       0.7      0.3\n2021-12-31       0.7      0.3\n2022-06-16       0.7      0.3",
      "text/html": "<div>\n<style scoped>\n    .dataframe tbody tr th:only-of-type {\n        vertical-align: middle;\n    }\n\n    .dataframe tbody tr th {\n        vertical-align: top;\n    }\n\n    .dataframe thead th {\n        text-align: right;\n    }\n</style>\n<table border=\"1\" class=\"dataframe\">\n  <thead>\n    <tr style=\"text-align: right;\">\n      <th></th>\n      <th>stockETF</th>\n      <th>bondETF</th>\n    </tr>\n    <tr>\n      <th>Date</th>\n      <th></th>\n      <th></th>\n    </tr>\n  </thead>\n  <tbody>\n    <tr>\n      <th>2002-12-31</th>\n      <td>0.7</td>\n      <td>0.3</td>\n    </tr>\n    <tr>\n      <th>2003-12-31</th>\n      <td>0.7</td>\n      <td>0.3</td>\n    </tr>\n    <tr>\n      <th>2004-12-31</th>\n      <td>0.7</td>\n      <td>0.3</td>\n    </tr>\n    <tr>\n      <th>2005-12-30</th>\n      <td>0.7</td>\n      <td>0.3</td>\n    </tr>\n    <tr>\n      <th>2006-12-29</th>\n      <td>0.7</td>\n      <td>0.3</td>\n    </tr>\n    <tr>\n      <th>2007-12-31</th>\n      <td>0.7</td>\n      <td>0.3</td>\n    </tr>\n    <tr>\n      <th>2008-12-31</th>\n      <td>0.7</td>\n      <td>0.3</td>\n    </tr>\n    <tr>\n      <th>2009-12-31</th>\n      <td>0.7</td>\n      <td>0.3</td>\n    </tr>\n    <tr>\n      <th>2010-12-31</th>\n      <td>0.7</td>\n      <td>0.3</td>\n    </tr>\n    <tr>\n      <th>2011-12-30</th>\n      <td>0.7</td>\n      <td>0.3</td>\n    </tr>\n    <tr>\n      <th>2012-12-31</th>\n      <td>0.7</td>\n      <td>0.3</td>\n    </tr>\n    <tr>\n      <th>2013-12-31</th>\n      <td>0.7</td>\n      <td>0.3</td>\n    </tr>\n    <tr>\n      <th>2014-12-31</th>\n      <td>0.7</td>\n      <td>0.3</td>\n    </tr>\n    <tr>\n      <th>2015-12-31</th>\n      <td>0.7</td>\n      <td>0.3</td>\n    </tr>\n    <tr>\n      <th>2016-12-30</th>\n      <td>0.7</td>\n      <td>0.3</td>\n    </tr>\n    <tr>\n      <th>2017-12-29</th>\n      <td>0.7</td>\n      <td>0.3</td>\n    </tr>\n    <tr>\n      <th>2018-12-31</th>\n      <td>0.7</td>\n      <td>0.3</td>\n    </tr>\n    <tr>\n      <th>2019-12-31</th>\n      <td>0.7</td>\n      <td>0.3</td>\n    </tr>\n    <tr>\n      <th>2020-12-31</th>\n      <td>0.7</td>\n      <td>0.3</td>\n    </tr>\n    <tr>\n      <th>2021-12-31</th>\n      <td>0.7</td>\n      <td>0.3</td>\n    </tr>\n    <tr>\n      <th>2022-06-16</th>\n      <td>0.7</td>\n      <td>0.3</td>\n    </tr>\n  </tbody>\n</table>\n</div>"
     },
     "execution_count": 26,
     "metadata": {},
     "output_type": "execute_result"
    }
   ],
   "source": [
    "# weightDf를 전달하지 않으면 동일 비중 리밸런싱\n",
    "weightDf = pd.DataFrame([[0.7, 0.3]] * len(rebalancingDate),\n",
    "                        index=rebalancingDate,\n",
    "                        columns=closeDataSet.columns)\n",
    "weightDf"
   ],
   "metadata": {
    "collapsed": false,
    "ExecuteTime": {
     "end_time": "2024-03-24T17:07:19.048397Z",
     "start_time": "2024-03-24T17:07:19.039288Z"
    }
   },
   "id": "89c4f937695863a9",
   "execution_count": 26
  },
  {
   "cell_type": "code",
   "outputs": [],
   "source": [
    "# weightDf를 전달하지 않으면 동일 비중 리밸런싱\n",
    "rebalPortfolioDayReturn, rebalPortfolioCumulativeReturn = getRebalancingPortfolioResult(closeDataSet, weightDf=weightDf)"
   ],
   "metadata": {
    "collapsed": false,
    "ExecuteTime": {
     "end_time": "2024-03-24T17:10:33.151249Z",
     "start_time": "2024-03-24T17:10:33.125926Z"
    }
   },
   "id": "806e8de49789437f",
   "execution_count": 36
  },
  {
   "cell_type": "markdown",
   "source": [
    "### 주식 채권 1:1 B&H 전략 결과 계산"
   ],
   "metadata": {
    "collapsed": false
   },
   "id": "9f0b410ba9ebe648"
  },
  {
   "cell_type": "code",
   "outputs": [],
   "source": [
    "portfolioDayReturn, portfolioCumulativeReturn = getPortfolioResult(closeDataSet.loc[rebalancingDate[0]:])"
   ],
   "metadata": {
    "collapsed": false,
    "ExecuteTime": {
     "end_time": "2024-03-24T17:10:56.107623Z",
     "start_time": "2024-03-24T17:10:56.101737Z"
    }
   },
   "id": "bfc848ad4004e16e",
   "execution_count": 37
  },
  {
   "cell_type": "markdown",
   "source": [
    "### 주식 100% B&H 전략 결과 계산"
   ],
   "metadata": {
    "collapsed": false
   },
   "id": "6cf0972a86be7fc4"
  },
  {
   "cell_type": "code",
   "outputs": [],
   "source": [
    "stockDayReturn = getDayReturn(stockETF.loc[rebalancingDate[0]:])\n",
    "stockCumReturn = getCumulativeReturn(stockETF.loc[rebalancingDate[0]:])"
   ],
   "metadata": {
    "collapsed": false,
    "ExecuteTime": {
     "end_time": "2024-03-24T17:11:07.972393Z",
     "start_time": "2024-03-24T17:11:07.968280Z"
    }
   },
   "id": "b612f956c22febdf",
   "execution_count": 38
  },
  {
   "cell_type": "markdown",
   "source": [],
   "metadata": {
    "collapsed": false
   },
   "id": "8fac010981ac387c"
  },
  {
   "cell_type": "markdown",
   "source": [
    "## 전략 성과 비교"
   ],
   "metadata": {
    "collapsed": false
   },
   "id": "3a37614f58bfb75c"
  },
  {
   "cell_type": "code",
   "outputs": [
    {
     "name": "stdout",
     "output_type": "stream",
     "text": [
      "리밸런싱 포트폴리오 누적 수익률\n",
      "3.115497470061628\n",
      "최종 수익률: 3.115497470061628\n",
      "cagr: 1.060184399384172\n",
      "mdd: 39.18266639460143\n"
     ]
    }
   ],
   "source": [
    "print(\"리밸런싱 포트폴리오 누적 수익률\")\n",
    "print(rebalPortfolioCumulativeReturn.iloc[-1])\n",
    "rebalCagr, rebalDD, rebalMDD = getEvaluation(rebalPortfolioCumulativeReturn)"
   ],
   "metadata": {
    "collapsed": false,
    "ExecuteTime": {
     "end_time": "2024-03-24T17:11:12.524634Z",
     "start_time": "2024-03-24T17:11:12.519823Z"
    }
   },
   "id": "2ec9eb6f9878e7fc",
   "execution_count": 39
  },
  {
   "cell_type": "code",
   "outputs": [
    {
     "name": "stdout",
     "output_type": "stream",
     "text": [
      "Buy & Hold 포트폴리오 누적 수익률\n",
      "2.6591775760619925\n",
      "최종 수익률: 2.6591775760619925\n",
      "cagr: 1.0515844340893614\n",
      "mdd: 31.778321350696704\n"
     ]
    }
   ],
   "source": [
    "print(\"Buy & Hold 포트폴리오 누적 수익률\")\n",
    "print(portfolioCumulativeReturn.iloc[-1])\n",
    "cagr, dd, mdd = getEvaluation(portfolioCumulativeReturn)"
   ],
   "metadata": {
    "collapsed": false,
    "ExecuteTime": {
     "end_time": "2024-03-24T17:11:52.335573Z",
     "start_time": "2024-03-24T17:11:52.331584Z"
    }
   },
   "id": "b016df0e107c090e",
   "execution_count": 41
  },
  {
   "cell_type": "code",
   "outputs": [
    {
     "name": "stdout",
     "output_type": "stream",
     "text": [
      "주식 100% 포트폴리오 누적 수익률\n",
      "4.155615794323389\n",
      "최종 수익률: 4.155615794323389\n",
      "cagr: 1.076008084184538\n",
      "mdd: 56.473669004950644\n"
     ]
    }
   ],
   "source": [
    "print(\"주식 100% 포트폴리오 누적 수익률\")\n",
    "print(stockCumReturn.iloc[-1])\n",
    "stockCagr, stockDd, stockMdd = getEvaluation(stockCumReturn)"
   ],
   "metadata": {
    "collapsed": false,
    "ExecuteTime": {
     "end_time": "2024-03-24T17:12:20.417250Z",
     "start_time": "2024-03-24T17:12:20.412705Z"
    }
   },
   "id": "b493a88b9acdddc0",
   "execution_count": 43
  },
  {
   "cell_type": "code",
   "outputs": [
    {
     "data": {
      "text/plain": "<Figure size 2000x800 with 2 Axes>",
      "image/png": "[encoded data removed]"
     },
     "metadata": {},
     "output_type": "display_data"
    }
   ],
   "source": [
    "plt.rc('font', family='malgun gothic')\n",
    "plt.rcParams['axes.unicode_minus'] = False\n",
    "plt.figure(figsize=(20,8))\n",
    "\n",
    "# 수익곡선\n",
    "plt.subplot(2,1,1)\n",
    "rebalPortfolioCumulativeReturn.plot(label=\"리밸런싱\")\n",
    "portfolioCumulativeReturn.plot(label=\"buy&hold\")\n",
    "stockCumReturn.plot(label=\"stock only\")\n",
    "plt.legend()\n",
    "\n",
    "# dd 곡선\n",
    "plt.subplot(2,1,2)\n",
    "plt.plot(-rebalDD, label=\"리밸런싱 DD\")\n",
    "plt.plot(-dd, label=\"buy&hold DD\")\n",
    "plt.plot(-stockDd, label=\"주식 100% DD\")\n",
    "plt.legend()\n",
    "\n",
    "plt.show()"
   ],
   "metadata": {
    "collapsed": false,
    "ExecuteTime": {
     "end_time": "2024-03-24T17:12:22.656637Z",
     "start_time": "2024-03-24T17:12:22.007080Z"
    }
   },
   "id": "e743958e258515ab",
   "execution_count": 44
  },
  {
   "cell_type": "code",
   "outputs": [],
   "source": [],
   "metadata": {
    "collapsed": false
   },
   "id": "40fdbff3cab9713"
  }
 ],
 "metadata": {
  "kernelspec": {
   "display_name": "Python 3",
   "language": "python",
   "name": "python3"
  },
  "language_info": {
   "codemirror_mode": {
    "name": "ipython",
    "version": 2
   },
   "file_extension": ".py",
   "mimetype": "text/x-python",
   "name": "python",
   "nbconvert_exporter": "python",
   "pygments_lexer": "ipython2",
   "version": "2.7.6"
  }
 },
 "nbformat": 4,
 "nbformat_minor": 5
}
